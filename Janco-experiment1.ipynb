{
 "cells": [
  {
   "cell_type": "code",
   "execution_count": 99,
   "metadata": {},
   "outputs": [],
   "source": [
    "import pandas as pd \n",
    "from prozhito_app.models import Entry"
   ]
  },
  {
   "cell_type": "code",
   "execution_count": 100,
   "metadata": {},
   "outputs": [],
   "source": [
    "def remove_all(list_, key):\n",
    "    a = True\n",
    "    while a is True:\n",
    "        try:\n",
    "            list_.remove(key)\n",
    "        except ValueError:\n",
    "            a = False\n",
    "    "
   ]
  },
  {
   "cell_type": "code",
   "execution_count": 101,
   "metadata": {},
   "outputs": [],
   "source": [
    "from prozhito_app.models import Entry\n",
    "from django.db.models import Q \n",
    "keys = []\n",
    "entries = Entry.objects.filter(~Q(keywords=None))\n",
    "for entry in entries:\n",
    "    keywords = entry.keywords.all()\n",
    "    for keyword in keywords:\n",
    "        keys.append(keyword.name)\n",
    "\n",
    "remove_all(keys, '#collection11')\n",
    "remove_all(keys, '#collection5')\n",
    "remove_all(keys, '#collection4')\n",
    "remove_all(keys, '#collection3')\n",
    "remove_all(keys, '#collection2')\n",
    "\n",
    "\n",
    "\n",
    "c = Counter(keys)"
   ]
  },
  {
   "cell_type": "code",
   "execution_count": 102,
   "metadata": {},
   "outputs": [
    {
     "data": {
      "text/plain": [
       "[('Красная пасха', 217),\n",
       " (' #подборка.НГ', 64),\n",
       " ('#подборка.Самоубийства советского времен', 50),\n",
       " ('Смерть Сталина', 41),\n",
       " ('Советское Рождество', 36),\n",
       " ('Киров убит!', 25),\n",
       " ('#подборка.Начало учебного года', 24),\n",
       " ('Спитакское землетрясение', 21),\n",
       " ('Николай Романов расстрелян', 20),\n",
       " ('Юбилеи Сталина', 16),\n",
       " ('Кинорецензия', 15),\n",
       " ('#подборка.Конец лета', 8),\n",
       " ('приём в партию', 4),\n",
       " ('Венгерское восстание 1956 г.', 4),\n",
       " ('отправка на фронт', 3),\n",
       " ('жизнь мыкал беды', 1),\n",
       " ('Убийство Кирова', 1)]"
      ]
     },
     "execution_count": 102,
     "metadata": {},
     "output_type": "execute_result"
    }
   ],
   "source": [
    "c.most_common(1000)"
   ]
  },
  {
   "cell_type": "code",
   "execution_count": 103,
   "metadata": {},
   "outputs": [
    {
     "data": {
      "application/vnd.plotly.v1+json": {
       "config": {
        "plotlyServerURL": "https://plot.ly"
       },
       "data": [
        {
         "hoverlabel": {
          "namelength": 0
         },
         "hovertemplate": "event=%{x}<br>count=%{y}",
         "legendgroup": "",
         "marker": {
          "color": "#636efa",
          "symbol": "circle"
         },
         "mode": "markers",
         "name": "",
         "showlegend": false,
         "type": "scatter",
         "x": [
          " #подборка.НГ",
          "Красная пасха",
          "Спитакское землетрясение",
          "Смерть Сталина",
          "Юбилеи Сталина",
          "Киров убит!",
          "Николай Романов расстрелян",
          "Советское Рождество",
          "#подборка.Конец лета",
          "#подборка.Начало учебного года",
          "#подборка.Самоубийства советского времен",
          "Кинорецензия",
          "жизнь мыкал беды",
          "приём в партию",
          "отправка на фронт",
          "Венгерское восстание 1956 г.",
          "Убийство Кирова"
         ],
         "xaxis": "x",
         "y": [
          64,
          217,
          21,
          41,
          16,
          25,
          20,
          36,
          8,
          24,
          50,
          15,
          1,
          4,
          3,
          4,
          1
         ],
         "yaxis": "y"
        }
       ],
       "layout": {
        "height": 600,
        "legend": {
         "tracegroupgap": 0
        },
        "margin": {
         "t": 60
        },
        "template": {
         "data": {
          "bar": [
           {
            "error_x": {
             "color": "#2a3f5f"
            },
            "error_y": {
             "color": "#2a3f5f"
            },
            "marker": {
             "line": {
              "color": "#E5ECF6",
              "width": 0.5
             }
            },
            "type": "bar"
           }
          ],
          "barpolar": [
           {
            "marker": {
             "line": {
              "color": "#E5ECF6",
              "width": 0.5
             }
            },
            "type": "barpolar"
           }
          ],
          "carpet": [
           {
            "aaxis": {
             "endlinecolor": "#2a3f5f",
             "gridcolor": "white",
             "linecolor": "white",
             "minorgridcolor": "white",
             "startlinecolor": "#2a3f5f"
            },
            "baxis": {
             "endlinecolor": "#2a3f5f",
             "gridcolor": "white",
             "linecolor": "white",
             "minorgridcolor": "white",
             "startlinecolor": "#2a3f5f"
            },
            "type": "carpet"
           }
          ],
          "choropleth": [
           {
            "colorbar": {
             "outlinewidth": 0,
             "ticks": ""
            },
            "type": "choropleth"
           }
          ],
          "contour": [
           {
            "colorbar": {
             "outlinewidth": 0,
             "ticks": ""
            },
            "colorscale": [
             [
              0,
              "#0d0887"
             ],
             [
              0.1111111111111111,
              "#46039f"
             ],
             [
              0.2222222222222222,
              "#7201a8"
             ],
             [
              0.3333333333333333,
              "#9c179e"
             ],
             [
              0.4444444444444444,
              "#bd3786"
             ],
             [
              0.5555555555555556,
              "#d8576b"
             ],
             [
              0.6666666666666666,
              "#ed7953"
             ],
             [
              0.7777777777777778,
              "#fb9f3a"
             ],
             [
              0.8888888888888888,
              "#fdca26"
             ],
             [
              1,
              "#f0f921"
             ]
            ],
            "type": "contour"
           }
          ],
          "contourcarpet": [
           {
            "colorbar": {
             "outlinewidth": 0,
             "ticks": ""
            },
            "type": "contourcarpet"
           }
          ],
          "heatmap": [
           {
            "colorbar": {
             "outlinewidth": 0,
             "ticks": ""
            },
            "colorscale": [
             [
              0,
              "#0d0887"
             ],
             [
              0.1111111111111111,
              "#46039f"
             ],
             [
              0.2222222222222222,
              "#7201a8"
             ],
             [
              0.3333333333333333,
              "#9c179e"
             ],
             [
              0.4444444444444444,
              "#bd3786"
             ],
             [
              0.5555555555555556,
              "#d8576b"
             ],
             [
              0.6666666666666666,
              "#ed7953"
             ],
             [
              0.7777777777777778,
              "#fb9f3a"
             ],
             [
              0.8888888888888888,
              "#fdca26"
             ],
             [
              1,
              "#f0f921"
             ]
            ],
            "type": "heatmap"
           }
          ],
          "heatmapgl": [
           {
            "colorbar": {
             "outlinewidth": 0,
             "ticks": ""
            },
            "colorscale": [
             [
              0,
              "#0d0887"
             ],
             [
              0.1111111111111111,
              "#46039f"
             ],
             [
              0.2222222222222222,
              "#7201a8"
             ],
             [
              0.3333333333333333,
              "#9c179e"
             ],
             [
              0.4444444444444444,
              "#bd3786"
             ],
             [
              0.5555555555555556,
              "#d8576b"
             ],
             [
              0.6666666666666666,
              "#ed7953"
             ],
             [
              0.7777777777777778,
              "#fb9f3a"
             ],
             [
              0.8888888888888888,
              "#fdca26"
             ],
             [
              1,
              "#f0f921"
             ]
            ],
            "type": "heatmapgl"
           }
          ],
          "histogram": [
           {
            "marker": {
             "colorbar": {
              "outlinewidth": 0,
              "ticks": ""
             }
            },
            "type": "histogram"
           }
          ],
          "histogram2d": [
           {
            "colorbar": {
             "outlinewidth": 0,
             "ticks": ""
            },
            "colorscale": [
             [
              0,
              "#0d0887"
             ],
             [
              0.1111111111111111,
              "#46039f"
             ],
             [
              0.2222222222222222,
              "#7201a8"
             ],
             [
              0.3333333333333333,
              "#9c179e"
             ],
             [
              0.4444444444444444,
              "#bd3786"
             ],
             [
              0.5555555555555556,
              "#d8576b"
             ],
             [
              0.6666666666666666,
              "#ed7953"
             ],
             [
              0.7777777777777778,
              "#fb9f3a"
             ],
             [
              0.8888888888888888,
              "#fdca26"
             ],
             [
              1,
              "#f0f921"
             ]
            ],
            "type": "histogram2d"
           }
          ],
          "histogram2dcontour": [
           {
            "colorbar": {
             "outlinewidth": 0,
             "ticks": ""
            },
            "colorscale": [
             [
              0,
              "#0d0887"
             ],
             [
              0.1111111111111111,
              "#46039f"
             ],
             [
              0.2222222222222222,
              "#7201a8"
             ],
             [
              0.3333333333333333,
              "#9c179e"
             ],
             [
              0.4444444444444444,
              "#bd3786"
             ],
             [
              0.5555555555555556,
              "#d8576b"
             ],
             [
              0.6666666666666666,
              "#ed7953"
             ],
             [
              0.7777777777777778,
              "#fb9f3a"
             ],
             [
              0.8888888888888888,
              "#fdca26"
             ],
             [
              1,
              "#f0f921"
             ]
            ],
            "type": "histogram2dcontour"
           }
          ],
          "mesh3d": [
           {
            "colorbar": {
             "outlinewidth": 0,
             "ticks": ""
            },
            "type": "mesh3d"
           }
          ],
          "parcoords": [
           {
            "line": {
             "colorbar": {
              "outlinewidth": 0,
              "ticks": ""
             }
            },
            "type": "parcoords"
           }
          ],
          "scatter": [
           {
            "marker": {
             "colorbar": {
              "outlinewidth": 0,
              "ticks": ""
             }
            },
            "type": "scatter"
           }
          ],
          "scatter3d": [
           {
            "line": {
             "colorbar": {
              "outlinewidth": 0,
              "ticks": ""
             }
            },
            "marker": {
             "colorbar": {
              "outlinewidth": 0,
              "ticks": ""
             }
            },
            "type": "scatter3d"
           }
          ],
          "scattercarpet": [
           {
            "marker": {
             "colorbar": {
              "outlinewidth": 0,
              "ticks": ""
             }
            },
            "type": "scattercarpet"
           }
          ],
          "scattergeo": [
           {
            "marker": {
             "colorbar": {
              "outlinewidth": 0,
              "ticks": ""
             }
            },
            "type": "scattergeo"
           }
          ],
          "scattergl": [
           {
            "marker": {
             "colorbar": {
              "outlinewidth": 0,
              "ticks": ""
             }
            },
            "type": "scattergl"
           }
          ],
          "scattermapbox": [
           {
            "marker": {
             "colorbar": {
              "outlinewidth": 0,
              "ticks": ""
             }
            },
            "type": "scattermapbox"
           }
          ],
          "scatterpolar": [
           {
            "marker": {
             "colorbar": {
              "outlinewidth": 0,
              "ticks": ""
             }
            },
            "type": "scatterpolar"
           }
          ],
          "scatterpolargl": [
           {
            "marker": {
             "colorbar": {
              "outlinewidth": 0,
              "ticks": ""
             }
            },
            "type": "scatterpolargl"
           }
          ],
          "scatterternary": [
           {
            "marker": {
             "colorbar": {
              "outlinewidth": 0,
              "ticks": ""
             }
            },
            "type": "scatterternary"
           }
          ],
          "surface": [
           {
            "colorbar": {
             "outlinewidth": 0,
             "ticks": ""
            },
            "colorscale": [
             [
              0,
              "#0d0887"
             ],
             [
              0.1111111111111111,
              "#46039f"
             ],
             [
              0.2222222222222222,
              "#7201a8"
             ],
             [
              0.3333333333333333,
              "#9c179e"
             ],
             [
              0.4444444444444444,
              "#bd3786"
             ],
             [
              0.5555555555555556,
              "#d8576b"
             ],
             [
              0.6666666666666666,
              "#ed7953"
             ],
             [
              0.7777777777777778,
              "#fb9f3a"
             ],
             [
              0.8888888888888888,
              "#fdca26"
             ],
             [
              1,
              "#f0f921"
             ]
            ],
            "type": "surface"
           }
          ],
          "table": [
           {
            "cells": {
             "fill": {
              "color": "#EBF0F8"
             },
             "line": {
              "color": "white"
             }
            },
            "header": {
             "fill": {
              "color": "#C8D4E3"
             },
             "line": {
              "color": "white"
             }
            },
            "type": "table"
           }
          ]
         },
         "layout": {
          "annotationdefaults": {
           "arrowcolor": "#2a3f5f",
           "arrowhead": 0,
           "arrowwidth": 1
          },
          "colorscale": {
           "diverging": [
            [
             0,
             "#8e0152"
            ],
            [
             0.1,
             "#c51b7d"
            ],
            [
             0.2,
             "#de77ae"
            ],
            [
             0.3,
             "#f1b6da"
            ],
            [
             0.4,
             "#fde0ef"
            ],
            [
             0.5,
             "#f7f7f7"
            ],
            [
             0.6,
             "#e6f5d0"
            ],
            [
             0.7,
             "#b8e186"
            ],
            [
             0.8,
             "#7fbc41"
            ],
            [
             0.9,
             "#4d9221"
            ],
            [
             1,
             "#276419"
            ]
           ],
           "sequential": [
            [
             0,
             "#0d0887"
            ],
            [
             0.1111111111111111,
             "#46039f"
            ],
            [
             0.2222222222222222,
             "#7201a8"
            ],
            [
             0.3333333333333333,
             "#9c179e"
            ],
            [
             0.4444444444444444,
             "#bd3786"
            ],
            [
             0.5555555555555556,
             "#d8576b"
            ],
            [
             0.6666666666666666,
             "#ed7953"
            ],
            [
             0.7777777777777778,
             "#fb9f3a"
            ],
            [
             0.8888888888888888,
             "#fdca26"
            ],
            [
             1,
             "#f0f921"
            ]
           ],
           "sequentialminus": [
            [
             0,
             "#0d0887"
            ],
            [
             0.1111111111111111,
             "#46039f"
            ],
            [
             0.2222222222222222,
             "#7201a8"
            ],
            [
             0.3333333333333333,
             "#9c179e"
            ],
            [
             0.4444444444444444,
             "#bd3786"
            ],
            [
             0.5555555555555556,
             "#d8576b"
            ],
            [
             0.6666666666666666,
             "#ed7953"
            ],
            [
             0.7777777777777778,
             "#fb9f3a"
            ],
            [
             0.8888888888888888,
             "#fdca26"
            ],
            [
             1,
             "#f0f921"
            ]
           ]
          },
          "colorway": [
           "#636efa",
           "#EF553B",
           "#00cc96",
           "#ab63fa",
           "#FFA15A",
           "#19d3f3",
           "#FF6692",
           "#B6E880",
           "#FF97FF",
           "#FECB52"
          ],
          "font": {
           "color": "#2a3f5f"
          },
          "geo": {
           "bgcolor": "white",
           "lakecolor": "white",
           "landcolor": "#E5ECF6",
           "showlakes": true,
           "showland": true,
           "subunitcolor": "white"
          },
          "hoverlabel": {
           "align": "left"
          },
          "hovermode": "closest",
          "mapbox": {
           "style": "light"
          },
          "paper_bgcolor": "white",
          "plot_bgcolor": "#E5ECF6",
          "polar": {
           "angularaxis": {
            "gridcolor": "white",
            "linecolor": "white",
            "ticks": ""
           },
           "bgcolor": "#E5ECF6",
           "radialaxis": {
            "gridcolor": "white",
            "linecolor": "white",
            "ticks": ""
           }
          },
          "scene": {
           "xaxis": {
            "backgroundcolor": "#E5ECF6",
            "gridcolor": "white",
            "gridwidth": 2,
            "linecolor": "white",
            "showbackground": true,
            "ticks": "",
            "zerolinecolor": "white"
           },
           "yaxis": {
            "backgroundcolor": "#E5ECF6",
            "gridcolor": "white",
            "gridwidth": 2,
            "linecolor": "white",
            "showbackground": true,
            "ticks": "",
            "zerolinecolor": "white"
           },
           "zaxis": {
            "backgroundcolor": "#E5ECF6",
            "gridcolor": "white",
            "gridwidth": 2,
            "linecolor": "white",
            "showbackground": true,
            "ticks": "",
            "zerolinecolor": "white"
           }
          },
          "shapedefaults": {
           "line": {
            "color": "#2a3f5f"
           }
          },
          "ternary": {
           "aaxis": {
            "gridcolor": "white",
            "linecolor": "white",
            "ticks": ""
           },
           "baxis": {
            "gridcolor": "white",
            "linecolor": "white",
            "ticks": ""
           },
           "bgcolor": "#E5ECF6",
           "caxis": {
            "gridcolor": "white",
            "linecolor": "white",
            "ticks": ""
           }
          },
          "title": {
           "x": 0.05
          },
          "xaxis": {
           "automargin": true,
           "gridcolor": "white",
           "linecolor": "white",
           "ticks": "",
           "zerolinecolor": "white",
           "zerolinewidth": 2
          },
          "yaxis": {
           "automargin": true,
           "gridcolor": "white",
           "linecolor": "white",
           "ticks": "",
           "zerolinecolor": "white",
           "zerolinewidth": 2
          }
         }
        },
        "xaxis": {
         "anchor": "y",
         "domain": [
          0,
          0.98
         ],
         "title": {
          "text": "event"
         }
        },
        "yaxis": {
         "anchor": "x",
         "domain": [
          0,
          1
         ],
         "title": {
          "text": "count"
         }
        }
       }
      },
      "text/html": [
       "<div>\n",
       "        \n",
       "        \n",
       "            <div id=\"10ed1db2-ef1d-4b23-b372-a491ea8649a3\" class=\"plotly-graph-div\" style=\"height:600px; width:100%;\"></div>\n",
       "            <script type=\"text/javascript\">\n",
       "                require([\"plotly\"], function(Plotly) {\n",
       "                    window.PLOTLYENV=window.PLOTLYENV || {};\n",
       "                    \n",
       "                if (document.getElementById(\"10ed1db2-ef1d-4b23-b372-a491ea8649a3\")) {\n",
       "                    Plotly.newPlot(\n",
       "                        '10ed1db2-ef1d-4b23-b372-a491ea8649a3',\n",
       "                        [{\"hoverlabel\": {\"namelength\": 0}, \"hovertemplate\": \"event=%{x}<br>count=%{y}\", \"legendgroup\": \"\", \"marker\": {\"color\": \"#636efa\", \"symbol\": \"circle\"}, \"mode\": \"markers\", \"name\": \"\", \"showlegend\": false, \"type\": \"scatter\", \"x\": [\" #\\u043f\\u043e\\u0434\\u0431\\u043e\\u0440\\u043a\\u0430.\\u041d\\u0413\", \"\\u041a\\u0440\\u0430\\u0441\\u043d\\u0430\\u044f \\u043f\\u0430\\u0441\\u0445\\u0430\", \"\\u0421\\u043f\\u0438\\u0442\\u0430\\u043a\\u0441\\u043a\\u043e\\u0435 \\u0437\\u0435\\u043c\\u043b\\u0435\\u0442\\u0440\\u044f\\u0441\\u0435\\u043d\\u0438\\u0435\", \"\\u0421\\u043c\\u0435\\u0440\\u0442\\u044c \\u0421\\u0442\\u0430\\u043b\\u0438\\u043d\\u0430\", \"\\u042e\\u0431\\u0438\\u043b\\u0435\\u0438 \\u0421\\u0442\\u0430\\u043b\\u0438\\u043d\\u0430\", \"\\u041a\\u0438\\u0440\\u043e\\u0432 \\u0443\\u0431\\u0438\\u0442!\", \"\\u041d\\u0438\\u043a\\u043e\\u043b\\u0430\\u0439 \\u0420\\u043e\\u043c\\u0430\\u043d\\u043e\\u0432 \\u0440\\u0430\\u0441\\u0441\\u0442\\u0440\\u0435\\u043b\\u044f\\u043d\", \"\\u0421\\u043e\\u0432\\u0435\\u0442\\u0441\\u043a\\u043e\\u0435 \\u0420\\u043e\\u0436\\u0434\\u0435\\u0441\\u0442\\u0432\\u043e\", \"#\\u043f\\u043e\\u0434\\u0431\\u043e\\u0440\\u043a\\u0430.\\u041a\\u043e\\u043d\\u0435\\u0446 \\u043b\\u0435\\u0442\\u0430\", \"#\\u043f\\u043e\\u0434\\u0431\\u043e\\u0440\\u043a\\u0430.\\u041d\\u0430\\u0447\\u0430\\u043b\\u043e \\u0443\\u0447\\u0435\\u0431\\u043d\\u043e\\u0433\\u043e \\u0433\\u043e\\u0434\\u0430\", \"#\\u043f\\u043e\\u0434\\u0431\\u043e\\u0440\\u043a\\u0430.\\u0421\\u0430\\u043c\\u043e\\u0443\\u0431\\u0438\\u0439\\u0441\\u0442\\u0432\\u0430 \\u0441\\u043e\\u0432\\u0435\\u0442\\u0441\\u043a\\u043e\\u0433\\u043e \\u0432\\u0440\\u0435\\u043c\\u0435\\u043d\", \"\\u041a\\u0438\\u043d\\u043e\\u0440\\u0435\\u0446\\u0435\\u043d\\u0437\\u0438\\u044f\", \"\\u0436\\u0438\\u0437\\u043d\\u044c \\u043c\\u044b\\u043a\\u0430\\u043b \\u0431\\u0435\\u0434\\u044b\", \"\\u043f\\u0440\\u0438\\u0451\\u043c \\u0432 \\u043f\\u0430\\u0440\\u0442\\u0438\\u044e\", \"\\u043e\\u0442\\u043f\\u0440\\u0430\\u0432\\u043a\\u0430 \\u043d\\u0430 \\u0444\\u0440\\u043e\\u043d\\u0442\", \"\\u0412\\u0435\\u043d\\u0433\\u0435\\u0440\\u0441\\u043a\\u043e\\u0435 \\u0432\\u043e\\u0441\\u0441\\u0442\\u0430\\u043d\\u0438\\u0435 1956 \\u0433.\", \"\\u0423\\u0431\\u0438\\u0439\\u0441\\u0442\\u0432\\u043e \\u041a\\u0438\\u0440\\u043e\\u0432\\u0430\"], \"xaxis\": \"x\", \"y\": [64, 217, 21, 41, 16, 25, 20, 36, 8, 24, 50, 15, 1, 4, 3, 4, 1], \"yaxis\": \"y\"}],\n",
       "                        {\"height\": 600, \"legend\": {\"tracegroupgap\": 0}, \"margin\": {\"t\": 60}, \"template\": {\"data\": {\"bar\": [{\"error_x\": {\"color\": \"#2a3f5f\"}, \"error_y\": {\"color\": \"#2a3f5f\"}, \"marker\": {\"line\": {\"color\": \"#E5ECF6\", \"width\": 0.5}}, \"type\": \"bar\"}], \"barpolar\": [{\"marker\": {\"line\": {\"color\": \"#E5ECF6\", \"width\": 0.5}}, \"type\": \"barpolar\"}], \"carpet\": [{\"aaxis\": {\"endlinecolor\": \"#2a3f5f\", \"gridcolor\": \"white\", \"linecolor\": \"white\", \"minorgridcolor\": \"white\", \"startlinecolor\": \"#2a3f5f\"}, \"baxis\": {\"endlinecolor\": \"#2a3f5f\", \"gridcolor\": \"white\", \"linecolor\": \"white\", \"minorgridcolor\": \"white\", \"startlinecolor\": \"#2a3f5f\"}, \"type\": \"carpet\"}], \"choropleth\": [{\"colorbar\": {\"outlinewidth\": 0, \"ticks\": \"\"}, \"type\": \"choropleth\"}], \"contour\": [{\"colorbar\": {\"outlinewidth\": 0, \"ticks\": \"\"}, \"colorscale\": [[0.0, \"#0d0887\"], [0.1111111111111111, \"#46039f\"], [0.2222222222222222, \"#7201a8\"], [0.3333333333333333, \"#9c179e\"], [0.4444444444444444, \"#bd3786\"], [0.5555555555555556, \"#d8576b\"], [0.6666666666666666, \"#ed7953\"], [0.7777777777777778, \"#fb9f3a\"], [0.8888888888888888, \"#fdca26\"], [1.0, \"#f0f921\"]], \"type\": \"contour\"}], \"contourcarpet\": [{\"colorbar\": {\"outlinewidth\": 0, \"ticks\": \"\"}, \"type\": \"contourcarpet\"}], \"heatmap\": [{\"colorbar\": {\"outlinewidth\": 0, \"ticks\": \"\"}, \"colorscale\": [[0.0, \"#0d0887\"], [0.1111111111111111, \"#46039f\"], [0.2222222222222222, \"#7201a8\"], [0.3333333333333333, \"#9c179e\"], [0.4444444444444444, \"#bd3786\"], [0.5555555555555556, \"#d8576b\"], [0.6666666666666666, \"#ed7953\"], [0.7777777777777778, \"#fb9f3a\"], [0.8888888888888888, \"#fdca26\"], [1.0, \"#f0f921\"]], \"type\": \"heatmap\"}], \"heatmapgl\": [{\"colorbar\": {\"outlinewidth\": 0, \"ticks\": \"\"}, \"colorscale\": [[0.0, \"#0d0887\"], [0.1111111111111111, \"#46039f\"], [0.2222222222222222, \"#7201a8\"], [0.3333333333333333, \"#9c179e\"], [0.4444444444444444, \"#bd3786\"], [0.5555555555555556, \"#d8576b\"], [0.6666666666666666, \"#ed7953\"], [0.7777777777777778, \"#fb9f3a\"], [0.8888888888888888, \"#fdca26\"], [1.0, \"#f0f921\"]], \"type\": \"heatmapgl\"}], \"histogram\": [{\"marker\": {\"colorbar\": {\"outlinewidth\": 0, \"ticks\": \"\"}}, \"type\": \"histogram\"}], \"histogram2d\": [{\"colorbar\": {\"outlinewidth\": 0, \"ticks\": \"\"}, \"colorscale\": [[0.0, \"#0d0887\"], [0.1111111111111111, \"#46039f\"], [0.2222222222222222, \"#7201a8\"], [0.3333333333333333, \"#9c179e\"], [0.4444444444444444, \"#bd3786\"], [0.5555555555555556, \"#d8576b\"], [0.6666666666666666, \"#ed7953\"], [0.7777777777777778, \"#fb9f3a\"], [0.8888888888888888, \"#fdca26\"], [1.0, \"#f0f921\"]], \"type\": \"histogram2d\"}], \"histogram2dcontour\": [{\"colorbar\": {\"outlinewidth\": 0, \"ticks\": \"\"}, \"colorscale\": [[0.0, \"#0d0887\"], [0.1111111111111111, \"#46039f\"], [0.2222222222222222, \"#7201a8\"], [0.3333333333333333, \"#9c179e\"], [0.4444444444444444, \"#bd3786\"], [0.5555555555555556, \"#d8576b\"], [0.6666666666666666, \"#ed7953\"], [0.7777777777777778, \"#fb9f3a\"], [0.8888888888888888, \"#fdca26\"], [1.0, \"#f0f921\"]], \"type\": \"histogram2dcontour\"}], \"mesh3d\": [{\"colorbar\": {\"outlinewidth\": 0, \"ticks\": \"\"}, \"type\": \"mesh3d\"}], \"parcoords\": [{\"line\": {\"colorbar\": {\"outlinewidth\": 0, \"ticks\": \"\"}}, \"type\": \"parcoords\"}], \"scatter\": [{\"marker\": {\"colorbar\": {\"outlinewidth\": 0, \"ticks\": \"\"}}, \"type\": \"scatter\"}], \"scatter3d\": [{\"line\": {\"colorbar\": {\"outlinewidth\": 0, \"ticks\": \"\"}}, \"marker\": {\"colorbar\": {\"outlinewidth\": 0, \"ticks\": \"\"}}, \"type\": \"scatter3d\"}], \"scattercarpet\": [{\"marker\": {\"colorbar\": {\"outlinewidth\": 0, \"ticks\": \"\"}}, \"type\": \"scattercarpet\"}], \"scattergeo\": [{\"marker\": {\"colorbar\": {\"outlinewidth\": 0, \"ticks\": \"\"}}, \"type\": \"scattergeo\"}], \"scattergl\": [{\"marker\": {\"colorbar\": {\"outlinewidth\": 0, \"ticks\": \"\"}}, \"type\": \"scattergl\"}], \"scattermapbox\": [{\"marker\": {\"colorbar\": {\"outlinewidth\": 0, \"ticks\": \"\"}}, \"type\": \"scattermapbox\"}], \"scatterpolar\": [{\"marker\": {\"colorbar\": {\"outlinewidth\": 0, \"ticks\": \"\"}}, \"type\": \"scatterpolar\"}], \"scatterpolargl\": [{\"marker\": {\"colorbar\": {\"outlinewidth\": 0, \"ticks\": \"\"}}, \"type\": \"scatterpolargl\"}], \"scatterternary\": [{\"marker\": {\"colorbar\": {\"outlinewidth\": 0, \"ticks\": \"\"}}, \"type\": \"scatterternary\"}], \"surface\": [{\"colorbar\": {\"outlinewidth\": 0, \"ticks\": \"\"}, \"colorscale\": [[0.0, \"#0d0887\"], [0.1111111111111111, \"#46039f\"], [0.2222222222222222, \"#7201a8\"], [0.3333333333333333, \"#9c179e\"], [0.4444444444444444, \"#bd3786\"], [0.5555555555555556, \"#d8576b\"], [0.6666666666666666, \"#ed7953\"], [0.7777777777777778, \"#fb9f3a\"], [0.8888888888888888, \"#fdca26\"], [1.0, \"#f0f921\"]], \"type\": \"surface\"}], \"table\": [{\"cells\": {\"fill\": {\"color\": \"#EBF0F8\"}, \"line\": {\"color\": \"white\"}}, \"header\": {\"fill\": {\"color\": \"#C8D4E3\"}, \"line\": {\"color\": \"white\"}}, \"type\": \"table\"}]}, \"layout\": {\"annotationdefaults\": {\"arrowcolor\": \"#2a3f5f\", \"arrowhead\": 0, \"arrowwidth\": 1}, \"colorscale\": {\"diverging\": [[0, \"#8e0152\"], [0.1, \"#c51b7d\"], [0.2, \"#de77ae\"], [0.3, \"#f1b6da\"], [0.4, \"#fde0ef\"], [0.5, \"#f7f7f7\"], [0.6, \"#e6f5d0\"], [0.7, \"#b8e186\"], [0.8, \"#7fbc41\"], [0.9, \"#4d9221\"], [1, \"#276419\"]], \"sequential\": [[0.0, \"#0d0887\"], [0.1111111111111111, \"#46039f\"], [0.2222222222222222, \"#7201a8\"], [0.3333333333333333, \"#9c179e\"], [0.4444444444444444, \"#bd3786\"], [0.5555555555555556, \"#d8576b\"], [0.6666666666666666, \"#ed7953\"], [0.7777777777777778, \"#fb9f3a\"], [0.8888888888888888, \"#fdca26\"], [1.0, \"#f0f921\"]], \"sequentialminus\": [[0.0, \"#0d0887\"], [0.1111111111111111, \"#46039f\"], [0.2222222222222222, \"#7201a8\"], [0.3333333333333333, \"#9c179e\"], [0.4444444444444444, \"#bd3786\"], [0.5555555555555556, \"#d8576b\"], [0.6666666666666666, \"#ed7953\"], [0.7777777777777778, \"#fb9f3a\"], [0.8888888888888888, \"#fdca26\"], [1.0, \"#f0f921\"]]}, \"colorway\": [\"#636efa\", \"#EF553B\", \"#00cc96\", \"#ab63fa\", \"#FFA15A\", \"#19d3f3\", \"#FF6692\", \"#B6E880\", \"#FF97FF\", \"#FECB52\"], \"font\": {\"color\": \"#2a3f5f\"}, \"geo\": {\"bgcolor\": \"white\", \"lakecolor\": \"white\", \"landcolor\": \"#E5ECF6\", \"showlakes\": true, \"showland\": true, \"subunitcolor\": \"white\"}, \"hoverlabel\": {\"align\": \"left\"}, \"hovermode\": \"closest\", \"mapbox\": {\"style\": \"light\"}, \"paper_bgcolor\": \"white\", \"plot_bgcolor\": \"#E5ECF6\", \"polar\": {\"angularaxis\": {\"gridcolor\": \"white\", \"linecolor\": \"white\", \"ticks\": \"\"}, \"bgcolor\": \"#E5ECF6\", \"radialaxis\": {\"gridcolor\": \"white\", \"linecolor\": \"white\", \"ticks\": \"\"}}, \"scene\": {\"xaxis\": {\"backgroundcolor\": \"#E5ECF6\", \"gridcolor\": \"white\", \"gridwidth\": 2, \"linecolor\": \"white\", \"showbackground\": true, \"ticks\": \"\", \"zerolinecolor\": \"white\"}, \"yaxis\": {\"backgroundcolor\": \"#E5ECF6\", \"gridcolor\": \"white\", \"gridwidth\": 2, \"linecolor\": \"white\", \"showbackground\": true, \"ticks\": \"\", \"zerolinecolor\": \"white\"}, \"zaxis\": {\"backgroundcolor\": \"#E5ECF6\", \"gridcolor\": \"white\", \"gridwidth\": 2, \"linecolor\": \"white\", \"showbackground\": true, \"ticks\": \"\", \"zerolinecolor\": \"white\"}}, \"shapedefaults\": {\"line\": {\"color\": \"#2a3f5f\"}}, \"ternary\": {\"aaxis\": {\"gridcolor\": \"white\", \"linecolor\": \"white\", \"ticks\": \"\"}, \"baxis\": {\"gridcolor\": \"white\", \"linecolor\": \"white\", \"ticks\": \"\"}, \"bgcolor\": \"#E5ECF6\", \"caxis\": {\"gridcolor\": \"white\", \"linecolor\": \"white\", \"ticks\": \"\"}}, \"title\": {\"x\": 0.05}, \"xaxis\": {\"automargin\": true, \"gridcolor\": \"white\", \"linecolor\": \"white\", \"ticks\": \"\", \"zerolinecolor\": \"white\", \"zerolinewidth\": 2}, \"yaxis\": {\"automargin\": true, \"gridcolor\": \"white\", \"linecolor\": \"white\", \"ticks\": \"\", \"zerolinecolor\": \"white\", \"zerolinewidth\": 2}}}, \"xaxis\": {\"anchor\": \"y\", \"domain\": [0.0, 0.98], \"title\": {\"text\": \"event\"}}, \"yaxis\": {\"anchor\": \"x\", \"domain\": [0.0, 1.0], \"title\": {\"text\": \"count\"}}},\n",
       "                        {\"responsive\": true}\n",
       "                    ).then(function(){\n",
       "                            \n",
       "var gd = document.getElementById('10ed1db2-ef1d-4b23-b372-a491ea8649a3');\n",
       "var x = new MutationObserver(function (mutations, observer) {{\n",
       "        var display = window.getComputedStyle(gd).display;\n",
       "        if (!display || display === 'none') {{\n",
       "            console.log([gd, 'removed!']);\n",
       "            Plotly.purge(gd);\n",
       "            observer.disconnect();\n",
       "        }}\n",
       "}});\n",
       "\n",
       "// Listen for the removal of the full notebook cells\n",
       "var notebookContainer = gd.closest('#notebook-container');\n",
       "if (notebookContainer) {{\n",
       "    x.observe(notebookContainer, {childList: true});\n",
       "}}\n",
       "\n",
       "// Listen for the clearing of the current output cell\n",
       "var outputEl = gd.closest('.output');\n",
       "if (outputEl) {{\n",
       "    x.observe(outputEl, {childList: true});\n",
       "}}\n",
       "\n",
       "                        })\n",
       "                };\n",
       "                });\n",
       "            </script>\n",
       "        </div>"
      ]
     },
     "metadata": {},
     "output_type": "display_data"
    }
   ],
   "source": [
    "import plotly.express as px\n",
    "import pandas as pd\n",
    "df = pd.DataFrame.from_dict(c, orient='index').reset_index()\n",
    "df = df.rename(columns={'index':'event', 0:'count'})\n",
    "fig = px.scatter(df, x=\"event\", y='count')\n",
    "fig.show()"
   ]
  },
  {
   "cell_type": "code",
   "execution_count": 56,
   "metadata": {},
   "outputs": [],
   "source": [
    "from prozhito_app.models import Entry\n",
    "from django.db.models import Q \n",
    "places = []\n",
    "entries = Entry.objects.filter(~Q(places=None))\n",
    "for entry in entries:\n",
    "    places_ = entry.places.all()\n",
    "    for place in places_:\n",
    "        places.append(place.name)\n",
    "c = Counter(places)"
   ]
  },
  {
   "cell_type": "code",
   "execution_count": 72,
   "metadata": {},
   "outputs": [
    {
     "data": {
      "application/vnd.plotly.v1+json": {
       "config": {
        "plotlyServerURL": "https://plot.ly"
       },
       "data": [
        {
         "hoverlabel": {
          "namelength": 0
         },
         "hovertemplate": "place=%{x}<br>count=%{y}",
         "legendgroup": "",
         "marker": {
          "color": "#636efa",
          "symbol": "circle"
         },
         "mode": "markers",
         "name": "",
         "showlegend": false,
         "type": "scatter",
         "x": [
          "Москва",
          "Одесса",
          "Ленинград",
          "Днепропетровск",
          "Пярну",
          "Симбирск",
          "Лебяжье",
          "Кабул",
          "Нижний Новгород",
          "Париж",
          "Саратов",
          "Крым",
          "Мевасерет Цион",
          "Иерусалим ",
          "Казань",
          "Порт-Артур",
          "Пушкино",
          "Козельск",
          "Харьков ",
          "Бавыкино ",
          "Елабуга",
          "Архангельск",
          "Санкт-Петербург",
          "Петроград",
          "Нежин",
          "Ялта ",
          "Феодосия",
          "Баграм",
          "Намибе",
          "Киев",
          "Батени",
          "Червишево",
          "Шашково",
          "Вятка ",
          "Ейск",
          "Санкт-Петрбург",
          "Симферополь ",
          "Кременец",
          "Варшава",
          "Колено",
          "Ярославль",
          "Челкар ",
          "Мичуринск",
          "Орехово-Зуево",
          "Ташкент",
          "Мохча",
          "Тифлис",
          "Калуга",
          "Мариуполь",
          "Мудрос ",
          "Анава",
          "Сумгаит",
          "Евпатория",
          "Свердловск",
          "Фрунзе",
          "Булаково ",
          "Краснодон",
          "Минусинск",
          "Харбин",
          "Никулино (деревня)",
          "Коктебель",
          "Црквеница",
          "Ош",
          "Пермь",
          "Грядозубово (деревня)",
          "Джалал-Абад",
          "Белград",
          "Рыбинск",
          "Саланг",
          "Кисловодск",
          "Берлин",
          "Базар-Курган",
          "Баку ",
          "Сосновка",
          "Белев",
          "Хотин",
          "Житомир",
          "Лашков",
          "Ашхабад",
          "Лосево (деревня)",
          "Гарь-Хлиповка (деревня)",
          "Лешнюв",
          "Новоселки",
          "Сочи",
          "Попково (деревня)",
          "Сокаль",
          "Владимир",
          "Таллин",
          "Будятичи",
          "Владимир-Волынский",
          "Адамы",
          "Рига",
          "Вена",
          "Броды",
          "Киверцы",
          "Комаров",
          "Берестечко",
          "Боратин",
          "Ровно",
          "Омск",
          "Ковель",
          "Демидовка",
          "Клевань"
         ],
         "xaxis": "x",
         "y": [
          21075,
          9125,
          5946,
          2159,
          1373,
          584,
          582,
          581,
          527,
          407,
          404,
          394,
          364,
          343,
          338,
          323,
          264,
          237,
          236,
          221,
          214,
          178,
          159,
          154,
          148,
          146,
          145,
          133,
          133,
          129,
          96,
          90,
          82,
          77,
          75,
          75,
          74,
          62,
          62,
          59,
          49,
          49,
          47,
          47,
          46,
          33,
          33,
          31,
          30,
          30,
          26,
          26,
          24,
          23,
          22,
          21,
          18,
          18,
          17,
          14,
          12,
          11,
          11,
          11,
          9,
          8,
          7,
          7,
          7,
          7,
          6,
          6,
          6,
          5,
          5,
          4,
          4,
          4,
          4,
          4,
          4,
          3,
          3,
          3,
          3,
          3,
          3,
          2,
          2,
          2,
          2,
          2,
          2,
          2,
          2,
          2,
          2,
          2,
          2,
          2,
          2,
          2,
          2
         ],
         "yaxis": "y"
        }
       ],
       "layout": {
        "height": 600,
        "legend": {
         "tracegroupgap": 0
        },
        "margin": {
         "t": 60
        },
        "template": {
         "data": {
          "bar": [
           {
            "error_x": {
             "color": "#2a3f5f"
            },
            "error_y": {
             "color": "#2a3f5f"
            },
            "marker": {
             "line": {
              "color": "#E5ECF6",
              "width": 0.5
             }
            },
            "type": "bar"
           }
          ],
          "barpolar": [
           {
            "marker": {
             "line": {
              "color": "#E5ECF6",
              "width": 0.5
             }
            },
            "type": "barpolar"
           }
          ],
          "carpet": [
           {
            "aaxis": {
             "endlinecolor": "#2a3f5f",
             "gridcolor": "white",
             "linecolor": "white",
             "minorgridcolor": "white",
             "startlinecolor": "#2a3f5f"
            },
            "baxis": {
             "endlinecolor": "#2a3f5f",
             "gridcolor": "white",
             "linecolor": "white",
             "minorgridcolor": "white",
             "startlinecolor": "#2a3f5f"
            },
            "type": "carpet"
           }
          ],
          "choropleth": [
           {
            "colorbar": {
             "outlinewidth": 0,
             "ticks": ""
            },
            "type": "choropleth"
           }
          ],
          "contour": [
           {
            "colorbar": {
             "outlinewidth": 0,
             "ticks": ""
            },
            "colorscale": [
             [
              0,
              "#0d0887"
             ],
             [
              0.1111111111111111,
              "#46039f"
             ],
             [
              0.2222222222222222,
              "#7201a8"
             ],
             [
              0.3333333333333333,
              "#9c179e"
             ],
             [
              0.4444444444444444,
              "#bd3786"
             ],
             [
              0.5555555555555556,
              "#d8576b"
             ],
             [
              0.6666666666666666,
              "#ed7953"
             ],
             [
              0.7777777777777778,
              "#fb9f3a"
             ],
             [
              0.8888888888888888,
              "#fdca26"
             ],
             [
              1,
              "#f0f921"
             ]
            ],
            "type": "contour"
           }
          ],
          "contourcarpet": [
           {
            "colorbar": {
             "outlinewidth": 0,
             "ticks": ""
            },
            "type": "contourcarpet"
           }
          ],
          "heatmap": [
           {
            "colorbar": {
             "outlinewidth": 0,
             "ticks": ""
            },
            "colorscale": [
             [
              0,
              "#0d0887"
             ],
             [
              0.1111111111111111,
              "#46039f"
             ],
             [
              0.2222222222222222,
              "#7201a8"
             ],
             [
              0.3333333333333333,
              "#9c179e"
             ],
             [
              0.4444444444444444,
              "#bd3786"
             ],
             [
              0.5555555555555556,
              "#d8576b"
             ],
             [
              0.6666666666666666,
              "#ed7953"
             ],
             [
              0.7777777777777778,
              "#fb9f3a"
             ],
             [
              0.8888888888888888,
              "#fdca26"
             ],
             [
              1,
              "#f0f921"
             ]
            ],
            "type": "heatmap"
           }
          ],
          "heatmapgl": [
           {
            "colorbar": {
             "outlinewidth": 0,
             "ticks": ""
            },
            "colorscale": [
             [
              0,
              "#0d0887"
             ],
             [
              0.1111111111111111,
              "#46039f"
             ],
             [
              0.2222222222222222,
              "#7201a8"
             ],
             [
              0.3333333333333333,
              "#9c179e"
             ],
             [
              0.4444444444444444,
              "#bd3786"
             ],
             [
              0.5555555555555556,
              "#d8576b"
             ],
             [
              0.6666666666666666,
              "#ed7953"
             ],
             [
              0.7777777777777778,
              "#fb9f3a"
             ],
             [
              0.8888888888888888,
              "#fdca26"
             ],
             [
              1,
              "#f0f921"
             ]
            ],
            "type": "heatmapgl"
           }
          ],
          "histogram": [
           {
            "marker": {
             "colorbar": {
              "outlinewidth": 0,
              "ticks": ""
             }
            },
            "type": "histogram"
           }
          ],
          "histogram2d": [
           {
            "colorbar": {
             "outlinewidth": 0,
             "ticks": ""
            },
            "colorscale": [
             [
              0,
              "#0d0887"
             ],
             [
              0.1111111111111111,
              "#46039f"
             ],
             [
              0.2222222222222222,
              "#7201a8"
             ],
             [
              0.3333333333333333,
              "#9c179e"
             ],
             [
              0.4444444444444444,
              "#bd3786"
             ],
             [
              0.5555555555555556,
              "#d8576b"
             ],
             [
              0.6666666666666666,
              "#ed7953"
             ],
             [
              0.7777777777777778,
              "#fb9f3a"
             ],
             [
              0.8888888888888888,
              "#fdca26"
             ],
             [
              1,
              "#f0f921"
             ]
            ],
            "type": "histogram2d"
           }
          ],
          "histogram2dcontour": [
           {
            "colorbar": {
             "outlinewidth": 0,
             "ticks": ""
            },
            "colorscale": [
             [
              0,
              "#0d0887"
             ],
             [
              0.1111111111111111,
              "#46039f"
             ],
             [
              0.2222222222222222,
              "#7201a8"
             ],
             [
              0.3333333333333333,
              "#9c179e"
             ],
             [
              0.4444444444444444,
              "#bd3786"
             ],
             [
              0.5555555555555556,
              "#d8576b"
             ],
             [
              0.6666666666666666,
              "#ed7953"
             ],
             [
              0.7777777777777778,
              "#fb9f3a"
             ],
             [
              0.8888888888888888,
              "#fdca26"
             ],
             [
              1,
              "#f0f921"
             ]
            ],
            "type": "histogram2dcontour"
           }
          ],
          "mesh3d": [
           {
            "colorbar": {
             "outlinewidth": 0,
             "ticks": ""
            },
            "type": "mesh3d"
           }
          ],
          "parcoords": [
           {
            "line": {
             "colorbar": {
              "outlinewidth": 0,
              "ticks": ""
             }
            },
            "type": "parcoords"
           }
          ],
          "scatter": [
           {
            "marker": {
             "colorbar": {
              "outlinewidth": 0,
              "ticks": ""
             }
            },
            "type": "scatter"
           }
          ],
          "scatter3d": [
           {
            "line": {
             "colorbar": {
              "outlinewidth": 0,
              "ticks": ""
             }
            },
            "marker": {
             "colorbar": {
              "outlinewidth": 0,
              "ticks": ""
             }
            },
            "type": "scatter3d"
           }
          ],
          "scattercarpet": [
           {
            "marker": {
             "colorbar": {
              "outlinewidth": 0,
              "ticks": ""
             }
            },
            "type": "scattercarpet"
           }
          ],
          "scattergeo": [
           {
            "marker": {
             "colorbar": {
              "outlinewidth": 0,
              "ticks": ""
             }
            },
            "type": "scattergeo"
           }
          ],
          "scattergl": [
           {
            "marker": {
             "colorbar": {
              "outlinewidth": 0,
              "ticks": ""
             }
            },
            "type": "scattergl"
           }
          ],
          "scattermapbox": [
           {
            "marker": {
             "colorbar": {
              "outlinewidth": 0,
              "ticks": ""
             }
            },
            "type": "scattermapbox"
           }
          ],
          "scatterpolar": [
           {
            "marker": {
             "colorbar": {
              "outlinewidth": 0,
              "ticks": ""
             }
            },
            "type": "scatterpolar"
           }
          ],
          "scatterpolargl": [
           {
            "marker": {
             "colorbar": {
              "outlinewidth": 0,
              "ticks": ""
             }
            },
            "type": "scatterpolargl"
           }
          ],
          "scatterternary": [
           {
            "marker": {
             "colorbar": {
              "outlinewidth": 0,
              "ticks": ""
             }
            },
            "type": "scatterternary"
           }
          ],
          "surface": [
           {
            "colorbar": {
             "outlinewidth": 0,
             "ticks": ""
            },
            "colorscale": [
             [
              0,
              "#0d0887"
             ],
             [
              0.1111111111111111,
              "#46039f"
             ],
             [
              0.2222222222222222,
              "#7201a8"
             ],
             [
              0.3333333333333333,
              "#9c179e"
             ],
             [
              0.4444444444444444,
              "#bd3786"
             ],
             [
              0.5555555555555556,
              "#d8576b"
             ],
             [
              0.6666666666666666,
              "#ed7953"
             ],
             [
              0.7777777777777778,
              "#fb9f3a"
             ],
             [
              0.8888888888888888,
              "#fdca26"
             ],
             [
              1,
              "#f0f921"
             ]
            ],
            "type": "surface"
           }
          ],
          "table": [
           {
            "cells": {
             "fill": {
              "color": "#EBF0F8"
             },
             "line": {
              "color": "white"
             }
            },
            "header": {
             "fill": {
              "color": "#C8D4E3"
             },
             "line": {
              "color": "white"
             }
            },
            "type": "table"
           }
          ]
         },
         "layout": {
          "annotationdefaults": {
           "arrowcolor": "#2a3f5f",
           "arrowhead": 0,
           "arrowwidth": 1
          },
          "colorscale": {
           "diverging": [
            [
             0,
             "#8e0152"
            ],
            [
             0.1,
             "#c51b7d"
            ],
            [
             0.2,
             "#de77ae"
            ],
            [
             0.3,
             "#f1b6da"
            ],
            [
             0.4,
             "#fde0ef"
            ],
            [
             0.5,
             "#f7f7f7"
            ],
            [
             0.6,
             "#e6f5d0"
            ],
            [
             0.7,
             "#b8e186"
            ],
            [
             0.8,
             "#7fbc41"
            ],
            [
             0.9,
             "#4d9221"
            ],
            [
             1,
             "#276419"
            ]
           ],
           "sequential": [
            [
             0,
             "#0d0887"
            ],
            [
             0.1111111111111111,
             "#46039f"
            ],
            [
             0.2222222222222222,
             "#7201a8"
            ],
            [
             0.3333333333333333,
             "#9c179e"
            ],
            [
             0.4444444444444444,
             "#bd3786"
            ],
            [
             0.5555555555555556,
             "#d8576b"
            ],
            [
             0.6666666666666666,
             "#ed7953"
            ],
            [
             0.7777777777777778,
             "#fb9f3a"
            ],
            [
             0.8888888888888888,
             "#fdca26"
            ],
            [
             1,
             "#f0f921"
            ]
           ],
           "sequentialminus": [
            [
             0,
             "#0d0887"
            ],
            [
             0.1111111111111111,
             "#46039f"
            ],
            [
             0.2222222222222222,
             "#7201a8"
            ],
            [
             0.3333333333333333,
             "#9c179e"
            ],
            [
             0.4444444444444444,
             "#bd3786"
            ],
            [
             0.5555555555555556,
             "#d8576b"
            ],
            [
             0.6666666666666666,
             "#ed7953"
            ],
            [
             0.7777777777777778,
             "#fb9f3a"
            ],
            [
             0.8888888888888888,
             "#fdca26"
            ],
            [
             1,
             "#f0f921"
            ]
           ]
          },
          "colorway": [
           "#636efa",
           "#EF553B",
           "#00cc96",
           "#ab63fa",
           "#FFA15A",
           "#19d3f3",
           "#FF6692",
           "#B6E880",
           "#FF97FF",
           "#FECB52"
          ],
          "font": {
           "color": "#2a3f5f"
          },
          "geo": {
           "bgcolor": "white",
           "lakecolor": "white",
           "landcolor": "#E5ECF6",
           "showlakes": true,
           "showland": true,
           "subunitcolor": "white"
          },
          "hoverlabel": {
           "align": "left"
          },
          "hovermode": "closest",
          "mapbox": {
           "style": "light"
          },
          "paper_bgcolor": "white",
          "plot_bgcolor": "#E5ECF6",
          "polar": {
           "angularaxis": {
            "gridcolor": "white",
            "linecolor": "white",
            "ticks": ""
           },
           "bgcolor": "#E5ECF6",
           "radialaxis": {
            "gridcolor": "white",
            "linecolor": "white",
            "ticks": ""
           }
          },
          "scene": {
           "xaxis": {
            "backgroundcolor": "#E5ECF6",
            "gridcolor": "white",
            "gridwidth": 2,
            "linecolor": "white",
            "showbackground": true,
            "ticks": "",
            "zerolinecolor": "white"
           },
           "yaxis": {
            "backgroundcolor": "#E5ECF6",
            "gridcolor": "white",
            "gridwidth": 2,
            "linecolor": "white",
            "showbackground": true,
            "ticks": "",
            "zerolinecolor": "white"
           },
           "zaxis": {
            "backgroundcolor": "#E5ECF6",
            "gridcolor": "white",
            "gridwidth": 2,
            "linecolor": "white",
            "showbackground": true,
            "ticks": "",
            "zerolinecolor": "white"
           }
          },
          "shapedefaults": {
           "line": {
            "color": "#2a3f5f"
           }
          },
          "ternary": {
           "aaxis": {
            "gridcolor": "white",
            "linecolor": "white",
            "ticks": ""
           },
           "baxis": {
            "gridcolor": "white",
            "linecolor": "white",
            "ticks": ""
           },
           "bgcolor": "#E5ECF6",
           "caxis": {
            "gridcolor": "white",
            "linecolor": "white",
            "ticks": ""
           }
          },
          "title": {
           "x": 0.05
          },
          "xaxis": {
           "automargin": true,
           "gridcolor": "white",
           "linecolor": "white",
           "ticks": "",
           "zerolinecolor": "white",
           "zerolinewidth": 2
          },
          "yaxis": {
           "automargin": true,
           "gridcolor": "white",
           "linecolor": "white",
           "ticks": "",
           "zerolinecolor": "white",
           "zerolinewidth": 2
          }
         }
        },
        "xaxis": {
         "anchor": "y",
         "domain": [
          0,
          0.98
         ],
         "title": {
          "text": "place"
         }
        },
        "yaxis": {
         "anchor": "x",
         "domain": [
          0,
          1
         ],
         "title": {
          "text": "count"
         }
        }
       }
      },
      "text/html": [
       "<div>\n",
       "        \n",
       "        \n",
       "            <div id=\"66900d88-a464-48c2-bdbc-f2814633b364\" class=\"plotly-graph-div\" style=\"height:600px; width:100%;\"></div>\n",
       "            <script type=\"text/javascript\">\n",
       "                require([\"plotly\"], function(Plotly) {\n",
       "                    window.PLOTLYENV=window.PLOTLYENV || {};\n",
       "                    \n",
       "                if (document.getElementById(\"66900d88-a464-48c2-bdbc-f2814633b364\")) {\n",
       "                    Plotly.newPlot(\n",
       "                        '66900d88-a464-48c2-bdbc-f2814633b364',\n",
       "                        [{\"hoverlabel\": {\"namelength\": 0}, \"hovertemplate\": \"place=%{x}<br>count=%{y}\", \"legendgroup\": \"\", \"marker\": {\"color\": \"#636efa\", \"symbol\": \"circle\"}, \"mode\": \"markers\", \"name\": \"\", \"showlegend\": false, \"type\": \"scatter\", \"x\": [\"\\u041c\\u043e\\u0441\\u043a\\u0432\\u0430\", \"\\u041e\\u0434\\u0435\\u0441\\u0441\\u0430\", \"\\u041b\\u0435\\u043d\\u0438\\u043d\\u0433\\u0440\\u0430\\u0434\", \"\\u0414\\u043d\\u0435\\u043f\\u0440\\u043e\\u043f\\u0435\\u0442\\u0440\\u043e\\u0432\\u0441\\u043a\", \"\\u041f\\u044f\\u0440\\u043d\\u0443\", \"\\u0421\\u0438\\u043c\\u0431\\u0438\\u0440\\u0441\\u043a\", \"\\u041b\\u0435\\u0431\\u044f\\u0436\\u044c\\u0435\", \"\\u041a\\u0430\\u0431\\u0443\\u043b\", \"\\u041d\\u0438\\u0436\\u043d\\u0438\\u0439 \\u041d\\u043e\\u0432\\u0433\\u043e\\u0440\\u043e\\u0434\", \"\\u041f\\u0430\\u0440\\u0438\\u0436\", \"\\u0421\\u0430\\u0440\\u0430\\u0442\\u043e\\u0432\", \"\\u041a\\u0440\\u044b\\u043c\", \"\\u041c\\u0435\\u0432\\u0430\\u0441\\u0435\\u0440\\u0435\\u0442 \\u0426\\u0438\\u043e\\u043d\", \"\\u0418\\u0435\\u0440\\u0443\\u0441\\u0430\\u043b\\u0438\\u043c \", \"\\u041a\\u0430\\u0437\\u0430\\u043d\\u044c\", \"\\u041f\\u043e\\u0440\\u0442-\\u0410\\u0440\\u0442\\u0443\\u0440\", \"\\u041f\\u0443\\u0448\\u043a\\u0438\\u043d\\u043e\", \"\\u041a\\u043e\\u0437\\u0435\\u043b\\u044c\\u0441\\u043a\", \"\\u0425\\u0430\\u0440\\u044c\\u043a\\u043e\\u0432 \", \"\\u0411\\u0430\\u0432\\u044b\\u043a\\u0438\\u043d\\u043e \", \"\\u0415\\u043b\\u0430\\u0431\\u0443\\u0433\\u0430\", \"\\u0410\\u0440\\u0445\\u0430\\u043d\\u0433\\u0435\\u043b\\u044c\\u0441\\u043a\", \"\\u0421\\u0430\\u043d\\u043a\\u0442-\\u041f\\u0435\\u0442\\u0435\\u0440\\u0431\\u0443\\u0440\\u0433\", \"\\u041f\\u0435\\u0442\\u0440\\u043e\\u0433\\u0440\\u0430\\u0434\", \"\\u041d\\u0435\\u0436\\u0438\\u043d\", \"\\u042f\\u043b\\u0442\\u0430 \", \"\\u0424\\u0435\\u043e\\u0434\\u043e\\u0441\\u0438\\u044f\", \"\\u0411\\u0430\\u0433\\u0440\\u0430\\u043c\", \"\\u041d\\u0430\\u043c\\u0438\\u0431\\u0435\", \"\\u041a\\u0438\\u0435\\u0432\", \"\\u0411\\u0430\\u0442\\u0435\\u043d\\u0438\", \"\\u0427\\u0435\\u0440\\u0432\\u0438\\u0448\\u0435\\u0432\\u043e\", \"\\u0428\\u0430\\u0448\\u043a\\u043e\\u0432\\u043e\", \"\\u0412\\u044f\\u0442\\u043a\\u0430 \", \"\\u0415\\u0439\\u0441\\u043a\", \"\\u0421\\u0430\\u043d\\u043a\\u0442-\\u041f\\u0435\\u0442\\u0440\\u0431\\u0443\\u0440\\u0433\", \"\\u0421\\u0438\\u043c\\u0444\\u0435\\u0440\\u043e\\u043f\\u043e\\u043b\\u044c \", \"\\u041a\\u0440\\u0435\\u043c\\u0435\\u043d\\u0435\\u0446\", \"\\u0412\\u0430\\u0440\\u0448\\u0430\\u0432\\u0430\", \"\\u041a\\u043e\\u043b\\u0435\\u043d\\u043e\", \"\\u042f\\u0440\\u043e\\u0441\\u043b\\u0430\\u0432\\u043b\\u044c\", \"\\u0427\\u0435\\u043b\\u043a\\u0430\\u0440 \", \"\\u041c\\u0438\\u0447\\u0443\\u0440\\u0438\\u043d\\u0441\\u043a\", \"\\u041e\\u0440\\u0435\\u0445\\u043e\\u0432\\u043e-\\u0417\\u0443\\u0435\\u0432\\u043e\", \"\\u0422\\u0430\\u0448\\u043a\\u0435\\u043d\\u0442\", \"\\u041c\\u043e\\u0445\\u0447\\u0430\", \"\\u0422\\u0438\\u0444\\u043b\\u0438\\u0441\", \"\\u041a\\u0430\\u043b\\u0443\\u0433\\u0430\", \"\\u041c\\u0430\\u0440\\u0438\\u0443\\u043f\\u043e\\u043b\\u044c\", \"\\u041c\\u0443\\u0434\\u0440\\u043e\\u0441 \", \"\\u0410\\u043d\\u0430\\u0432\\u0430\", \"\\u0421\\u0443\\u043c\\u0433\\u0430\\u0438\\u0442\", \"\\u0415\\u0432\\u043f\\u0430\\u0442\\u043e\\u0440\\u0438\\u044f\", \"\\u0421\\u0432\\u0435\\u0440\\u0434\\u043b\\u043e\\u0432\\u0441\\u043a\", \"\\u0424\\u0440\\u0443\\u043d\\u0437\\u0435\", \"\\u0411\\u0443\\u043b\\u0430\\u043a\\u043e\\u0432\\u043e \", \"\\u041a\\u0440\\u0430\\u0441\\u043d\\u043e\\u0434\\u043e\\u043d\", \"\\u041c\\u0438\\u043d\\u0443\\u0441\\u0438\\u043d\\u0441\\u043a\", \"\\u0425\\u0430\\u0440\\u0431\\u0438\\u043d\", \"\\u041d\\u0438\\u043a\\u0443\\u043b\\u0438\\u043d\\u043e (\\u0434\\u0435\\u0440\\u0435\\u0432\\u043d\\u044f)\", \"\\u041a\\u043e\\u043a\\u0442\\u0435\\u0431\\u0435\\u043b\\u044c\", \"\\u0426\\u0440\\u043a\\u0432\\u0435\\u043d\\u0438\\u0446\\u0430\", \"\\u041e\\u0448\", \"\\u041f\\u0435\\u0440\\u043c\\u044c\", \"\\u0413\\u0440\\u044f\\u0434\\u043e\\u0437\\u0443\\u0431\\u043e\\u0432\\u043e (\\u0434\\u0435\\u0440\\u0435\\u0432\\u043d\\u044f)\", \"\\u0414\\u0436\\u0430\\u043b\\u0430\\u043b-\\u0410\\u0431\\u0430\\u0434\", \"\\u0411\\u0435\\u043b\\u0433\\u0440\\u0430\\u0434\", \"\\u0420\\u044b\\u0431\\u0438\\u043d\\u0441\\u043a\", \"\\u0421\\u0430\\u043b\\u0430\\u043d\\u0433\", \"\\u041a\\u0438\\u0441\\u043b\\u043e\\u0432\\u043e\\u0434\\u0441\\u043a\", \"\\u0411\\u0435\\u0440\\u043b\\u0438\\u043d\", \"\\u0411\\u0430\\u0437\\u0430\\u0440-\\u041a\\u0443\\u0440\\u0433\\u0430\\u043d\", \"\\u0411\\u0430\\u043a\\u0443 \", \"\\u0421\\u043e\\u0441\\u043d\\u043e\\u0432\\u043a\\u0430\", \"\\u0411\\u0435\\u043b\\u0435\\u0432\", \"\\u0425\\u043e\\u0442\\u0438\\u043d\", \"\\u0416\\u0438\\u0442\\u043e\\u043c\\u0438\\u0440\", \"\\u041b\\u0430\\u0448\\u043a\\u043e\\u0432\", \"\\u0410\\u0448\\u0445\\u0430\\u0431\\u0430\\u0434\", \"\\u041b\\u043e\\u0441\\u0435\\u0432\\u043e (\\u0434\\u0435\\u0440\\u0435\\u0432\\u043d\\u044f)\", \"\\u0413\\u0430\\u0440\\u044c-\\u0425\\u043b\\u0438\\u043f\\u043e\\u0432\\u043a\\u0430 (\\u0434\\u0435\\u0440\\u0435\\u0432\\u043d\\u044f)\", \"\\u041b\\u0435\\u0448\\u043d\\u044e\\u0432\", \"\\u041d\\u043e\\u0432\\u043e\\u0441\\u0435\\u043b\\u043a\\u0438\", \"\\u0421\\u043e\\u0447\\u0438\", \"\\u041f\\u043e\\u043f\\u043a\\u043e\\u0432\\u043e (\\u0434\\u0435\\u0440\\u0435\\u0432\\u043d\\u044f)\", \"\\u0421\\u043e\\u043a\\u0430\\u043b\\u044c\", \"\\u0412\\u043b\\u0430\\u0434\\u0438\\u043c\\u0438\\u0440\", \"\\u0422\\u0430\\u043b\\u043b\\u0438\\u043d\", \"\\u0411\\u0443\\u0434\\u044f\\u0442\\u0438\\u0447\\u0438\", \"\\u0412\\u043b\\u0430\\u0434\\u0438\\u043c\\u0438\\u0440-\\u0412\\u043e\\u043b\\u044b\\u043d\\u0441\\u043a\\u0438\\u0439\", \"\\u0410\\u0434\\u0430\\u043c\\u044b\", \"\\u0420\\u0438\\u0433\\u0430\", \"\\u0412\\u0435\\u043d\\u0430\", \"\\u0411\\u0440\\u043e\\u0434\\u044b\", \"\\u041a\\u0438\\u0432\\u0435\\u0440\\u0446\\u044b\", \"\\u041a\\u043e\\u043c\\u0430\\u0440\\u043e\\u0432\", \"\\u0411\\u0435\\u0440\\u0435\\u0441\\u0442\\u0435\\u0447\\u043a\\u043e\", \"\\u0411\\u043e\\u0440\\u0430\\u0442\\u0438\\u043d\", \"\\u0420\\u043e\\u0432\\u043d\\u043e\", \"\\u041e\\u043c\\u0441\\u043a\", \"\\u041a\\u043e\\u0432\\u0435\\u043b\\u044c\", \"\\u0414\\u0435\\u043c\\u0438\\u0434\\u043e\\u0432\\u043a\\u0430\", \"\\u041a\\u043b\\u0435\\u0432\\u0430\\u043d\\u044c\"], \"xaxis\": \"x\", \"y\": [21075, 9125, 5946, 2159, 1373, 584, 582, 581, 527, 407, 404, 394, 364, 343, 338, 323, 264, 237, 236, 221, 214, 178, 159, 154, 148, 146, 145, 133, 133, 129, 96, 90, 82, 77, 75, 75, 74, 62, 62, 59, 49, 49, 47, 47, 46, 33, 33, 31, 30, 30, 26, 26, 24, 23, 22, 21, 18, 18, 17, 14, 12, 11, 11, 11, 9, 8, 7, 7, 7, 7, 6, 6, 6, 5, 5, 4, 4, 4, 4, 4, 4, 3, 3, 3, 3, 3, 3, 2, 2, 2, 2, 2, 2, 2, 2, 2, 2, 2, 2, 2, 2, 2, 2], \"yaxis\": \"y\"}],\n",
       "                        {\"height\": 600, \"legend\": {\"tracegroupgap\": 0}, \"margin\": {\"t\": 60}, \"template\": {\"data\": {\"bar\": [{\"error_x\": {\"color\": \"#2a3f5f\"}, \"error_y\": {\"color\": \"#2a3f5f\"}, \"marker\": {\"line\": {\"color\": \"#E5ECF6\", \"width\": 0.5}}, \"type\": \"bar\"}], \"barpolar\": [{\"marker\": {\"line\": {\"color\": \"#E5ECF6\", \"width\": 0.5}}, \"type\": \"barpolar\"}], \"carpet\": [{\"aaxis\": {\"endlinecolor\": \"#2a3f5f\", \"gridcolor\": \"white\", \"linecolor\": \"white\", \"minorgridcolor\": \"white\", \"startlinecolor\": \"#2a3f5f\"}, \"baxis\": {\"endlinecolor\": \"#2a3f5f\", \"gridcolor\": \"white\", \"linecolor\": \"white\", \"minorgridcolor\": \"white\", \"startlinecolor\": \"#2a3f5f\"}, \"type\": \"carpet\"}], \"choropleth\": [{\"colorbar\": {\"outlinewidth\": 0, \"ticks\": \"\"}, \"type\": \"choropleth\"}], \"contour\": [{\"colorbar\": {\"outlinewidth\": 0, \"ticks\": \"\"}, \"colorscale\": [[0.0, \"#0d0887\"], [0.1111111111111111, \"#46039f\"], [0.2222222222222222, \"#7201a8\"], [0.3333333333333333, \"#9c179e\"], [0.4444444444444444, \"#bd3786\"], [0.5555555555555556, \"#d8576b\"], [0.6666666666666666, \"#ed7953\"], [0.7777777777777778, \"#fb9f3a\"], [0.8888888888888888, \"#fdca26\"], [1.0, \"#f0f921\"]], \"type\": \"contour\"}], \"contourcarpet\": [{\"colorbar\": {\"outlinewidth\": 0, \"ticks\": \"\"}, \"type\": \"contourcarpet\"}], \"heatmap\": [{\"colorbar\": {\"outlinewidth\": 0, \"ticks\": \"\"}, \"colorscale\": [[0.0, \"#0d0887\"], [0.1111111111111111, \"#46039f\"], [0.2222222222222222, \"#7201a8\"], [0.3333333333333333, \"#9c179e\"], [0.4444444444444444, \"#bd3786\"], [0.5555555555555556, \"#d8576b\"], [0.6666666666666666, \"#ed7953\"], [0.7777777777777778, \"#fb9f3a\"], [0.8888888888888888, \"#fdca26\"], [1.0, \"#f0f921\"]], \"type\": \"heatmap\"}], \"heatmapgl\": [{\"colorbar\": {\"outlinewidth\": 0, \"ticks\": \"\"}, \"colorscale\": [[0.0, \"#0d0887\"], [0.1111111111111111, \"#46039f\"], [0.2222222222222222, \"#7201a8\"], [0.3333333333333333, \"#9c179e\"], [0.4444444444444444, \"#bd3786\"], [0.5555555555555556, \"#d8576b\"], [0.6666666666666666, \"#ed7953\"], [0.7777777777777778, \"#fb9f3a\"], [0.8888888888888888, \"#fdca26\"], [1.0, \"#f0f921\"]], \"type\": \"heatmapgl\"}], \"histogram\": [{\"marker\": {\"colorbar\": {\"outlinewidth\": 0, \"ticks\": \"\"}}, \"type\": \"histogram\"}], \"histogram2d\": [{\"colorbar\": {\"outlinewidth\": 0, \"ticks\": \"\"}, \"colorscale\": [[0.0, \"#0d0887\"], [0.1111111111111111, \"#46039f\"], [0.2222222222222222, \"#7201a8\"], [0.3333333333333333, \"#9c179e\"], [0.4444444444444444, \"#bd3786\"], [0.5555555555555556, \"#d8576b\"], [0.6666666666666666, \"#ed7953\"], [0.7777777777777778, \"#fb9f3a\"], [0.8888888888888888, \"#fdca26\"], [1.0, \"#f0f921\"]], \"type\": \"histogram2d\"}], \"histogram2dcontour\": [{\"colorbar\": {\"outlinewidth\": 0, \"ticks\": \"\"}, \"colorscale\": [[0.0, \"#0d0887\"], [0.1111111111111111, \"#46039f\"], [0.2222222222222222, \"#7201a8\"], [0.3333333333333333, \"#9c179e\"], [0.4444444444444444, \"#bd3786\"], [0.5555555555555556, \"#d8576b\"], [0.6666666666666666, \"#ed7953\"], [0.7777777777777778, \"#fb9f3a\"], [0.8888888888888888, \"#fdca26\"], [1.0, \"#f0f921\"]], \"type\": \"histogram2dcontour\"}], \"mesh3d\": [{\"colorbar\": {\"outlinewidth\": 0, \"ticks\": \"\"}, \"type\": \"mesh3d\"}], \"parcoords\": [{\"line\": {\"colorbar\": {\"outlinewidth\": 0, \"ticks\": \"\"}}, \"type\": \"parcoords\"}], \"scatter\": [{\"marker\": {\"colorbar\": {\"outlinewidth\": 0, \"ticks\": \"\"}}, \"type\": \"scatter\"}], \"scatter3d\": [{\"line\": {\"colorbar\": {\"outlinewidth\": 0, \"ticks\": \"\"}}, \"marker\": {\"colorbar\": {\"outlinewidth\": 0, \"ticks\": \"\"}}, \"type\": \"scatter3d\"}], \"scattercarpet\": [{\"marker\": {\"colorbar\": {\"outlinewidth\": 0, \"ticks\": \"\"}}, \"type\": \"scattercarpet\"}], \"scattergeo\": [{\"marker\": {\"colorbar\": {\"outlinewidth\": 0, \"ticks\": \"\"}}, \"type\": \"scattergeo\"}], \"scattergl\": [{\"marker\": {\"colorbar\": {\"outlinewidth\": 0, \"ticks\": \"\"}}, \"type\": \"scattergl\"}], \"scattermapbox\": [{\"marker\": {\"colorbar\": {\"outlinewidth\": 0, \"ticks\": \"\"}}, \"type\": \"scattermapbox\"}], \"scatterpolar\": [{\"marker\": {\"colorbar\": {\"outlinewidth\": 0, \"ticks\": \"\"}}, \"type\": \"scatterpolar\"}], \"scatterpolargl\": [{\"marker\": {\"colorbar\": {\"outlinewidth\": 0, \"ticks\": \"\"}}, \"type\": \"scatterpolargl\"}], \"scatterternary\": [{\"marker\": {\"colorbar\": {\"outlinewidth\": 0, \"ticks\": \"\"}}, \"type\": \"scatterternary\"}], \"surface\": [{\"colorbar\": {\"outlinewidth\": 0, \"ticks\": \"\"}, \"colorscale\": [[0.0, \"#0d0887\"], [0.1111111111111111, \"#46039f\"], [0.2222222222222222, \"#7201a8\"], [0.3333333333333333, \"#9c179e\"], [0.4444444444444444, \"#bd3786\"], [0.5555555555555556, \"#d8576b\"], [0.6666666666666666, \"#ed7953\"], [0.7777777777777778, \"#fb9f3a\"], [0.8888888888888888, \"#fdca26\"], [1.0, \"#f0f921\"]], \"type\": \"surface\"}], \"table\": [{\"cells\": {\"fill\": {\"color\": \"#EBF0F8\"}, \"line\": {\"color\": \"white\"}}, \"header\": {\"fill\": {\"color\": \"#C8D4E3\"}, \"line\": {\"color\": \"white\"}}, \"type\": \"table\"}]}, \"layout\": {\"annotationdefaults\": {\"arrowcolor\": \"#2a3f5f\", \"arrowhead\": 0, \"arrowwidth\": 1}, \"colorscale\": {\"diverging\": [[0, \"#8e0152\"], [0.1, \"#c51b7d\"], [0.2, \"#de77ae\"], [0.3, \"#f1b6da\"], [0.4, \"#fde0ef\"], [0.5, \"#f7f7f7\"], [0.6, \"#e6f5d0\"], [0.7, \"#b8e186\"], [0.8, \"#7fbc41\"], [0.9, \"#4d9221\"], [1, \"#276419\"]], \"sequential\": [[0.0, \"#0d0887\"], [0.1111111111111111, \"#46039f\"], [0.2222222222222222, \"#7201a8\"], [0.3333333333333333, \"#9c179e\"], [0.4444444444444444, \"#bd3786\"], [0.5555555555555556, \"#d8576b\"], [0.6666666666666666, \"#ed7953\"], [0.7777777777777778, \"#fb9f3a\"], [0.8888888888888888, \"#fdca26\"], [1.0, \"#f0f921\"]], \"sequentialminus\": [[0.0, \"#0d0887\"], [0.1111111111111111, \"#46039f\"], [0.2222222222222222, \"#7201a8\"], [0.3333333333333333, \"#9c179e\"], [0.4444444444444444, \"#bd3786\"], [0.5555555555555556, \"#d8576b\"], [0.6666666666666666, \"#ed7953\"], [0.7777777777777778, \"#fb9f3a\"], [0.8888888888888888, \"#fdca26\"], [1.0, \"#f0f921\"]]}, \"colorway\": [\"#636efa\", \"#EF553B\", \"#00cc96\", \"#ab63fa\", \"#FFA15A\", \"#19d3f3\", \"#FF6692\", \"#B6E880\", \"#FF97FF\", \"#FECB52\"], \"font\": {\"color\": \"#2a3f5f\"}, \"geo\": {\"bgcolor\": \"white\", \"lakecolor\": \"white\", \"landcolor\": \"#E5ECF6\", \"showlakes\": true, \"showland\": true, \"subunitcolor\": \"white\"}, \"hoverlabel\": {\"align\": \"left\"}, \"hovermode\": \"closest\", \"mapbox\": {\"style\": \"light\"}, \"paper_bgcolor\": \"white\", \"plot_bgcolor\": \"#E5ECF6\", \"polar\": {\"angularaxis\": {\"gridcolor\": \"white\", \"linecolor\": \"white\", \"ticks\": \"\"}, \"bgcolor\": \"#E5ECF6\", \"radialaxis\": {\"gridcolor\": \"white\", \"linecolor\": \"white\", \"ticks\": \"\"}}, \"scene\": {\"xaxis\": {\"backgroundcolor\": \"#E5ECF6\", \"gridcolor\": \"white\", \"gridwidth\": 2, \"linecolor\": \"white\", \"showbackground\": true, \"ticks\": \"\", \"zerolinecolor\": \"white\"}, \"yaxis\": {\"backgroundcolor\": \"#E5ECF6\", \"gridcolor\": \"white\", \"gridwidth\": 2, \"linecolor\": \"white\", \"showbackground\": true, \"ticks\": \"\", \"zerolinecolor\": \"white\"}, \"zaxis\": {\"backgroundcolor\": \"#E5ECF6\", \"gridcolor\": \"white\", \"gridwidth\": 2, \"linecolor\": \"white\", \"showbackground\": true, \"ticks\": \"\", \"zerolinecolor\": \"white\"}}, \"shapedefaults\": {\"line\": {\"color\": \"#2a3f5f\"}}, \"ternary\": {\"aaxis\": {\"gridcolor\": \"white\", \"linecolor\": \"white\", \"ticks\": \"\"}, \"baxis\": {\"gridcolor\": \"white\", \"linecolor\": \"white\", \"ticks\": \"\"}, \"bgcolor\": \"#E5ECF6\", \"caxis\": {\"gridcolor\": \"white\", \"linecolor\": \"white\", \"ticks\": \"\"}}, \"title\": {\"x\": 0.05}, \"xaxis\": {\"automargin\": true, \"gridcolor\": \"white\", \"linecolor\": \"white\", \"ticks\": \"\", \"zerolinecolor\": \"white\", \"zerolinewidth\": 2}, \"yaxis\": {\"automargin\": true, \"gridcolor\": \"white\", \"linecolor\": \"white\", \"ticks\": \"\", \"zerolinecolor\": \"white\", \"zerolinewidth\": 2}}}, \"xaxis\": {\"anchor\": \"y\", \"domain\": [0.0, 0.98], \"title\": {\"text\": \"place\"}}, \"yaxis\": {\"anchor\": \"x\", \"domain\": [0.0, 1.0], \"title\": {\"text\": \"count\"}}},\n",
       "                        {\"responsive\": true}\n",
       "                    ).then(function(){\n",
       "                            \n",
       "var gd = document.getElementById('66900d88-a464-48c2-bdbc-f2814633b364');\n",
       "var x = new MutationObserver(function (mutations, observer) {{\n",
       "        var display = window.getComputedStyle(gd).display;\n",
       "        if (!display || display === 'none') {{\n",
       "            console.log([gd, 'removed!']);\n",
       "            Plotly.purge(gd);\n",
       "            observer.disconnect();\n",
       "        }}\n",
       "}});\n",
       "\n",
       "// Listen for the removal of the full notebook cells\n",
       "var notebookContainer = gd.closest('#notebook-container');\n",
       "if (notebookContainer) {{\n",
       "    x.observe(notebookContainer, {childList: true});\n",
       "}}\n",
       "\n",
       "// Listen for the clearing of the current output cell\n",
       "var outputEl = gd.closest('.output');\n",
       "if (outputEl) {{\n",
       "    x.observe(outputEl, {childList: true});\n",
       "}}\n",
       "\n",
       "                        })\n",
       "                };\n",
       "                });\n",
       "            </script>\n",
       "        </div>"
      ]
     },
     "metadata": {},
     "output_type": "display_data"
    }
   ],
   "source": [
    "import plotly.express as px\n",
    "import pandas as pd\n",
    "df = pd.DataFrame.from_dict(c, orient='index').reset_index()\n",
    "df = df.rename(columns={'index':'place', 0:'count'})\n",
    "df = df[df['count'] > 1] # Remove places with only one occurence\n",
    "df = df.sort_values('count', ascending=False)\n",
    "\n",
    "fig = px.scatter(df, x=\"place\", y='count')\n",
    "fig.show()"
   ]
  },
  {
   "cell_type": "code",
   "execution_count": 116,
   "metadata": {},
   "outputs": [],
   "source": [
    "from prozhito_app.models import Entry\n",
    "from django.db.models import Q \n",
    "people_ = []\n",
    "entries = Entry.objects.filter(~Q(people=None))\n",
    "for entry in entries:\n",
    "    people = entry.people.all()\n",
    "    for person in people:\n",
    "        people_.append(' '.join([person.first_name, person.patronymic, person.family_name]))\n",
    "c = Counter(people_)\n"
   ]
  },
  {
   "cell_type": "code",
   "execution_count": 119,
   "metadata": {},
   "outputs": [
    {
     "data": {
      "application/vnd.plotly.v1+json": {
       "config": {
        "plotlyServerURL": "https://plot.ly"
       },
       "data": [
        {
         "hoverlabel": {
          "namelength": 0
         },
         "hovertemplate": "person=%{x}<br>count=%{y}",
         "legendgroup": "",
         "marker": {
          "color": "#636efa",
          "symbol": "circle"
         },
         "mode": "markers",
         "name": "",
         "showlegend": false,
         "type": "scatter",
         "x": [
          "А А карзинкин",
          "В И ленин",
          "С М бабинцев",
          "А Н косыгина",
          "С В прохоров",
          "Л И брежнев",
          "А Н косыгин",
          "Л Н толстой",
          "И В сталин",
          "М С горбачев",
          "Д Д иванов",
          "А А ильин",
          "Н П лихачев",
          "Н С хрущева",
          "Н С хрущев",
          "Н А тихонов",
          "М С горбачева",
          "Н А бакланов",
          "Н К байбаков",
          "К У черненко",
          "П А столыпин",
          "Н П лихачева",
          "С Ф платонов",
          "К В крашенинников",
          "С В бахрушин",
          "сергей михайлович князь",
          "Ю В андропов",
          "Н И рыжков",
          "Д Ф устинов",
          "А Н толстой",
          "Д Н егоров",
          "Л В смирнов",
          "В М молотов",
          "М Н сперанский",
          "А И яковлев",
          "А М горький",
          "Н Я мандельштам",
          "Л Н толстая",
          "Э А ковалевский",
          "М Н ермолова",
          "Ф М достоевский",
          "владимир александрович князь",
          "И И толстой",
          "В Г чертков",
          "М И терещенко",
          "Н В власов",
          "А С орлов",
          "В Ф гарбузов",
          "А П кириленко",
          "иван фёдорович корниенко",
          "А И солженицын",
          "Н Л бродский",
          "М Н гусева",
          "И Т новиков",
          "А А громыко",
          "иван александрович всеволожский",
          "А М бардыгин",
          "В А федоренко",
          "П П сафронов",
          "К С станиславский",
          "П Н миллер",
          "П П фалалеева",
          "А М ремизов",
          "А Н толстая",
          "С А толстой",
          "Р В иванов",
          "А И анисимов",
          "В Ф бровченко",
          "М В будылин",
          "Н Ф кузнецов",
          "А А сиверс",
          "В П мишин",
          "георгий леонидович баранов",
          "Б Н ельцина",
          "В К шилейко",
          "В В путин",
          "Л И воронова",
          "А А бахрушин",
          "Н Б бакланов",
          "Д Н егорова",
          "А К толстой",
          "мария павловна княгиня",
          "Н В гоголь",
          "Б Н ельцин",
          "С И смирнов",
          "А Н яковлев",
          "Ю М соколов",
          "К И чуковский",
          "Б Ф братченко",
          "И Я яковлев",
          "И И соколов",
          "В В загоруйко",
          "А А захаров",
          "николай андреевич малевский",
          "А П ляшко",
          "Т Г шевченко",
          "В И вернадский",
          "сергей александрович князь",
          "Б М соколов",
          "Е А бальмонт",
          "В Г короленко",
          "С И якимюк",
          "Н Е вернадская",
          "А Д сахаров",
          "дмитрий константинович львовский",
          "М А голубцова",
          "А М шапошников",
          "С М соловьев",
          "А Н котляренко",
          "сергей василиевич шервинский",
          "наталья львовна дружинина",
          "владимир ильич ленин",
          "Л Я гинзбург",
          "В В розанов",
          "И С лосева",
          "П Г куликовский",
          "М А булгаков",
          "М А суслов",
          "А Т твардовский",
          "Б К зайцев",
          "Ф И шаляпин",
          "В Л комаров",
          "В В гришин",
          "О Э мандельштам",
          "А И андреев",
          "П Н сакулина",
          "Н А морозов",
          "И И горбунов",
          "Е Ю сидоров",
          "Л В кафка",
          "Н К крупская",
          "Д И толстой",
          "И Е тамм",
          "Н В давыдов",
          "Н Н померанец",
          "П Н заяц",
          "А Ф керенский",
          "А Н яковлева",
          "константин петрович победоносцев",
          "С В михалков",
          "А И микоян",
          "П И нерадовский",
          "О Ю шмидт",
          "А И лукьянов",
          "А А ахматова",
          "В К клейн",
          "Ф А кудрявцев",
          "М А шмидт",
          "Л Я горелик",
          "В В маяковский",
          "К М побегайло",
          "Л К чуковская",
          "арсений александрович тарковский",
          "В В кротов",
          "А В луначарский",
          "андрей дмитриевич сахаров",
          "П Н дурново",
          "К А коровин",
          "Н Д соколов",
          "мария вениаминовна юдина",
          "лидия корнеевна чуковская",
          "С Л толстой",
          "леонид ильич брежнев",
          "О В волобуев",
          "Ф И тютчев",
          "ирина борисовна старченко",
          "А А ахматов",
          "П В зубов",
          "мария александровна скрябина",
          "И А бунин",
          "А А чернов",
          "А И герцен",
          "А Е пунина",
          "Ф Ф кузнецов",
          "И Ф корниенко",
          "владимир владимирович загоруйко",
          "лев николаевич толстой",
          "Л М каганович",
          "В П осадченко",
          "Ю А поляков",
          "Г Л баранов",
          "А Г попов",
          "П И шкидченко",
          "И Н дурново",
          "степан иванович неверов",
          "андрей владимирович князь",
          "С И вавилов",
          "В Д герасименко",
          "Н П сидор",
          "Е М жуков",
          "Д А толстой",
          "Т В доронина",
          "константин константинович князь",
          "В П мишина",
          "А П александров",
          "Д С лихачева",
          "Н А бруни",
          "С И танеев",
          "Л Н замятина",
          "И В попов",
          "А М майоров",
          "димитрий константинович львовский",
          "А А андреев",
          "В Т баронов",
          "А С пушкин",
          "Г К жуков",
          "Д Н альшиц",
          "ольга александровна глебова",
          "М М голицын",
          "М В келдыш",
          "А В головнин",
          "М С сухотин",
          "галина фёдоровна петухова",
          "П К иванов",
          "елизавета фёдоровна княгиня",
          "виктор александрович гордин",
          "Н Д протасов",
          "Н И троцкая",
          "И С тургенева",
          "М И ростовцев",
          "Т И батуров",
          "А А жданов",
          "В И качалов",
          "П Н мартынова",
          "К Т мазуров",
          "николай николаевич князь",
          "анастасия ивановна цветаева",
          "Е Х балабанов",
          "Е К лигачев",
          "Э А шеварднадзе",
          "М Н германова",
          "В Н новик",
          "В А медведев",
          "владимир иванович федченко",
          "А К кондратьев",
          "А Н крылов",
          "С П григорова",
          "А В щусев",
          "Н Л рубинштейн",
          "П Н милюков",
          "П К вощинин",
          "А А спицын",
          "Д Д шостакович",
          "Н А рожков",
          "О Г орлов",
          "В А шаталов",
          "Н П сидорова",
          "А А егоров",
          "елена петровна пруткина",
          "А М фёдоров",
          "И А гончаров",
          "Н А милютин",
          "П П фалалей",
          "В В виноградов",
          "анна андреевна ахматова",
          "З Н гиппиус",
          "Н П каманина",
          "С М волконский",
          "Н А некрасов",
          "А С орлова",
          "иосиф виссарионович сталин",
          "Г Н федотова",
          "В А смирнов",
          "А А смирнов",
          "Д С лихачев",
          "К Д лаврененко",
          "надежда яковлевна мандельштам",
          "антон павлович чехов",
          "В В бабенко",
          "К П победоносец",
          "П Н поспелов",
          "П А жилин",
          "александр петрович извольский",
          "алексей александрович князь",
          "А А кошева",
          "Я Х чернышов",
          "П И бирюков",
          "И Е репина",
          "А И антонов",
          "виктор павлович осадченко",
          "И П павлова",
          "Н Н воронина",
          "И М москвин",
          "В С фрол",
          "владимир алексеевич федоренко",
          "Е С юрова",
          "З П базилева",
          "В Я лакшин",
          "Я И смирнов",
          "Ф И пров",
          "А А попейко",
          "О И попов",
          "П И чайковский",
          "М В кафка",
          "А В живаго",
          "П В волобуев",
          "Б Н пономарев",
          "И И дмитриев",
          "В В журавлев",
          "К П победоносцева",
          "В В шульгин",
          "С В иванов",
          "А М панкратова",
          "К Е ворошилов",
          "В М алексеев",
          "Г А стадийчук",
          "А К антонов",
          "иван макарович онищенко",
          "Н И вавилов",
          "М М петипа",
          "П Н федосей",
          "Н М дружинин",
          "С С смирнов",
          "В А городцов",
          "Д П сухов",
          "А М василевский",
          "мария михайловна голицына",
          "Н Н пётр",
          "пётр георгиевич ольденбургский",
          "М С петров",
          "юрий георгиевич ефремов",
          "Е П муратова",
          "К П феоктистова",
          "Д С мережковский",
          "А М лалаянц",
          "Ф Ф нотгафт",
          "В Н фигнер",
          "И И любименко",
          "Л Я гуревич",
          "Г В плеханов",
          "людмила николаевна замятина",
          "А Г рубинштейн",
          "А И еременко",
          "В А твардовская",
          "С П иван",
          "Г М маленков",
          "К Ф измайлов",
          "В И лебедев",
          "З Н нуриев",
          "Э Г моисеенко",
          "А А андреева",
          "александр петрович ольденбургский",
          "Л С берг",
          "В М комаров",
          "С С смирнова",
          "И И давыдов",
          "П С шереметева",
          "Н П игнатьев",
          "И М толстой",
          "Н М пржевальский",
          "М Ф андреев",
          "Н Г дудченко",
          "С А голубцов",
          "алексей николаевич толстой",
          "А А фадеев",
          "А Л артюхин",
          "М Г савин",
          "Д М позднеев",
          "О Н анненкова",
          "А В власов",
          "В В усенко",
          "М Н чуркина",
          "В А петров",
          "П Н милюкова",
          "М Г савина",
          "В Н яковлев",
          "А Д самарин",
          "С М голицын",
          "П Ф ломако",
          "М А голубцов",
          "борис георгиевич тищенко",
          "А Г дементьев",
          "В С лебедев",
          "А М румянцев",
          "С А толстая",
          "В В кузнецов",
          "В Г гейман",
          "Л И пономарев",
          "иван алексеевич бунин",
          "С З могрычев",
          "Е Н трубецкая",
          "Ю А олсуфьев",
          "В И иванов",
          "В И троицкий",
          "Р А медведев",
          "В Д голицын",
          "А В григорьев",
          "Г А алиев",
          "М А лифшиц",
          "Д Н анучина",
          "О А судейкина",
          "Ю И бундин",
          "М М бахтин",
          "Н И бухарин",
          "Н С державин",
          "В П смирнов",
          "В Д набоков",
          "А А гречко",
          "михаил михайлович пришвин",
          "М В попов",
          "пётр алексеевич николаев",
          "В Н буденный",
          "В А симов",
          "Н Н померанцева",
          "П Н федосеева",
          "пётр ильич чайковский",
          "М М ковалевский",
          "В Ф комиссаржевская",
          "Ю Г ефремов",
          "В Н давыдова",
          "Т В розанов",
          "А А леонов",
          "В Н давыд",
          "галина георгиевна анисимова",
          "М О чудаков",
          "Л Д троцкий",
          "юрий петрович любимов",
          "М Ю лермонтов",
          "И Е мандельштам",
          "А С танеева",
          "М Г первухин",
          "И А баранов",
          "алексей константинович толстой",
          "П Д барановский",
          "александр сергеевич пушкин",
          "В Г распутин",
          "В Я исаев",
          "С А казаров",
          "Б М ляпунов",
          "И В сидоров",
          "сергей павлович королёв",
          "И М тарабрин",
          "В В латышев",
          "М В будылина",
          "В П волгин",
          "И А новиков",
          "никита сергеевич хрущев",
          "И Е забелина",
          "О К толстой",
          "В И воротников",
          "Л П берия",
          "Н А гринвальд",
          "ксения феодоровна колесникова",
          "И А сац",
          "софья андреевна толстая",
          "Л Н горелов",
          "Т Ф кузьмин",
          "К В васильев",
          "елена сергеевна булгакова",
          "Ф А головин",
          "М В ватсон",
          "михаил афанасиевич булгаков",
          "И Я антуфьев",
          "В П глушко",
          "К Д бушуев",
          "В В богданов",
          "фёдор михайлович достоевский",
          "И С любаев",
          "А П сергеенко",
          "В П мжаванадзе",
          "платон иванович митьков",
          "Ф В сапожников",
          "П А сергеенко",
          "Ю Д левин",
          "И С бах",
          "А И некрасов",
          "А П боткина",
          "геннадий александрович казаков",
          "Ю И минералов",
          "Ю М лужков",
          "М В иванов",
          "юрий алексеевич гагарин",
          "Л М спирин",
          "М М иванов",
          "В К макаров",
          "М С сухотина",
          "Н В малахов",
          "А К виноградов",
          "татьяна марковна алданова",
          "С И мицкевич",
          "А А тихомиров",
          "иван сергеевич тургенев",
          "А И дмитриев",
          "А А бобринский",
          "отто юлиевич шмидт",
          "М Л лозинский",
          "С Г строганов",
          "И А ильин",
          "П П ефименко",
          "А Н добролюбов",
          "А Н свирин",
          "Я П полонский",
          "В С лебедева",
          "И Т шамедько",
          "павел василиевич щетинкин",
          "юрий иванович бундин",
          "А С танеев",
          "А И коновалов",
          "В Я дьяченко",
          "Г Я бакланов",
          "Н П смирнова",
          "А Н филиппова",
          "А В гладков",
          "М М литвинов",
          "Н И иванов",
          "С С прокофьева",
          "Л М леонов",
          "Н И петров",
          "Г М белявский",
          "Т С соболева",
          "Н М емельянов",
          "борис михайлович глинский",
          "марина михайловна постникова",
          "К Н незлобина",
          "И С остроухова",
          "андрей николаевич муравьев",
          "В Д улезько",
          "Н И шишкин",
          "глеб михайлович ванновский",
          "геннадий иванович решетников",
          "И С тургенев",
          "М В алексеев",
          "В А бобринский",
          "Н Ф фёдоров",
          "владимир карлович саблер",
          "В Э дымшиц",
          "Н А мальцев",
          "Е А карпов",
          "Б А рыбаков",
          "В М чернов",
          "К А вершинин",
          "Н Ф анненский",
          "М С соломенцева",
          "Л М лопатин",
          "А Н громов",
          "А Н тихонов",
          "М А волошин",
          "В И гусев",
          "М Н муравьева",
          "М Н климентова",
          "А А орлов",
          "А П мюллер",
          "В Э мейерхольд",
          "В С фёдор",
          "виктор александрович никольский",
          "А И куприн",
          "С В рахманинов",
          "Б В беккер",
          "С И шлифштейн",
          "А П остроумова",
          "Е И силин",
          "вячеслав михайлович молотов",
          "людмила филипповна бабицкая",
          "иван григориевич измайлов",
          "вадим павлович гарам",
          "Н П игнатьева",
          "В В иванов",
          "фёдор ефимович демин",
          "фёдор фёдорович фидлер",
          "А Н крылова",
          "александр исаевич солженицын",
          "Т М алданов",
          "николай иванович вавилов",
          "П И беляев",
          "Е Т скорик",
          "Н П смирнов",
          "И М степанов",
          "К А керимов",
          "лев александрович тихомиров",
          "А Я вышинский",
          "дмитрий матвеевич позднеев",
          "С Л соколов",
          "В Ф симиренко",
          "степан осипович макаров",
          "валентина сергеевна трегубова",
          "николай максимилианович лейхтенбергский",
          "Л А мелентьев",
          "П И степанов",
          "П Л капица",
          "В Н ганичева",
          "В А каверин",
          "А М токарев",
          "С И худяков",
          "А Л толстая",
          "Н Н пунина",
          "эдуард александрович ковалевский",
          "Ю Е шамарин",
          "И С зильберштейн",
          "капитолина ивановна мадробурская",
          "А И гумилева",
          "А К глазунов",
          "В Н новикова",
          "К Е ворошилова",
          "А О чубарьян",
          "И И бродский",
          "Е И толстиков",
          "А А фомин",
          "М В юдин",
          "А В карташев",
          "Ц Г бадмажапов",
          "П С рожицким",
          "И Е бондаренко",
          "В Н поляк",
          "Н М иванцов",
          "Н Я эйдельман",
          "А М коноплянцев",
          "лидия яковлевна гинзбург",
          "В Н яковлева",
          "Л М иванов",
          "анна петровна остроумова",
          "Ф Р козлов",
          "А Г сергеев",
          "А М герасимов",
          "В Я шебалин",
          "Н А назарбаев",
          "А В кривошеин",
          "ольга францевна гадзецкая",
          "Б М глинский",
          "А Н островский",
          "Е Н карпова",
          "А А игнатьев",
          "В П олейник",
          "И С аксаков",
          "Я И финогенов",
          "пётр александрович ольденбургский",
          "М М фёдоров",
          "сергей николаевич есин",
          "К К рокоссовский",
          "В М пролейко",
          "П О морозов",
          "М Я шнейдер",
          "А Л коган"
         ],
         "xaxis": "x",
         "y": [
          437,
          295,
          252,
          244,
          225,
          222,
          215,
          200,
          178,
          166,
          162,
          150,
          130,
          129,
          127,
          118,
          118,
          108,
          105,
          99,
          97,
          95,
          93,
          88,
          83,
          82,
          75,
          72,
          70,
          70,
          67,
          66,
          62,
          62,
          61,
          59,
          59,
          59,
          59,
          58,
          58,
          58,
          57,
          57,
          56,
          55,
          55,
          54,
          54,
          53,
          52,
          50,
          50,
          49,
          49,
          49,
          48,
          48,
          48,
          48,
          47,
          47,
          47,
          44,
          44,
          43,
          43,
          43,
          43,
          43,
          43,
          42,
          42,
          42,
          42,
          42,
          42,
          41,
          41,
          41,
          41,
          40,
          40,
          39,
          39,
          39,
          39,
          38,
          38,
          38,
          38,
          37,
          37,
          37,
          37,
          36,
          36,
          36,
          35,
          35,
          35,
          35,
          35,
          35,
          35,
          34,
          34,
          34,
          34,
          34,
          33,
          33,
          33,
          33,
          33,
          33,
          33,
          33,
          33,
          32,
          32,
          32,
          32,
          32,
          32,
          31,
          31,
          31,
          31,
          31,
          31,
          31,
          31,
          31,
          31,
          30,
          30,
          30,
          30,
          30,
          30,
          30,
          30,
          29,
          29,
          29,
          29,
          29,
          29,
          29,
          29,
          29,
          28,
          28,
          28,
          28,
          28,
          28,
          28,
          27,
          27,
          27,
          27,
          27,
          26,
          26,
          26,
          26,
          26,
          26,
          26,
          26,
          26,
          26,
          26,
          25,
          25,
          25,
          25,
          25,
          25,
          25,
          25,
          25,
          25,
          25,
          24,
          24,
          24,
          24,
          24,
          24,
          24,
          24,
          24,
          24,
          24,
          24,
          24,
          23,
          23,
          23,
          23,
          23,
          23,
          23,
          23,
          23,
          23,
          23,
          23,
          23,
          23,
          23,
          22,
          22,
          22,
          22,
          22,
          22,
          22,
          22,
          22,
          22,
          22,
          22,
          22,
          22,
          21,
          21,
          21,
          21,
          21,
          21,
          21,
          21,
          21,
          21,
          21,
          21,
          21,
          21,
          21,
          21,
          21,
          21,
          21,
          20,
          20,
          20,
          20,
          20,
          20,
          20,
          20,
          20,
          20,
          20,
          20,
          20,
          20,
          20,
          20,
          20,
          20,
          20,
          20,
          19,
          19,
          19,
          19,
          19,
          19,
          19,
          19,
          19,
          19,
          19,
          19,
          19,
          19,
          19,
          19,
          19,
          19,
          19,
          19,
          19,
          19,
          19,
          19,
          19,
          19,
          18,
          18,
          18,
          18,
          18,
          18,
          18,
          18,
          18,
          18,
          18,
          18,
          18,
          18,
          18,
          18,
          18,
          18,
          18,
          18,
          18,
          17,
          17,
          17,
          17,
          17,
          17,
          17,
          17,
          17,
          17,
          17,
          17,
          17,
          17,
          17,
          17,
          17,
          17,
          17,
          17,
          17,
          17,
          17,
          17,
          17,
          17,
          17,
          17,
          16,
          16,
          16,
          16,
          16,
          16,
          16,
          16,
          16,
          16,
          16,
          16,
          16,
          16,
          16,
          16,
          16,
          16,
          16,
          16,
          16,
          16,
          16,
          16,
          16,
          16,
          16,
          16,
          16,
          16,
          16,
          15,
          15,
          15,
          15,
          15,
          15,
          15,
          15,
          15,
          15,
          15,
          15,
          15,
          15,
          15,
          15,
          15,
          15,
          15,
          15,
          15,
          15,
          15,
          15,
          15,
          15,
          15,
          15,
          15,
          15,
          15,
          15,
          15,
          15,
          15,
          15,
          14,
          14,
          14,
          14,
          14,
          14,
          14,
          14,
          14,
          14,
          14,
          14,
          14,
          14,
          14,
          14,
          14,
          14,
          14,
          14,
          14,
          14,
          14,
          14,
          14,
          14,
          14,
          14,
          14,
          14,
          14,
          14,
          14,
          14,
          14,
          14,
          14,
          14,
          13,
          13,
          13,
          13,
          13,
          13,
          13,
          13,
          13,
          13,
          13,
          13,
          13,
          13,
          13,
          13,
          13,
          13,
          13,
          13,
          13,
          13,
          13,
          13,
          13,
          13,
          13,
          13,
          13,
          13,
          13,
          13,
          13,
          13,
          13,
          13,
          13,
          13,
          13,
          13,
          13,
          13,
          13,
          13,
          13,
          13,
          13,
          13,
          13,
          13,
          13,
          13,
          13,
          13,
          13,
          13,
          13,
          13,
          13,
          13,
          13,
          13,
          13,
          13,
          13,
          13,
          13,
          13,
          13,
          13,
          12,
          12,
          12,
          12,
          12,
          12,
          12,
          12,
          12,
          12,
          12,
          12,
          12,
          12,
          12,
          12,
          12,
          12,
          12,
          12,
          12,
          12,
          12,
          12,
          12,
          12,
          12,
          12,
          12,
          12,
          12,
          12,
          12,
          12,
          12,
          12,
          12,
          12,
          12,
          12,
          12,
          12,
          12,
          12,
          12,
          12,
          12,
          12,
          12,
          12,
          12,
          12,
          12,
          12,
          12,
          11,
          11,
          11,
          11,
          11,
          11,
          11,
          11,
          11,
          11,
          11,
          11,
          11,
          11,
          11,
          11,
          11,
          11,
          11,
          11,
          11,
          11,
          11,
          11,
          11,
          11,
          11,
          11,
          11,
          11,
          11,
          11,
          11,
          11,
          11,
          11,
          11,
          11,
          11,
          11,
          11,
          11,
          11,
          11,
          11,
          11,
          11,
          11,
          11,
          11,
          11,
          11,
          11,
          11,
          11,
          11,
          11,
          11,
          11,
          11
         ],
         "yaxis": "y"
        }
       ],
       "layout": {
        "height": 600,
        "legend": {
         "tracegroupgap": 0
        },
        "margin": {
         "t": 60
        },
        "template": {
         "data": {
          "bar": [
           {
            "error_x": {
             "color": "#2a3f5f"
            },
            "error_y": {
             "color": "#2a3f5f"
            },
            "marker": {
             "line": {
              "color": "#E5ECF6",
              "width": 0.5
             }
            },
            "type": "bar"
           }
          ],
          "barpolar": [
           {
            "marker": {
             "line": {
              "color": "#E5ECF6",
              "width": 0.5
             }
            },
            "type": "barpolar"
           }
          ],
          "carpet": [
           {
            "aaxis": {
             "endlinecolor": "#2a3f5f",
             "gridcolor": "white",
             "linecolor": "white",
             "minorgridcolor": "white",
             "startlinecolor": "#2a3f5f"
            },
            "baxis": {
             "endlinecolor": "#2a3f5f",
             "gridcolor": "white",
             "linecolor": "white",
             "minorgridcolor": "white",
             "startlinecolor": "#2a3f5f"
            },
            "type": "carpet"
           }
          ],
          "choropleth": [
           {
            "colorbar": {
             "outlinewidth": 0,
             "ticks": ""
            },
            "type": "choropleth"
           }
          ],
          "contour": [
           {
            "colorbar": {
             "outlinewidth": 0,
             "ticks": ""
            },
            "colorscale": [
             [
              0,
              "#0d0887"
             ],
             [
              0.1111111111111111,
              "#46039f"
             ],
             [
              0.2222222222222222,
              "#7201a8"
             ],
             [
              0.3333333333333333,
              "#9c179e"
             ],
             [
              0.4444444444444444,
              "#bd3786"
             ],
             [
              0.5555555555555556,
              "#d8576b"
             ],
             [
              0.6666666666666666,
              "#ed7953"
             ],
             [
              0.7777777777777778,
              "#fb9f3a"
             ],
             [
              0.8888888888888888,
              "#fdca26"
             ],
             [
              1,
              "#f0f921"
             ]
            ],
            "type": "contour"
           }
          ],
          "contourcarpet": [
           {
            "colorbar": {
             "outlinewidth": 0,
             "ticks": ""
            },
            "type": "contourcarpet"
           }
          ],
          "heatmap": [
           {
            "colorbar": {
             "outlinewidth": 0,
             "ticks": ""
            },
            "colorscale": [
             [
              0,
              "#0d0887"
             ],
             [
              0.1111111111111111,
              "#46039f"
             ],
             [
              0.2222222222222222,
              "#7201a8"
             ],
             [
              0.3333333333333333,
              "#9c179e"
             ],
             [
              0.4444444444444444,
              "#bd3786"
             ],
             [
              0.5555555555555556,
              "#d8576b"
             ],
             [
              0.6666666666666666,
              "#ed7953"
             ],
             [
              0.7777777777777778,
              "#fb9f3a"
             ],
             [
              0.8888888888888888,
              "#fdca26"
             ],
             [
              1,
              "#f0f921"
             ]
            ],
            "type": "heatmap"
           }
          ],
          "heatmapgl": [
           {
            "colorbar": {
             "outlinewidth": 0,
             "ticks": ""
            },
            "colorscale": [
             [
              0,
              "#0d0887"
             ],
             [
              0.1111111111111111,
              "#46039f"
             ],
             [
              0.2222222222222222,
              "#7201a8"
             ],
             [
              0.3333333333333333,
              "#9c179e"
             ],
             [
              0.4444444444444444,
              "#bd3786"
             ],
             [
              0.5555555555555556,
              "#d8576b"
             ],
             [
              0.6666666666666666,
              "#ed7953"
             ],
             [
              0.7777777777777778,
              "#fb9f3a"
             ],
             [
              0.8888888888888888,
              "#fdca26"
             ],
             [
              1,
              "#f0f921"
             ]
            ],
            "type": "heatmapgl"
           }
          ],
          "histogram": [
           {
            "marker": {
             "colorbar": {
              "outlinewidth": 0,
              "ticks": ""
             }
            },
            "type": "histogram"
           }
          ],
          "histogram2d": [
           {
            "colorbar": {
             "outlinewidth": 0,
             "ticks": ""
            },
            "colorscale": [
             [
              0,
              "#0d0887"
             ],
             [
              0.1111111111111111,
              "#46039f"
             ],
             [
              0.2222222222222222,
              "#7201a8"
             ],
             [
              0.3333333333333333,
              "#9c179e"
             ],
             [
              0.4444444444444444,
              "#bd3786"
             ],
             [
              0.5555555555555556,
              "#d8576b"
             ],
             [
              0.6666666666666666,
              "#ed7953"
             ],
             [
              0.7777777777777778,
              "#fb9f3a"
             ],
             [
              0.8888888888888888,
              "#fdca26"
             ],
             [
              1,
              "#f0f921"
             ]
            ],
            "type": "histogram2d"
           }
          ],
          "histogram2dcontour": [
           {
            "colorbar": {
             "outlinewidth": 0,
             "ticks": ""
            },
            "colorscale": [
             [
              0,
              "#0d0887"
             ],
             [
              0.1111111111111111,
              "#46039f"
             ],
             [
              0.2222222222222222,
              "#7201a8"
             ],
             [
              0.3333333333333333,
              "#9c179e"
             ],
             [
              0.4444444444444444,
              "#bd3786"
             ],
             [
              0.5555555555555556,
              "#d8576b"
             ],
             [
              0.6666666666666666,
              "#ed7953"
             ],
             [
              0.7777777777777778,
              "#fb9f3a"
             ],
             [
              0.8888888888888888,
              "#fdca26"
             ],
             [
              1,
              "#f0f921"
             ]
            ],
            "type": "histogram2dcontour"
           }
          ],
          "mesh3d": [
           {
            "colorbar": {
             "outlinewidth": 0,
             "ticks": ""
            },
            "type": "mesh3d"
           }
          ],
          "parcoords": [
           {
            "line": {
             "colorbar": {
              "outlinewidth": 0,
              "ticks": ""
             }
            },
            "type": "parcoords"
           }
          ],
          "scatter": [
           {
            "marker": {
             "colorbar": {
              "outlinewidth": 0,
              "ticks": ""
             }
            },
            "type": "scatter"
           }
          ],
          "scatter3d": [
           {
            "line": {
             "colorbar": {
              "outlinewidth": 0,
              "ticks": ""
             }
            },
            "marker": {
             "colorbar": {
              "outlinewidth": 0,
              "ticks": ""
             }
            },
            "type": "scatter3d"
           }
          ],
          "scattercarpet": [
           {
            "marker": {
             "colorbar": {
              "outlinewidth": 0,
              "ticks": ""
             }
            },
            "type": "scattercarpet"
           }
          ],
          "scattergeo": [
           {
            "marker": {
             "colorbar": {
              "outlinewidth": 0,
              "ticks": ""
             }
            },
            "type": "scattergeo"
           }
          ],
          "scattergl": [
           {
            "marker": {
             "colorbar": {
              "outlinewidth": 0,
              "ticks": ""
             }
            },
            "type": "scattergl"
           }
          ],
          "scattermapbox": [
           {
            "marker": {
             "colorbar": {
              "outlinewidth": 0,
              "ticks": ""
             }
            },
            "type": "scattermapbox"
           }
          ],
          "scatterpolar": [
           {
            "marker": {
             "colorbar": {
              "outlinewidth": 0,
              "ticks": ""
             }
            },
            "type": "scatterpolar"
           }
          ],
          "scatterpolargl": [
           {
            "marker": {
             "colorbar": {
              "outlinewidth": 0,
              "ticks": ""
             }
            },
            "type": "scatterpolargl"
           }
          ],
          "scatterternary": [
           {
            "marker": {
             "colorbar": {
              "outlinewidth": 0,
              "ticks": ""
             }
            },
            "type": "scatterternary"
           }
          ],
          "surface": [
           {
            "colorbar": {
             "outlinewidth": 0,
             "ticks": ""
            },
            "colorscale": [
             [
              0,
              "#0d0887"
             ],
             [
              0.1111111111111111,
              "#46039f"
             ],
             [
              0.2222222222222222,
              "#7201a8"
             ],
             [
              0.3333333333333333,
              "#9c179e"
             ],
             [
              0.4444444444444444,
              "#bd3786"
             ],
             [
              0.5555555555555556,
              "#d8576b"
             ],
             [
              0.6666666666666666,
              "#ed7953"
             ],
             [
              0.7777777777777778,
              "#fb9f3a"
             ],
             [
              0.8888888888888888,
              "#fdca26"
             ],
             [
              1,
              "#f0f921"
             ]
            ],
            "type": "surface"
           }
          ],
          "table": [
           {
            "cells": {
             "fill": {
              "color": "#EBF0F8"
             },
             "line": {
              "color": "white"
             }
            },
            "header": {
             "fill": {
              "color": "#C8D4E3"
             },
             "line": {
              "color": "white"
             }
            },
            "type": "table"
           }
          ]
         },
         "layout": {
          "annotationdefaults": {
           "arrowcolor": "#2a3f5f",
           "arrowhead": 0,
           "arrowwidth": 1
          },
          "colorscale": {
           "diverging": [
            [
             0,
             "#8e0152"
            ],
            [
             0.1,
             "#c51b7d"
            ],
            [
             0.2,
             "#de77ae"
            ],
            [
             0.3,
             "#f1b6da"
            ],
            [
             0.4,
             "#fde0ef"
            ],
            [
             0.5,
             "#f7f7f7"
            ],
            [
             0.6,
             "#e6f5d0"
            ],
            [
             0.7,
             "#b8e186"
            ],
            [
             0.8,
             "#7fbc41"
            ],
            [
             0.9,
             "#4d9221"
            ],
            [
             1,
             "#276419"
            ]
           ],
           "sequential": [
            [
             0,
             "#0d0887"
            ],
            [
             0.1111111111111111,
             "#46039f"
            ],
            [
             0.2222222222222222,
             "#7201a8"
            ],
            [
             0.3333333333333333,
             "#9c179e"
            ],
            [
             0.4444444444444444,
             "#bd3786"
            ],
            [
             0.5555555555555556,
             "#d8576b"
            ],
            [
             0.6666666666666666,
             "#ed7953"
            ],
            [
             0.7777777777777778,
             "#fb9f3a"
            ],
            [
             0.8888888888888888,
             "#fdca26"
            ],
            [
             1,
             "#f0f921"
            ]
           ],
           "sequentialminus": [
            [
             0,
             "#0d0887"
            ],
            [
             0.1111111111111111,
             "#46039f"
            ],
            [
             0.2222222222222222,
             "#7201a8"
            ],
            [
             0.3333333333333333,
             "#9c179e"
            ],
            [
             0.4444444444444444,
             "#bd3786"
            ],
            [
             0.5555555555555556,
             "#d8576b"
            ],
            [
             0.6666666666666666,
             "#ed7953"
            ],
            [
             0.7777777777777778,
             "#fb9f3a"
            ],
            [
             0.8888888888888888,
             "#fdca26"
            ],
            [
             1,
             "#f0f921"
            ]
           ]
          },
          "colorway": [
           "#636efa",
           "#EF553B",
           "#00cc96",
           "#ab63fa",
           "#FFA15A",
           "#19d3f3",
           "#FF6692",
           "#B6E880",
           "#FF97FF",
           "#FECB52"
          ],
          "font": {
           "color": "#2a3f5f"
          },
          "geo": {
           "bgcolor": "white",
           "lakecolor": "white",
           "landcolor": "#E5ECF6",
           "showlakes": true,
           "showland": true,
           "subunitcolor": "white"
          },
          "hoverlabel": {
           "align": "left"
          },
          "hovermode": "closest",
          "mapbox": {
           "style": "light"
          },
          "paper_bgcolor": "white",
          "plot_bgcolor": "#E5ECF6",
          "polar": {
           "angularaxis": {
            "gridcolor": "white",
            "linecolor": "white",
            "ticks": ""
           },
           "bgcolor": "#E5ECF6",
           "radialaxis": {
            "gridcolor": "white",
            "linecolor": "white",
            "ticks": ""
           }
          },
          "scene": {
           "xaxis": {
            "backgroundcolor": "#E5ECF6",
            "gridcolor": "white",
            "gridwidth": 2,
            "linecolor": "white",
            "showbackground": true,
            "ticks": "",
            "zerolinecolor": "white"
           },
           "yaxis": {
            "backgroundcolor": "#E5ECF6",
            "gridcolor": "white",
            "gridwidth": 2,
            "linecolor": "white",
            "showbackground": true,
            "ticks": "",
            "zerolinecolor": "white"
           },
           "zaxis": {
            "backgroundcolor": "#E5ECF6",
            "gridcolor": "white",
            "gridwidth": 2,
            "linecolor": "white",
            "showbackground": true,
            "ticks": "",
            "zerolinecolor": "white"
           }
          },
          "shapedefaults": {
           "line": {
            "color": "#2a3f5f"
           }
          },
          "ternary": {
           "aaxis": {
            "gridcolor": "white",
            "linecolor": "white",
            "ticks": ""
           },
           "baxis": {
            "gridcolor": "white",
            "linecolor": "white",
            "ticks": ""
           },
           "bgcolor": "#E5ECF6",
           "caxis": {
            "gridcolor": "white",
            "linecolor": "white",
            "ticks": ""
           }
          },
          "title": {
           "x": 0.05
          },
          "xaxis": {
           "automargin": true,
           "gridcolor": "white",
           "linecolor": "white",
           "ticks": "",
           "zerolinecolor": "white",
           "zerolinewidth": 2
          },
          "yaxis": {
           "automargin": true,
           "gridcolor": "white",
           "linecolor": "white",
           "ticks": "",
           "zerolinecolor": "white",
           "zerolinewidth": 2
          }
         }
        },
        "xaxis": {
         "anchor": "y",
         "domain": [
          0,
          0.98
         ],
         "title": {
          "text": "person"
         }
        },
        "yaxis": {
         "anchor": "x",
         "domain": [
          0,
          1
         ],
         "title": {
          "text": "count"
         }
        }
       }
      },
      "text/html": [
       "<div>\n",
       "        \n",
       "        \n",
       "            <div id=\"b1fdf283-4061-4ac8-acee-baecfd86c668\" class=\"plotly-graph-div\" style=\"height:600px; width:100%;\"></div>\n",
       "            <script type=\"text/javascript\">\n",
       "                require([\"plotly\"], function(Plotly) {\n",
       "                    window.PLOTLYENV=window.PLOTLYENV || {};\n",
       "                    \n",
       "                if (document.getElementById(\"b1fdf283-4061-4ac8-acee-baecfd86c668\")) {\n",
       "                    Plotly.newPlot(\n",
       "                        'b1fdf283-4061-4ac8-acee-baecfd86c668',\n",
       "                        [{\"hoverlabel\": {\"namelength\": 0}, \"hovertemplate\": \"person=%{x}<br>count=%{y}\", \"legendgroup\": \"\", \"marker\": {\"color\": \"#636efa\", \"symbol\": \"circle\"}, \"mode\": \"markers\", \"name\": \"\", \"showlegend\": false, \"type\": \"scatter\", \"x\": [\"\\u0410 \\u0410 \\u043a\\u0430\\u0440\\u0437\\u0438\\u043d\\u043a\\u0438\\u043d\", \"\\u0412 \\u0418 \\u043b\\u0435\\u043d\\u0438\\u043d\", \"\\u0421 \\u041c \\u0431\\u0430\\u0431\\u0438\\u043d\\u0446\\u0435\\u0432\", \"\\u0410 \\u041d \\u043a\\u043e\\u0441\\u044b\\u0433\\u0438\\u043d\\u0430\", \"\\u0421 \\u0412 \\u043f\\u0440\\u043e\\u0445\\u043e\\u0440\\u043e\\u0432\", \"\\u041b \\u0418 \\u0431\\u0440\\u0435\\u0436\\u043d\\u0435\\u0432\", \"\\u0410 \\u041d \\u043a\\u043e\\u0441\\u044b\\u0433\\u0438\\u043d\", \"\\u041b \\u041d \\u0442\\u043e\\u043b\\u0441\\u0442\\u043e\\u0439\", \"\\u0418 \\u0412 \\u0441\\u0442\\u0430\\u043b\\u0438\\u043d\", \"\\u041c \\u0421 \\u0433\\u043e\\u0440\\u0431\\u0430\\u0447\\u0435\\u0432\", \"\\u0414 \\u0414 \\u0438\\u0432\\u0430\\u043d\\u043e\\u0432\", \"\\u0410 \\u0410 \\u0438\\u043b\\u044c\\u0438\\u043d\", \"\\u041d \\u041f \\u043b\\u0438\\u0445\\u0430\\u0447\\u0435\\u0432\", \"\\u041d \\u0421 \\u0445\\u0440\\u0443\\u0449\\u0435\\u0432\\u0430\", \"\\u041d \\u0421 \\u0445\\u0440\\u0443\\u0449\\u0435\\u0432\", \"\\u041d \\u0410 \\u0442\\u0438\\u0445\\u043e\\u043d\\u043e\\u0432\", \"\\u041c \\u0421 \\u0433\\u043e\\u0440\\u0431\\u0430\\u0447\\u0435\\u0432\\u0430\", \"\\u041d \\u0410 \\u0431\\u0430\\u043a\\u043b\\u0430\\u043d\\u043e\\u0432\", \"\\u041d \\u041a \\u0431\\u0430\\u0439\\u0431\\u0430\\u043a\\u043e\\u0432\", \"\\u041a \\u0423 \\u0447\\u0435\\u0440\\u043d\\u0435\\u043d\\u043a\\u043e\", \"\\u041f \\u0410 \\u0441\\u0442\\u043e\\u043b\\u044b\\u043f\\u0438\\u043d\", \"\\u041d \\u041f \\u043b\\u0438\\u0445\\u0430\\u0447\\u0435\\u0432\\u0430\", \"\\u0421 \\u0424 \\u043f\\u043b\\u0430\\u0442\\u043e\\u043d\\u043e\\u0432\", \"\\u041a \\u0412 \\u043a\\u0440\\u0430\\u0448\\u0435\\u043d\\u0438\\u043d\\u043d\\u0438\\u043a\\u043e\\u0432\", \"\\u0421 \\u0412 \\u0431\\u0430\\u0445\\u0440\\u0443\\u0448\\u0438\\u043d\", \"\\u0441\\u0435\\u0440\\u0433\\u0435\\u0439 \\u043c\\u0438\\u0445\\u0430\\u0439\\u043b\\u043e\\u0432\\u0438\\u0447 \\u043a\\u043d\\u044f\\u0437\\u044c\", \"\\u042e \\u0412 \\u0430\\u043d\\u0434\\u0440\\u043e\\u043f\\u043e\\u0432\", \"\\u041d \\u0418 \\u0440\\u044b\\u0436\\u043a\\u043e\\u0432\", \"\\u0414 \\u0424 \\u0443\\u0441\\u0442\\u0438\\u043d\\u043e\\u0432\", \"\\u0410 \\u041d \\u0442\\u043e\\u043b\\u0441\\u0442\\u043e\\u0439\", \"\\u0414 \\u041d \\u0435\\u0433\\u043e\\u0440\\u043e\\u0432\", \"\\u041b \\u0412 \\u0441\\u043c\\u0438\\u0440\\u043d\\u043e\\u0432\", \"\\u0412 \\u041c \\u043c\\u043e\\u043b\\u043e\\u0442\\u043e\\u0432\", \"\\u041c \\u041d \\u0441\\u043f\\u0435\\u0440\\u0430\\u043d\\u0441\\u043a\\u0438\\u0439\", \"\\u0410 \\u0418 \\u044f\\u043a\\u043e\\u0432\\u043b\\u0435\\u0432\", \"\\u0410 \\u041c \\u0433\\u043e\\u0440\\u044c\\u043a\\u0438\\u0439\", \"\\u041d \\u042f \\u043c\\u0430\\u043d\\u0434\\u0435\\u043b\\u044c\\u0448\\u0442\\u0430\\u043c\", \"\\u041b \\u041d \\u0442\\u043e\\u043b\\u0441\\u0442\\u0430\\u044f\", \"\\u042d \\u0410 \\u043a\\u043e\\u0432\\u0430\\u043b\\u0435\\u0432\\u0441\\u043a\\u0438\\u0439\", \"\\u041c \\u041d \\u0435\\u0440\\u043c\\u043e\\u043b\\u043e\\u0432\\u0430\", \"\\u0424 \\u041c \\u0434\\u043e\\u0441\\u0442\\u043e\\u0435\\u0432\\u0441\\u043a\\u0438\\u0439\", \"\\u0432\\u043b\\u0430\\u0434\\u0438\\u043c\\u0438\\u0440 \\u0430\\u043b\\u0435\\u043a\\u0441\\u0430\\u043d\\u0434\\u0440\\u043e\\u0432\\u0438\\u0447 \\u043a\\u043d\\u044f\\u0437\\u044c\", \"\\u0418 \\u0418 \\u0442\\u043e\\u043b\\u0441\\u0442\\u043e\\u0439\", \"\\u0412 \\u0413 \\u0447\\u0435\\u0440\\u0442\\u043a\\u043e\\u0432\", \"\\u041c \\u0418 \\u0442\\u0435\\u0440\\u0435\\u0449\\u0435\\u043d\\u043a\\u043e\", \"\\u041d \\u0412 \\u0432\\u043b\\u0430\\u0441\\u043e\\u0432\", \"\\u0410 \\u0421 \\u043e\\u0440\\u043b\\u043e\\u0432\", \"\\u0412 \\u0424 \\u0433\\u0430\\u0440\\u0431\\u0443\\u0437\\u043e\\u0432\", \"\\u0410 \\u041f \\u043a\\u0438\\u0440\\u0438\\u043b\\u0435\\u043d\\u043a\\u043e\", \"\\u0438\\u0432\\u0430\\u043d \\u0444\\u0451\\u0434\\u043e\\u0440\\u043e\\u0432\\u0438\\u0447 \\u043a\\u043e\\u0440\\u043d\\u0438\\u0435\\u043d\\u043a\\u043e\", \"\\u0410 \\u0418 \\u0441\\u043e\\u043b\\u0436\\u0435\\u043d\\u0438\\u0446\\u044b\\u043d\", \"\\u041d \\u041b \\u0431\\u0440\\u043e\\u0434\\u0441\\u043a\\u0438\\u0439\", \"\\u041c \\u041d \\u0433\\u0443\\u0441\\u0435\\u0432\\u0430\", \"\\u0418 \\u0422 \\u043d\\u043e\\u0432\\u0438\\u043a\\u043e\\u0432\", \"\\u0410 \\u0410 \\u0433\\u0440\\u043e\\u043c\\u044b\\u043a\\u043e\", \"\\u0438\\u0432\\u0430\\u043d \\u0430\\u043b\\u0435\\u043a\\u0441\\u0430\\u043d\\u0434\\u0440\\u043e\\u0432\\u0438\\u0447 \\u0432\\u0441\\u0435\\u0432\\u043e\\u043b\\u043e\\u0436\\u0441\\u043a\\u0438\\u0439\", \"\\u0410 \\u041c \\u0431\\u0430\\u0440\\u0434\\u044b\\u0433\\u0438\\u043d\", \"\\u0412 \\u0410 \\u0444\\u0435\\u0434\\u043e\\u0440\\u0435\\u043d\\u043a\\u043e\", \"\\u041f \\u041f \\u0441\\u0430\\u0444\\u0440\\u043e\\u043d\\u043e\\u0432\", \"\\u041a \\u0421 \\u0441\\u0442\\u0430\\u043d\\u0438\\u0441\\u043b\\u0430\\u0432\\u0441\\u043a\\u0438\\u0439\", \"\\u041f \\u041d \\u043c\\u0438\\u043b\\u043b\\u0435\\u0440\", \"\\u041f \\u041f \\u0444\\u0430\\u043b\\u0430\\u043b\\u0435\\u0435\\u0432\\u0430\", \"\\u0410 \\u041c \\u0440\\u0435\\u043c\\u0438\\u0437\\u043e\\u0432\", \"\\u0410 \\u041d \\u0442\\u043e\\u043b\\u0441\\u0442\\u0430\\u044f\", \"\\u0421 \\u0410 \\u0442\\u043e\\u043b\\u0441\\u0442\\u043e\\u0439\", \"\\u0420 \\u0412 \\u0438\\u0432\\u0430\\u043d\\u043e\\u0432\", \"\\u0410 \\u0418 \\u0430\\u043d\\u0438\\u0441\\u0438\\u043c\\u043e\\u0432\", \"\\u0412 \\u0424 \\u0431\\u0440\\u043e\\u0432\\u0447\\u0435\\u043d\\u043a\\u043e\", \"\\u041c \\u0412 \\u0431\\u0443\\u0434\\u044b\\u043b\\u0438\\u043d\", \"\\u041d \\u0424 \\u043a\\u0443\\u0437\\u043d\\u0435\\u0446\\u043e\\u0432\", \"\\u0410 \\u0410 \\u0441\\u0438\\u0432\\u0435\\u0440\\u0441\", \"\\u0412 \\u041f \\u043c\\u0438\\u0448\\u0438\\u043d\", \"\\u0433\\u0435\\u043e\\u0440\\u0433\\u0438\\u0439 \\u043b\\u0435\\u043e\\u043d\\u0438\\u0434\\u043e\\u0432\\u0438\\u0447 \\u0431\\u0430\\u0440\\u0430\\u043d\\u043e\\u0432\", \"\\u0411 \\u041d \\u0435\\u043b\\u044c\\u0446\\u0438\\u043d\\u0430\", \"\\u0412 \\u041a \\u0448\\u0438\\u043b\\u0435\\u0439\\u043a\\u043e\", \"\\u0412 \\u0412 \\u043f\\u0443\\u0442\\u0438\\u043d\", \"\\u041b \\u0418 \\u0432\\u043e\\u0440\\u043e\\u043d\\u043e\\u0432\\u0430\", \"\\u0410 \\u0410 \\u0431\\u0430\\u0445\\u0440\\u0443\\u0448\\u0438\\u043d\", \"\\u041d \\u0411 \\u0431\\u0430\\u043a\\u043b\\u0430\\u043d\\u043e\\u0432\", \"\\u0414 \\u041d \\u0435\\u0433\\u043e\\u0440\\u043e\\u0432\\u0430\", \"\\u0410 \\u041a \\u0442\\u043e\\u043b\\u0441\\u0442\\u043e\\u0439\", \"\\u043c\\u0430\\u0440\\u0438\\u044f \\u043f\\u0430\\u0432\\u043b\\u043e\\u0432\\u043d\\u0430 \\u043a\\u043d\\u044f\\u0433\\u0438\\u043d\\u044f\", \"\\u041d \\u0412 \\u0433\\u043e\\u0433\\u043e\\u043b\\u044c\", \"\\u0411 \\u041d \\u0435\\u043b\\u044c\\u0446\\u0438\\u043d\", \"\\u0421 \\u0418 \\u0441\\u043c\\u0438\\u0440\\u043d\\u043e\\u0432\", \"\\u0410 \\u041d \\u044f\\u043a\\u043e\\u0432\\u043b\\u0435\\u0432\", \"\\u042e \\u041c \\u0441\\u043e\\u043a\\u043e\\u043b\\u043e\\u0432\", \"\\u041a \\u0418 \\u0447\\u0443\\u043a\\u043e\\u0432\\u0441\\u043a\\u0438\\u0439\", \"\\u0411 \\u0424 \\u0431\\u0440\\u0430\\u0442\\u0447\\u0435\\u043d\\u043a\\u043e\", \"\\u0418 \\u042f \\u044f\\u043a\\u043e\\u0432\\u043b\\u0435\\u0432\", \"\\u0418 \\u0418 \\u0441\\u043e\\u043a\\u043e\\u043b\\u043e\\u0432\", \"\\u0412 \\u0412 \\u0437\\u0430\\u0433\\u043e\\u0440\\u0443\\u0439\\u043a\\u043e\", \"\\u0410 \\u0410 \\u0437\\u0430\\u0445\\u0430\\u0440\\u043e\\u0432\", \"\\u043d\\u0438\\u043a\\u043e\\u043b\\u0430\\u0439 \\u0430\\u043d\\u0434\\u0440\\u0435\\u0435\\u0432\\u0438\\u0447 \\u043c\\u0430\\u043b\\u0435\\u0432\\u0441\\u043a\\u0438\\u0439\", \"\\u0410 \\u041f \\u043b\\u044f\\u0448\\u043a\\u043e\", \"\\u0422 \\u0413 \\u0448\\u0435\\u0432\\u0447\\u0435\\u043d\\u043a\\u043e\", \"\\u0412 \\u0418 \\u0432\\u0435\\u0440\\u043d\\u0430\\u0434\\u0441\\u043a\\u0438\\u0439\", \"\\u0441\\u0435\\u0440\\u0433\\u0435\\u0439 \\u0430\\u043b\\u0435\\u043a\\u0441\\u0430\\u043d\\u0434\\u0440\\u043e\\u0432\\u0438\\u0447 \\u043a\\u043d\\u044f\\u0437\\u044c\", \"\\u0411 \\u041c \\u0441\\u043e\\u043a\\u043e\\u043b\\u043e\\u0432\", \"\\u0415 \\u0410 \\u0431\\u0430\\u043b\\u044c\\u043c\\u043e\\u043d\\u0442\", \"\\u0412 \\u0413 \\u043a\\u043e\\u0440\\u043e\\u043b\\u0435\\u043d\\u043a\\u043e\", \"\\u0421 \\u0418 \\u044f\\u043a\\u0438\\u043c\\u044e\\u043a\", \"\\u041d \\u0415 \\u0432\\u0435\\u0440\\u043d\\u0430\\u0434\\u0441\\u043a\\u0430\\u044f\", \"\\u0410 \\u0414 \\u0441\\u0430\\u0445\\u0430\\u0440\\u043e\\u0432\", \"\\u0434\\u043c\\u0438\\u0442\\u0440\\u0438\\u0439 \\u043a\\u043e\\u043d\\u0441\\u0442\\u0430\\u043d\\u0442\\u0438\\u043d\\u043e\\u0432\\u0438\\u0447 \\u043b\\u044c\\u0432\\u043e\\u0432\\u0441\\u043a\\u0438\\u0439\", \"\\u041c \\u0410 \\u0433\\u043e\\u043b\\u0443\\u0431\\u0446\\u043e\\u0432\\u0430\", \"\\u0410 \\u041c \\u0448\\u0430\\u043f\\u043e\\u0448\\u043d\\u0438\\u043a\\u043e\\u0432\", \"\\u0421 \\u041c \\u0441\\u043e\\u043b\\u043e\\u0432\\u044c\\u0435\\u0432\", \"\\u0410 \\u041d \\u043a\\u043e\\u0442\\u043b\\u044f\\u0440\\u0435\\u043d\\u043a\\u043e\", \"\\u0441\\u0435\\u0440\\u0433\\u0435\\u0439 \\u0432\\u0430\\u0441\\u0438\\u043b\\u0438\\u0435\\u0432\\u0438\\u0447 \\u0448\\u0435\\u0440\\u0432\\u0438\\u043d\\u0441\\u043a\\u0438\\u0439\", \"\\u043d\\u0430\\u0442\\u0430\\u043b\\u044c\\u044f \\u043b\\u044c\\u0432\\u043e\\u0432\\u043d\\u0430 \\u0434\\u0440\\u0443\\u0436\\u0438\\u043d\\u0438\\u043d\\u0430\", \"\\u0432\\u043b\\u0430\\u0434\\u0438\\u043c\\u0438\\u0440 \\u0438\\u043b\\u044c\\u0438\\u0447 \\u043b\\u0435\\u043d\\u0438\\u043d\", \"\\u041b \\u042f \\u0433\\u0438\\u043d\\u0437\\u0431\\u0443\\u0440\\u0433\", \"\\u0412 \\u0412 \\u0440\\u043e\\u0437\\u0430\\u043d\\u043e\\u0432\", \"\\u0418 \\u0421 \\u043b\\u043e\\u0441\\u0435\\u0432\\u0430\", \"\\u041f \\u0413 \\u043a\\u0443\\u043b\\u0438\\u043a\\u043e\\u0432\\u0441\\u043a\\u0438\\u0439\", \"\\u041c \\u0410 \\u0431\\u0443\\u043b\\u0433\\u0430\\u043a\\u043e\\u0432\", \"\\u041c \\u0410 \\u0441\\u0443\\u0441\\u043b\\u043e\\u0432\", \"\\u0410 \\u0422 \\u0442\\u0432\\u0430\\u0440\\u0434\\u043e\\u0432\\u0441\\u043a\\u0438\\u0439\", \"\\u0411 \\u041a \\u0437\\u0430\\u0439\\u0446\\u0435\\u0432\", \"\\u0424 \\u0418 \\u0448\\u0430\\u043b\\u044f\\u043f\\u0438\\u043d\", \"\\u0412 \\u041b \\u043a\\u043e\\u043c\\u0430\\u0440\\u043e\\u0432\", \"\\u0412 \\u0412 \\u0433\\u0440\\u0438\\u0448\\u0438\\u043d\", \"\\u041e \\u042d \\u043c\\u0430\\u043d\\u0434\\u0435\\u043b\\u044c\\u0448\\u0442\\u0430\\u043c\", \"\\u0410 \\u0418 \\u0430\\u043d\\u0434\\u0440\\u0435\\u0435\\u0432\", \"\\u041f \\u041d \\u0441\\u0430\\u043a\\u0443\\u043b\\u0438\\u043d\\u0430\", \"\\u041d \\u0410 \\u043c\\u043e\\u0440\\u043e\\u0437\\u043e\\u0432\", \"\\u0418 \\u0418 \\u0433\\u043e\\u0440\\u0431\\u0443\\u043d\\u043e\\u0432\", \"\\u0415 \\u042e \\u0441\\u0438\\u0434\\u043e\\u0440\\u043e\\u0432\", \"\\u041b \\u0412 \\u043a\\u0430\\u0444\\u043a\\u0430\", \"\\u041d \\u041a \\u043a\\u0440\\u0443\\u043f\\u0441\\u043a\\u0430\\u044f\", \"\\u0414 \\u0418 \\u0442\\u043e\\u043b\\u0441\\u0442\\u043e\\u0439\", \"\\u0418 \\u0415 \\u0442\\u0430\\u043c\\u043c\", \"\\u041d \\u0412 \\u0434\\u0430\\u0432\\u044b\\u0434\\u043e\\u0432\", \"\\u041d \\u041d \\u043f\\u043e\\u043c\\u0435\\u0440\\u0430\\u043d\\u0435\\u0446\", \"\\u041f \\u041d \\u0437\\u0430\\u044f\\u0446\", \"\\u0410 \\u0424 \\u043a\\u0435\\u0440\\u0435\\u043d\\u0441\\u043a\\u0438\\u0439\", \"\\u0410 \\u041d \\u044f\\u043a\\u043e\\u0432\\u043b\\u0435\\u0432\\u0430\", \"\\u043a\\u043e\\u043d\\u0441\\u0442\\u0430\\u043d\\u0442\\u0438\\u043d \\u043f\\u0435\\u0442\\u0440\\u043e\\u0432\\u0438\\u0447 \\u043f\\u043e\\u0431\\u0435\\u0434\\u043e\\u043d\\u043e\\u0441\\u0446\\u0435\\u0432\", \"\\u0421 \\u0412 \\u043c\\u0438\\u0445\\u0430\\u043b\\u043a\\u043e\\u0432\", \"\\u0410 \\u0418 \\u043c\\u0438\\u043a\\u043e\\u044f\\u043d\", \"\\u041f \\u0418 \\u043d\\u0435\\u0440\\u0430\\u0434\\u043e\\u0432\\u0441\\u043a\\u0438\\u0439\", \"\\u041e \\u042e \\u0448\\u043c\\u0438\\u0434\\u0442\", \"\\u0410 \\u0418 \\u043b\\u0443\\u043a\\u044c\\u044f\\u043d\\u043e\\u0432\", \"\\u0410 \\u0410 \\u0430\\u0445\\u043c\\u0430\\u0442\\u043e\\u0432\\u0430\", \"\\u0412 \\u041a \\u043a\\u043b\\u0435\\u0439\\u043d\", \"\\u0424 \\u0410 \\u043a\\u0443\\u0434\\u0440\\u044f\\u0432\\u0446\\u0435\\u0432\", \"\\u041c \\u0410 \\u0448\\u043c\\u0438\\u0434\\u0442\", \"\\u041b \\u042f \\u0433\\u043e\\u0440\\u0435\\u043b\\u0438\\u043a\", \"\\u0412 \\u0412 \\u043c\\u0430\\u044f\\u043a\\u043e\\u0432\\u0441\\u043a\\u0438\\u0439\", \"\\u041a \\u041c \\u043f\\u043e\\u0431\\u0435\\u0433\\u0430\\u0439\\u043b\\u043e\", \"\\u041b \\u041a \\u0447\\u0443\\u043a\\u043e\\u0432\\u0441\\u043a\\u0430\\u044f\", \"\\u0430\\u0440\\u0441\\u0435\\u043d\\u0438\\u0439 \\u0430\\u043b\\u0435\\u043a\\u0441\\u0430\\u043d\\u0434\\u0440\\u043e\\u0432\\u0438\\u0447 \\u0442\\u0430\\u0440\\u043a\\u043e\\u0432\\u0441\\u043a\\u0438\\u0439\", \"\\u0412 \\u0412 \\u043a\\u0440\\u043e\\u0442\\u043e\\u0432\", \"\\u0410 \\u0412 \\u043b\\u0443\\u043d\\u0430\\u0447\\u0430\\u0440\\u0441\\u043a\\u0438\\u0439\", \"\\u0430\\u043d\\u0434\\u0440\\u0435\\u0439 \\u0434\\u043c\\u0438\\u0442\\u0440\\u0438\\u0435\\u0432\\u0438\\u0447 \\u0441\\u0430\\u0445\\u0430\\u0440\\u043e\\u0432\", \"\\u041f \\u041d \\u0434\\u0443\\u0440\\u043d\\u043e\\u0432\\u043e\", \"\\u041a \\u0410 \\u043a\\u043e\\u0440\\u043e\\u0432\\u0438\\u043d\", \"\\u041d \\u0414 \\u0441\\u043e\\u043a\\u043e\\u043b\\u043e\\u0432\", \"\\u043c\\u0430\\u0440\\u0438\\u044f \\u0432\\u0435\\u043d\\u0438\\u0430\\u043c\\u0438\\u043d\\u043e\\u0432\\u043d\\u0430 \\u044e\\u0434\\u0438\\u043d\\u0430\", \"\\u043b\\u0438\\u0434\\u0438\\u044f \\u043a\\u043e\\u0440\\u043d\\u0435\\u0435\\u0432\\u043d\\u0430 \\u0447\\u0443\\u043a\\u043e\\u0432\\u0441\\u043a\\u0430\\u044f\", \"\\u0421 \\u041b \\u0442\\u043e\\u043b\\u0441\\u0442\\u043e\\u0439\", \"\\u043b\\u0435\\u043e\\u043d\\u0438\\u0434 \\u0438\\u043b\\u044c\\u0438\\u0447 \\u0431\\u0440\\u0435\\u0436\\u043d\\u0435\\u0432\", \"\\u041e \\u0412 \\u0432\\u043e\\u043b\\u043e\\u0431\\u0443\\u0435\\u0432\", \"\\u0424 \\u0418 \\u0442\\u044e\\u0442\\u0447\\u0435\\u0432\", \"\\u0438\\u0440\\u0438\\u043d\\u0430 \\u0431\\u043e\\u0440\\u0438\\u0441\\u043e\\u0432\\u043d\\u0430 \\u0441\\u0442\\u0430\\u0440\\u0447\\u0435\\u043d\\u043a\\u043e\", \"\\u0410 \\u0410 \\u0430\\u0445\\u043c\\u0430\\u0442\\u043e\\u0432\", \"\\u041f \\u0412 \\u0437\\u0443\\u0431\\u043e\\u0432\", \"\\u043c\\u0430\\u0440\\u0438\\u044f \\u0430\\u043b\\u0435\\u043a\\u0441\\u0430\\u043d\\u0434\\u0440\\u043e\\u0432\\u043d\\u0430 \\u0441\\u043a\\u0440\\u044f\\u0431\\u0438\\u043d\\u0430\", \"\\u0418 \\u0410 \\u0431\\u0443\\u043d\\u0438\\u043d\", \"\\u0410 \\u0410 \\u0447\\u0435\\u0440\\u043d\\u043e\\u0432\", \"\\u0410 \\u0418 \\u0433\\u0435\\u0440\\u0446\\u0435\\u043d\", \"\\u0410 \\u0415 \\u043f\\u0443\\u043d\\u0438\\u043d\\u0430\", \"\\u0424 \\u0424 \\u043a\\u0443\\u0437\\u043d\\u0435\\u0446\\u043e\\u0432\", \"\\u0418 \\u0424 \\u043a\\u043e\\u0440\\u043d\\u0438\\u0435\\u043d\\u043a\\u043e\", \"\\u0432\\u043b\\u0430\\u0434\\u0438\\u043c\\u0438\\u0440 \\u0432\\u043b\\u0430\\u0434\\u0438\\u043c\\u0438\\u0440\\u043e\\u0432\\u0438\\u0447 \\u0437\\u0430\\u0433\\u043e\\u0440\\u0443\\u0439\\u043a\\u043e\", \"\\u043b\\u0435\\u0432 \\u043d\\u0438\\u043a\\u043e\\u043b\\u0430\\u0435\\u0432\\u0438\\u0447 \\u0442\\u043e\\u043b\\u0441\\u0442\\u043e\\u0439\", \"\\u041b \\u041c \\u043a\\u0430\\u0433\\u0430\\u043d\\u043e\\u0432\\u0438\\u0447\", \"\\u0412 \\u041f \\u043e\\u0441\\u0430\\u0434\\u0447\\u0435\\u043d\\u043a\\u043e\", \"\\u042e \\u0410 \\u043f\\u043e\\u043b\\u044f\\u043a\\u043e\\u0432\", \"\\u0413 \\u041b \\u0431\\u0430\\u0440\\u0430\\u043d\\u043e\\u0432\", \"\\u0410 \\u0413 \\u043f\\u043e\\u043f\\u043e\\u0432\", \"\\u041f \\u0418 \\u0448\\u043a\\u0438\\u0434\\u0447\\u0435\\u043d\\u043a\\u043e\", \"\\u0418 \\u041d \\u0434\\u0443\\u0440\\u043d\\u043e\\u0432\\u043e\", \"\\u0441\\u0442\\u0435\\u043f\\u0430\\u043d \\u0438\\u0432\\u0430\\u043d\\u043e\\u0432\\u0438\\u0447 \\u043d\\u0435\\u0432\\u0435\\u0440\\u043e\\u0432\", \"\\u0430\\u043d\\u0434\\u0440\\u0435\\u0439 \\u0432\\u043b\\u0430\\u0434\\u0438\\u043c\\u0438\\u0440\\u043e\\u0432\\u0438\\u0447 \\u043a\\u043d\\u044f\\u0437\\u044c\", \"\\u0421 \\u0418 \\u0432\\u0430\\u0432\\u0438\\u043b\\u043e\\u0432\", \"\\u0412 \\u0414 \\u0433\\u0435\\u0440\\u0430\\u0441\\u0438\\u043c\\u0435\\u043d\\u043a\\u043e\", \"\\u041d \\u041f \\u0441\\u0438\\u0434\\u043e\\u0440\", \"\\u0415 \\u041c \\u0436\\u0443\\u043a\\u043e\\u0432\", \"\\u0414 \\u0410 \\u0442\\u043e\\u043b\\u0441\\u0442\\u043e\\u0439\", \"\\u0422 \\u0412 \\u0434\\u043e\\u0440\\u043e\\u043d\\u0438\\u043d\\u0430\", \"\\u043a\\u043e\\u043d\\u0441\\u0442\\u0430\\u043d\\u0442\\u0438\\u043d \\u043a\\u043e\\u043d\\u0441\\u0442\\u0430\\u043d\\u0442\\u0438\\u043d\\u043e\\u0432\\u0438\\u0447 \\u043a\\u043d\\u044f\\u0437\\u044c\", \"\\u0412 \\u041f \\u043c\\u0438\\u0448\\u0438\\u043d\\u0430\", \"\\u0410 \\u041f \\u0430\\u043b\\u0435\\u043a\\u0441\\u0430\\u043d\\u0434\\u0440\\u043e\\u0432\", \"\\u0414 \\u0421 \\u043b\\u0438\\u0445\\u0430\\u0447\\u0435\\u0432\\u0430\", \"\\u041d \\u0410 \\u0431\\u0440\\u0443\\u043d\\u0438\", \"\\u0421 \\u0418 \\u0442\\u0430\\u043d\\u0435\\u0435\\u0432\", \"\\u041b \\u041d \\u0437\\u0430\\u043c\\u044f\\u0442\\u0438\\u043d\\u0430\", \"\\u0418 \\u0412 \\u043f\\u043e\\u043f\\u043e\\u0432\", \"\\u0410 \\u041c \\u043c\\u0430\\u0439\\u043e\\u0440\\u043e\\u0432\", \"\\u0434\\u0438\\u043c\\u0438\\u0442\\u0440\\u0438\\u0439 \\u043a\\u043e\\u043d\\u0441\\u0442\\u0430\\u043d\\u0442\\u0438\\u043d\\u043e\\u0432\\u0438\\u0447 \\u043b\\u044c\\u0432\\u043e\\u0432\\u0441\\u043a\\u0438\\u0439\", \"\\u0410 \\u0410 \\u0430\\u043d\\u0434\\u0440\\u0435\\u0435\\u0432\", \"\\u0412 \\u0422 \\u0431\\u0430\\u0440\\u043e\\u043d\\u043e\\u0432\", \"\\u0410 \\u0421 \\u043f\\u0443\\u0448\\u043a\\u0438\\u043d\", \"\\u0413 \\u041a \\u0436\\u0443\\u043a\\u043e\\u0432\", \"\\u0414 \\u041d \\u0430\\u043b\\u044c\\u0448\\u0438\\u0446\", \"\\u043e\\u043b\\u044c\\u0433\\u0430 \\u0430\\u043b\\u0435\\u043a\\u0441\\u0430\\u043d\\u0434\\u0440\\u043e\\u0432\\u043d\\u0430 \\u0433\\u043b\\u0435\\u0431\\u043e\\u0432\\u0430\", \"\\u041c \\u041c \\u0433\\u043e\\u043b\\u0438\\u0446\\u044b\\u043d\", \"\\u041c \\u0412 \\u043a\\u0435\\u043b\\u0434\\u044b\\u0448\", \"\\u0410 \\u0412 \\u0433\\u043e\\u043b\\u043e\\u0432\\u043d\\u0438\\u043d\", \"\\u041c \\u0421 \\u0441\\u0443\\u0445\\u043e\\u0442\\u0438\\u043d\", \"\\u0433\\u0430\\u043b\\u0438\\u043d\\u0430 \\u0444\\u0451\\u0434\\u043e\\u0440\\u043e\\u0432\\u043d\\u0430 \\u043f\\u0435\\u0442\\u0443\\u0445\\u043e\\u0432\\u0430\", \"\\u041f \\u041a \\u0438\\u0432\\u0430\\u043d\\u043e\\u0432\", \"\\u0435\\u043b\\u0438\\u0437\\u0430\\u0432\\u0435\\u0442\\u0430 \\u0444\\u0451\\u0434\\u043e\\u0440\\u043e\\u0432\\u043d\\u0430 \\u043a\\u043d\\u044f\\u0433\\u0438\\u043d\\u044f\", \"\\u0432\\u0438\\u043a\\u0442\\u043e\\u0440 \\u0430\\u043b\\u0435\\u043a\\u0441\\u0430\\u043d\\u0434\\u0440\\u043e\\u0432\\u0438\\u0447 \\u0433\\u043e\\u0440\\u0434\\u0438\\u043d\", \"\\u041d \\u0414 \\u043f\\u0440\\u043e\\u0442\\u0430\\u0441\\u043e\\u0432\", \"\\u041d \\u0418 \\u0442\\u0440\\u043e\\u0446\\u043a\\u0430\\u044f\", \"\\u0418 \\u0421 \\u0442\\u0443\\u0440\\u0433\\u0435\\u043d\\u0435\\u0432\\u0430\", \"\\u041c \\u0418 \\u0440\\u043e\\u0441\\u0442\\u043e\\u0432\\u0446\\u0435\\u0432\", \"\\u0422 \\u0418 \\u0431\\u0430\\u0442\\u0443\\u0440\\u043e\\u0432\", \"\\u0410 \\u0410 \\u0436\\u0434\\u0430\\u043d\\u043e\\u0432\", \"\\u0412 \\u0418 \\u043a\\u0430\\u0447\\u0430\\u043b\\u043e\\u0432\", \"\\u041f \\u041d \\u043c\\u0430\\u0440\\u0442\\u044b\\u043d\\u043e\\u0432\\u0430\", \"\\u041a \\u0422 \\u043c\\u0430\\u0437\\u0443\\u0440\\u043e\\u0432\", \"\\u043d\\u0438\\u043a\\u043e\\u043b\\u0430\\u0439 \\u043d\\u0438\\u043a\\u043e\\u043b\\u0430\\u0435\\u0432\\u0438\\u0447 \\u043a\\u043d\\u044f\\u0437\\u044c\", \"\\u0430\\u043d\\u0430\\u0441\\u0442\\u0430\\u0441\\u0438\\u044f \\u0438\\u0432\\u0430\\u043d\\u043e\\u0432\\u043d\\u0430 \\u0446\\u0432\\u0435\\u0442\\u0430\\u0435\\u0432\\u0430\", \"\\u0415 \\u0425 \\u0431\\u0430\\u043b\\u0430\\u0431\\u0430\\u043d\\u043e\\u0432\", \"\\u0415 \\u041a \\u043b\\u0438\\u0433\\u0430\\u0447\\u0435\\u0432\", \"\\u042d \\u0410 \\u0448\\u0435\\u0432\\u0430\\u0440\\u0434\\u043d\\u0430\\u0434\\u0437\\u0435\", \"\\u041c \\u041d \\u0433\\u0435\\u0440\\u043c\\u0430\\u043d\\u043e\\u0432\\u0430\", \"\\u0412 \\u041d \\u043d\\u043e\\u0432\\u0438\\u043a\", \"\\u0412 \\u0410 \\u043c\\u0435\\u0434\\u0432\\u0435\\u0434\\u0435\\u0432\", \"\\u0432\\u043b\\u0430\\u0434\\u0438\\u043c\\u0438\\u0440 \\u0438\\u0432\\u0430\\u043d\\u043e\\u0432\\u0438\\u0447 \\u0444\\u0435\\u0434\\u0447\\u0435\\u043d\\u043a\\u043e\", \"\\u0410 \\u041a \\u043a\\u043e\\u043d\\u0434\\u0440\\u0430\\u0442\\u044c\\u0435\\u0432\", \"\\u0410 \\u041d \\u043a\\u0440\\u044b\\u043b\\u043e\\u0432\", \"\\u0421 \\u041f \\u0433\\u0440\\u0438\\u0433\\u043e\\u0440\\u043e\\u0432\\u0430\", \"\\u0410 \\u0412 \\u0449\\u0443\\u0441\\u0435\\u0432\", \"\\u041d \\u041b \\u0440\\u0443\\u0431\\u0438\\u043d\\u0448\\u0442\\u0435\\u0439\\u043d\", \"\\u041f \\u041d \\u043c\\u0438\\u043b\\u044e\\u043a\\u043e\\u0432\", \"\\u041f \\u041a \\u0432\\u043e\\u0449\\u0438\\u043d\\u0438\\u043d\", \"\\u0410 \\u0410 \\u0441\\u043f\\u0438\\u0446\\u044b\\u043d\", \"\\u0414 \\u0414 \\u0448\\u043e\\u0441\\u0442\\u0430\\u043a\\u043e\\u0432\\u0438\\u0447\", \"\\u041d \\u0410 \\u0440\\u043e\\u0436\\u043a\\u043e\\u0432\", \"\\u041e \\u0413 \\u043e\\u0440\\u043b\\u043e\\u0432\", \"\\u0412 \\u0410 \\u0448\\u0430\\u0442\\u0430\\u043b\\u043e\\u0432\", \"\\u041d \\u041f \\u0441\\u0438\\u0434\\u043e\\u0440\\u043e\\u0432\\u0430\", \"\\u0410 \\u0410 \\u0435\\u0433\\u043e\\u0440\\u043e\\u0432\", \"\\u0435\\u043b\\u0435\\u043d\\u0430 \\u043f\\u0435\\u0442\\u0440\\u043e\\u0432\\u043d\\u0430 \\u043f\\u0440\\u0443\\u0442\\u043a\\u0438\\u043d\\u0430\", \"\\u0410 \\u041c \\u0444\\u0451\\u0434\\u043e\\u0440\\u043e\\u0432\", \"\\u0418 \\u0410 \\u0433\\u043e\\u043d\\u0447\\u0430\\u0440\\u043e\\u0432\", \"\\u041d \\u0410 \\u043c\\u0438\\u043b\\u044e\\u0442\\u0438\\u043d\", \"\\u041f \\u041f \\u0444\\u0430\\u043b\\u0430\\u043b\\u0435\\u0439\", \"\\u0412 \\u0412 \\u0432\\u0438\\u043d\\u043e\\u0433\\u0440\\u0430\\u0434\\u043e\\u0432\", \"\\u0430\\u043d\\u043d\\u0430 \\u0430\\u043d\\u0434\\u0440\\u0435\\u0435\\u0432\\u043d\\u0430 \\u0430\\u0445\\u043c\\u0430\\u0442\\u043e\\u0432\\u0430\", \"\\u0417 \\u041d \\u0433\\u0438\\u043f\\u043f\\u0438\\u0443\\u0441\", \"\\u041d \\u041f \\u043a\\u0430\\u043c\\u0430\\u043d\\u0438\\u043d\\u0430\", \"\\u0421 \\u041c \\u0432\\u043e\\u043b\\u043a\\u043e\\u043d\\u0441\\u043a\\u0438\\u0439\", \"\\u041d \\u0410 \\u043d\\u0435\\u043a\\u0440\\u0430\\u0441\\u043e\\u0432\", \"\\u0410 \\u0421 \\u043e\\u0440\\u043b\\u043e\\u0432\\u0430\", \"\\u0438\\u043e\\u0441\\u0438\\u0444 \\u0432\\u0438\\u0441\\u0441\\u0430\\u0440\\u0438\\u043e\\u043d\\u043e\\u0432\\u0438\\u0447 \\u0441\\u0442\\u0430\\u043b\\u0438\\u043d\", \"\\u0413 \\u041d \\u0444\\u0435\\u0434\\u043e\\u0442\\u043e\\u0432\\u0430\", \"\\u0412 \\u0410 \\u0441\\u043c\\u0438\\u0440\\u043d\\u043e\\u0432\", \"\\u0410 \\u0410 \\u0441\\u043c\\u0438\\u0440\\u043d\\u043e\\u0432\", \"\\u0414 \\u0421 \\u043b\\u0438\\u0445\\u0430\\u0447\\u0435\\u0432\", \"\\u041a \\u0414 \\u043b\\u0430\\u0432\\u0440\\u0435\\u043d\\u0435\\u043d\\u043a\\u043e\", \"\\u043d\\u0430\\u0434\\u0435\\u0436\\u0434\\u0430 \\u044f\\u043a\\u043e\\u0432\\u043b\\u0435\\u0432\\u043d\\u0430 \\u043c\\u0430\\u043d\\u0434\\u0435\\u043b\\u044c\\u0448\\u0442\\u0430\\u043c\", \"\\u0430\\u043d\\u0442\\u043e\\u043d \\u043f\\u0430\\u0432\\u043b\\u043e\\u0432\\u0438\\u0447 \\u0447\\u0435\\u0445\\u043e\\u0432\", \"\\u0412 \\u0412 \\u0431\\u0430\\u0431\\u0435\\u043d\\u043a\\u043e\", \"\\u041a \\u041f \\u043f\\u043e\\u0431\\u0435\\u0434\\u043e\\u043d\\u043e\\u0441\\u0435\\u0446\", \"\\u041f \\u041d \\u043f\\u043e\\u0441\\u043f\\u0435\\u043b\\u043e\\u0432\", \"\\u041f \\u0410 \\u0436\\u0438\\u043b\\u0438\\u043d\", \"\\u0430\\u043b\\u0435\\u043a\\u0441\\u0430\\u043d\\u0434\\u0440 \\u043f\\u0435\\u0442\\u0440\\u043e\\u0432\\u0438\\u0447 \\u0438\\u0437\\u0432\\u043e\\u043b\\u044c\\u0441\\u043a\\u0438\\u0439\", \"\\u0430\\u043b\\u0435\\u043a\\u0441\\u0435\\u0439 \\u0430\\u043b\\u0435\\u043a\\u0441\\u0430\\u043d\\u0434\\u0440\\u043e\\u0432\\u0438\\u0447 \\u043a\\u043d\\u044f\\u0437\\u044c\", \"\\u0410 \\u0410 \\u043a\\u043e\\u0448\\u0435\\u0432\\u0430\", \"\\u042f \\u0425 \\u0447\\u0435\\u0440\\u043d\\u044b\\u0448\\u043e\\u0432\", \"\\u041f \\u0418 \\u0431\\u0438\\u0440\\u044e\\u043a\\u043e\\u0432\", \"\\u0418 \\u0415 \\u0440\\u0435\\u043f\\u0438\\u043d\\u0430\", \"\\u0410 \\u0418 \\u0430\\u043d\\u0442\\u043e\\u043d\\u043e\\u0432\", \"\\u0432\\u0438\\u043a\\u0442\\u043e\\u0440 \\u043f\\u0430\\u0432\\u043b\\u043e\\u0432\\u0438\\u0447 \\u043e\\u0441\\u0430\\u0434\\u0447\\u0435\\u043d\\u043a\\u043e\", \"\\u0418 \\u041f \\u043f\\u0430\\u0432\\u043b\\u043e\\u0432\\u0430\", \"\\u041d \\u041d \\u0432\\u043e\\u0440\\u043e\\u043d\\u0438\\u043d\\u0430\", \"\\u0418 \\u041c \\u043c\\u043e\\u0441\\u043a\\u0432\\u0438\\u043d\", \"\\u0412 \\u0421 \\u0444\\u0440\\u043e\\u043b\", \"\\u0432\\u043b\\u0430\\u0434\\u0438\\u043c\\u0438\\u0440 \\u0430\\u043b\\u0435\\u043a\\u0441\\u0435\\u0435\\u0432\\u0438\\u0447 \\u0444\\u0435\\u0434\\u043e\\u0440\\u0435\\u043d\\u043a\\u043e\", \"\\u0415 \\u0421 \\u044e\\u0440\\u043e\\u0432\\u0430\", \"\\u0417 \\u041f \\u0431\\u0430\\u0437\\u0438\\u043b\\u0435\\u0432\\u0430\", \"\\u0412 \\u042f \\u043b\\u0430\\u043a\\u0448\\u0438\\u043d\", \"\\u042f \\u0418 \\u0441\\u043c\\u0438\\u0440\\u043d\\u043e\\u0432\", \"\\u0424 \\u0418 \\u043f\\u0440\\u043e\\u0432\", \"\\u0410 \\u0410 \\u043f\\u043e\\u043f\\u0435\\u0439\\u043a\\u043e\", \"\\u041e \\u0418 \\u043f\\u043e\\u043f\\u043e\\u0432\", \"\\u041f \\u0418 \\u0447\\u0430\\u0439\\u043a\\u043e\\u0432\\u0441\\u043a\\u0438\\u0439\", \"\\u041c \\u0412 \\u043a\\u0430\\u0444\\u043a\\u0430\", \"\\u0410 \\u0412 \\u0436\\u0438\\u0432\\u0430\\u0433\\u043e\", \"\\u041f \\u0412 \\u0432\\u043e\\u043b\\u043e\\u0431\\u0443\\u0435\\u0432\", \"\\u0411 \\u041d \\u043f\\u043e\\u043d\\u043e\\u043c\\u0430\\u0440\\u0435\\u0432\", \"\\u0418 \\u0418 \\u0434\\u043c\\u0438\\u0442\\u0440\\u0438\\u0435\\u0432\", \"\\u0412 \\u0412 \\u0436\\u0443\\u0440\\u0430\\u0432\\u043b\\u0435\\u0432\", \"\\u041a \\u041f \\u043f\\u043e\\u0431\\u0435\\u0434\\u043e\\u043d\\u043e\\u0441\\u0446\\u0435\\u0432\\u0430\", \"\\u0412 \\u0412 \\u0448\\u0443\\u043b\\u044c\\u0433\\u0438\\u043d\", \"\\u0421 \\u0412 \\u0438\\u0432\\u0430\\u043d\\u043e\\u0432\", \"\\u0410 \\u041c \\u043f\\u0430\\u043d\\u043a\\u0440\\u0430\\u0442\\u043e\\u0432\\u0430\", \"\\u041a \\u0415 \\u0432\\u043e\\u0440\\u043e\\u0448\\u0438\\u043b\\u043e\\u0432\", \"\\u0412 \\u041c \\u0430\\u043b\\u0435\\u043a\\u0441\\u0435\\u0435\\u0432\", \"\\u0413 \\u0410 \\u0441\\u0442\\u0430\\u0434\\u0438\\u0439\\u0447\\u0443\\u043a\", \"\\u0410 \\u041a \\u0430\\u043d\\u0442\\u043e\\u043d\\u043e\\u0432\", \"\\u0438\\u0432\\u0430\\u043d \\u043c\\u0430\\u043a\\u0430\\u0440\\u043e\\u0432\\u0438\\u0447 \\u043e\\u043d\\u0438\\u0449\\u0435\\u043d\\u043a\\u043e\", \"\\u041d \\u0418 \\u0432\\u0430\\u0432\\u0438\\u043b\\u043e\\u0432\", \"\\u041c \\u041c \\u043f\\u0435\\u0442\\u0438\\u043f\\u0430\", \"\\u041f \\u041d \\u0444\\u0435\\u0434\\u043e\\u0441\\u0435\\u0439\", \"\\u041d \\u041c \\u0434\\u0440\\u0443\\u0436\\u0438\\u043d\\u0438\\u043d\", \"\\u0421 \\u0421 \\u0441\\u043c\\u0438\\u0440\\u043d\\u043e\\u0432\", \"\\u0412 \\u0410 \\u0433\\u043e\\u0440\\u043e\\u0434\\u0446\\u043e\\u0432\", \"\\u0414 \\u041f \\u0441\\u0443\\u0445\\u043e\\u0432\", \"\\u0410 \\u041c \\u0432\\u0430\\u0441\\u0438\\u043b\\u0435\\u0432\\u0441\\u043a\\u0438\\u0439\", \"\\u043c\\u0430\\u0440\\u0438\\u044f \\u043c\\u0438\\u0445\\u0430\\u0439\\u043b\\u043e\\u0432\\u043d\\u0430 \\u0433\\u043e\\u043b\\u0438\\u0446\\u044b\\u043d\\u0430\", \"\\u041d \\u041d \\u043f\\u0451\\u0442\\u0440\", \"\\u043f\\u0451\\u0442\\u0440 \\u0433\\u0435\\u043e\\u0440\\u0433\\u0438\\u0435\\u0432\\u0438\\u0447 \\u043e\\u043b\\u044c\\u0434\\u0435\\u043d\\u0431\\u0443\\u0440\\u0433\\u0441\\u043a\\u0438\\u0439\", \"\\u041c \\u0421 \\u043f\\u0435\\u0442\\u0440\\u043e\\u0432\", \"\\u044e\\u0440\\u0438\\u0439 \\u0433\\u0435\\u043e\\u0440\\u0433\\u0438\\u0435\\u0432\\u0438\\u0447 \\u0435\\u0444\\u0440\\u0435\\u043c\\u043e\\u0432\", \"\\u0415 \\u041f \\u043c\\u0443\\u0440\\u0430\\u0442\\u043e\\u0432\\u0430\", \"\\u041a \\u041f \\u0444\\u0435\\u043e\\u043a\\u0442\\u0438\\u0441\\u0442\\u043e\\u0432\\u0430\", \"\\u0414 \\u0421 \\u043c\\u0435\\u0440\\u0435\\u0436\\u043a\\u043e\\u0432\\u0441\\u043a\\u0438\\u0439\", \"\\u0410 \\u041c \\u043b\\u0430\\u043b\\u0430\\u044f\\u043d\\u0446\", \"\\u0424 \\u0424 \\u043d\\u043e\\u0442\\u0433\\u0430\\u0444\\u0442\", \"\\u0412 \\u041d \\u0444\\u0438\\u0433\\u043d\\u0435\\u0440\", \"\\u0418 \\u0418 \\u043b\\u044e\\u0431\\u0438\\u043c\\u0435\\u043d\\u043a\\u043e\", \"\\u041b \\u042f \\u0433\\u0443\\u0440\\u0435\\u0432\\u0438\\u0447\", \"\\u0413 \\u0412 \\u043f\\u043b\\u0435\\u0445\\u0430\\u043d\\u043e\\u0432\", \"\\u043b\\u044e\\u0434\\u043c\\u0438\\u043b\\u0430 \\u043d\\u0438\\u043a\\u043e\\u043b\\u0430\\u0435\\u0432\\u043d\\u0430 \\u0437\\u0430\\u043c\\u044f\\u0442\\u0438\\u043d\\u0430\", \"\\u0410 \\u0413 \\u0440\\u0443\\u0431\\u0438\\u043d\\u0448\\u0442\\u0435\\u0439\\u043d\", \"\\u0410 \\u0418 \\u0435\\u0440\\u0435\\u043c\\u0435\\u043d\\u043a\\u043e\", \"\\u0412 \\u0410 \\u0442\\u0432\\u0430\\u0440\\u0434\\u043e\\u0432\\u0441\\u043a\\u0430\\u044f\", \"\\u0421 \\u041f \\u0438\\u0432\\u0430\\u043d\", \"\\u0413 \\u041c \\u043c\\u0430\\u043b\\u0435\\u043d\\u043a\\u043e\\u0432\", \"\\u041a \\u0424 \\u0438\\u0437\\u043c\\u0430\\u0439\\u043b\\u043e\\u0432\", \"\\u0412 \\u0418 \\u043b\\u0435\\u0431\\u0435\\u0434\\u0435\\u0432\", \"\\u0417 \\u041d \\u043d\\u0443\\u0440\\u0438\\u0435\\u0432\", \"\\u042d \\u0413 \\u043c\\u043e\\u0438\\u0441\\u0435\\u0435\\u043d\\u043a\\u043e\", \"\\u0410 \\u0410 \\u0430\\u043d\\u0434\\u0440\\u0435\\u0435\\u0432\\u0430\", \"\\u0430\\u043b\\u0435\\u043a\\u0441\\u0430\\u043d\\u0434\\u0440 \\u043f\\u0435\\u0442\\u0440\\u043e\\u0432\\u0438\\u0447 \\u043e\\u043b\\u044c\\u0434\\u0435\\u043d\\u0431\\u0443\\u0440\\u0433\\u0441\\u043a\\u0438\\u0439\", \"\\u041b \\u0421 \\u0431\\u0435\\u0440\\u0433\", \"\\u0412 \\u041c \\u043a\\u043e\\u043c\\u0430\\u0440\\u043e\\u0432\", \"\\u0421 \\u0421 \\u0441\\u043c\\u0438\\u0440\\u043d\\u043e\\u0432\\u0430\", \"\\u0418 \\u0418 \\u0434\\u0430\\u0432\\u044b\\u0434\\u043e\\u0432\", \"\\u041f \\u0421 \\u0448\\u0435\\u0440\\u0435\\u043c\\u0435\\u0442\\u0435\\u0432\\u0430\", \"\\u041d \\u041f \\u0438\\u0433\\u043d\\u0430\\u0442\\u044c\\u0435\\u0432\", \"\\u0418 \\u041c \\u0442\\u043e\\u043b\\u0441\\u0442\\u043e\\u0439\", \"\\u041d \\u041c \\u043f\\u0440\\u0436\\u0435\\u0432\\u0430\\u043b\\u044c\\u0441\\u043a\\u0438\\u0439\", \"\\u041c \\u0424 \\u0430\\u043d\\u0434\\u0440\\u0435\\u0435\\u0432\", \"\\u041d \\u0413 \\u0434\\u0443\\u0434\\u0447\\u0435\\u043d\\u043a\\u043e\", \"\\u0421 \\u0410 \\u0433\\u043e\\u043b\\u0443\\u0431\\u0446\\u043e\\u0432\", \"\\u0430\\u043b\\u0435\\u043a\\u0441\\u0435\\u0439 \\u043d\\u0438\\u043a\\u043e\\u043b\\u0430\\u0435\\u0432\\u0438\\u0447 \\u0442\\u043e\\u043b\\u0441\\u0442\\u043e\\u0439\", \"\\u0410 \\u0410 \\u0444\\u0430\\u0434\\u0435\\u0435\\u0432\", \"\\u0410 \\u041b \\u0430\\u0440\\u0442\\u044e\\u0445\\u0438\\u043d\", \"\\u041c \\u0413 \\u0441\\u0430\\u0432\\u0438\\u043d\", \"\\u0414 \\u041c \\u043f\\u043e\\u0437\\u0434\\u043d\\u0435\\u0435\\u0432\", \"\\u041e \\u041d \\u0430\\u043d\\u043d\\u0435\\u043d\\u043a\\u043e\\u0432\\u0430\", \"\\u0410 \\u0412 \\u0432\\u043b\\u0430\\u0441\\u043e\\u0432\", \"\\u0412 \\u0412 \\u0443\\u0441\\u0435\\u043d\\u043a\\u043e\", \"\\u041c \\u041d \\u0447\\u0443\\u0440\\u043a\\u0438\\u043d\\u0430\", \"\\u0412 \\u0410 \\u043f\\u0435\\u0442\\u0440\\u043e\\u0432\", \"\\u041f \\u041d \\u043c\\u0438\\u043b\\u044e\\u043a\\u043e\\u0432\\u0430\", \"\\u041c \\u0413 \\u0441\\u0430\\u0432\\u0438\\u043d\\u0430\", \"\\u0412 \\u041d \\u044f\\u043a\\u043e\\u0432\\u043b\\u0435\\u0432\", \"\\u0410 \\u0414 \\u0441\\u0430\\u043c\\u0430\\u0440\\u0438\\u043d\", \"\\u0421 \\u041c \\u0433\\u043e\\u043b\\u0438\\u0446\\u044b\\u043d\", \"\\u041f \\u0424 \\u043b\\u043e\\u043c\\u0430\\u043a\\u043e\", \"\\u041c \\u0410 \\u0433\\u043e\\u043b\\u0443\\u0431\\u0446\\u043e\\u0432\", \"\\u0431\\u043e\\u0440\\u0438\\u0441 \\u0433\\u0435\\u043e\\u0440\\u0433\\u0438\\u0435\\u0432\\u0438\\u0447 \\u0442\\u0438\\u0449\\u0435\\u043d\\u043a\\u043e\", \"\\u0410 \\u0413 \\u0434\\u0435\\u043c\\u0435\\u043d\\u0442\\u044c\\u0435\\u0432\", \"\\u0412 \\u0421 \\u043b\\u0435\\u0431\\u0435\\u0434\\u0435\\u0432\", \"\\u0410 \\u041c \\u0440\\u0443\\u043c\\u044f\\u043d\\u0446\\u0435\\u0432\", \"\\u0421 \\u0410 \\u0442\\u043e\\u043b\\u0441\\u0442\\u0430\\u044f\", \"\\u0412 \\u0412 \\u043a\\u0443\\u0437\\u043d\\u0435\\u0446\\u043e\\u0432\", \"\\u0412 \\u0413 \\u0433\\u0435\\u0439\\u043c\\u0430\\u043d\", \"\\u041b \\u0418 \\u043f\\u043e\\u043d\\u043e\\u043c\\u0430\\u0440\\u0435\\u0432\", \"\\u0438\\u0432\\u0430\\u043d \\u0430\\u043b\\u0435\\u043a\\u0441\\u0435\\u0435\\u0432\\u0438\\u0447 \\u0431\\u0443\\u043d\\u0438\\u043d\", \"\\u0421 \\u0417 \\u043c\\u043e\\u0433\\u0440\\u044b\\u0447\\u0435\\u0432\", \"\\u0415 \\u041d \\u0442\\u0440\\u0443\\u0431\\u0435\\u0446\\u043a\\u0430\\u044f\", \"\\u042e \\u0410 \\u043e\\u043b\\u0441\\u0443\\u0444\\u044c\\u0435\\u0432\", \"\\u0412 \\u0418 \\u0438\\u0432\\u0430\\u043d\\u043e\\u0432\", \"\\u0412 \\u0418 \\u0442\\u0440\\u043e\\u0438\\u0446\\u043a\\u0438\\u0439\", \"\\u0420 \\u0410 \\u043c\\u0435\\u0434\\u0432\\u0435\\u0434\\u0435\\u0432\", \"\\u0412 \\u0414 \\u0433\\u043e\\u043b\\u0438\\u0446\\u044b\\u043d\", \"\\u0410 \\u0412 \\u0433\\u0440\\u0438\\u0433\\u043e\\u0440\\u044c\\u0435\\u0432\", \"\\u0413 \\u0410 \\u0430\\u043b\\u0438\\u0435\\u0432\", \"\\u041c \\u0410 \\u043b\\u0438\\u0444\\u0448\\u0438\\u0446\", \"\\u0414 \\u041d \\u0430\\u043d\\u0443\\u0447\\u0438\\u043d\\u0430\", \"\\u041e \\u0410 \\u0441\\u0443\\u0434\\u0435\\u0439\\u043a\\u0438\\u043d\\u0430\", \"\\u042e \\u0418 \\u0431\\u0443\\u043d\\u0434\\u0438\\u043d\", \"\\u041c \\u041c \\u0431\\u0430\\u0445\\u0442\\u0438\\u043d\", \"\\u041d \\u0418 \\u0431\\u0443\\u0445\\u0430\\u0440\\u0438\\u043d\", \"\\u041d \\u0421 \\u0434\\u0435\\u0440\\u0436\\u0430\\u0432\\u0438\\u043d\", \"\\u0412 \\u041f \\u0441\\u043c\\u0438\\u0440\\u043d\\u043e\\u0432\", \"\\u0412 \\u0414 \\u043d\\u0430\\u0431\\u043e\\u043a\\u043e\\u0432\", \"\\u0410 \\u0410 \\u0433\\u0440\\u0435\\u0447\\u043a\\u043e\", \"\\u043c\\u0438\\u0445\\u0430\\u0438\\u043b \\u043c\\u0438\\u0445\\u0430\\u0439\\u043b\\u043e\\u0432\\u0438\\u0447 \\u043f\\u0440\\u0438\\u0448\\u0432\\u0438\\u043d\", \"\\u041c \\u0412 \\u043f\\u043e\\u043f\\u043e\\u0432\", \"\\u043f\\u0451\\u0442\\u0440 \\u0430\\u043b\\u0435\\u043a\\u0441\\u0435\\u0435\\u0432\\u0438\\u0447 \\u043d\\u0438\\u043a\\u043e\\u043b\\u0430\\u0435\\u0432\", \"\\u0412 \\u041d \\u0431\\u0443\\u0434\\u0435\\u043d\\u043d\\u044b\\u0439\", \"\\u0412 \\u0410 \\u0441\\u0438\\u043c\\u043e\\u0432\", \"\\u041d \\u041d \\u043f\\u043e\\u043c\\u0435\\u0440\\u0430\\u043d\\u0446\\u0435\\u0432\\u0430\", \"\\u041f \\u041d \\u0444\\u0435\\u0434\\u043e\\u0441\\u0435\\u0435\\u0432\\u0430\", \"\\u043f\\u0451\\u0442\\u0440 \\u0438\\u043b\\u044c\\u0438\\u0447 \\u0447\\u0430\\u0439\\u043a\\u043e\\u0432\\u0441\\u043a\\u0438\\u0439\", \"\\u041c \\u041c \\u043a\\u043e\\u0432\\u0430\\u043b\\u0435\\u0432\\u0441\\u043a\\u0438\\u0439\", \"\\u0412 \\u0424 \\u043a\\u043e\\u043c\\u0438\\u0441\\u0441\\u0430\\u0440\\u0436\\u0435\\u0432\\u0441\\u043a\\u0430\\u044f\", \"\\u042e \\u0413 \\u0435\\u0444\\u0440\\u0435\\u043c\\u043e\\u0432\", \"\\u0412 \\u041d \\u0434\\u0430\\u0432\\u044b\\u0434\\u043e\\u0432\\u0430\", \"\\u0422 \\u0412 \\u0440\\u043e\\u0437\\u0430\\u043d\\u043e\\u0432\", \"\\u0410 \\u0410 \\u043b\\u0435\\u043e\\u043d\\u043e\\u0432\", \"\\u0412 \\u041d \\u0434\\u0430\\u0432\\u044b\\u0434\", \"\\u0433\\u0430\\u043b\\u0438\\u043d\\u0430 \\u0433\\u0435\\u043e\\u0440\\u0433\\u0438\\u0435\\u0432\\u043d\\u0430 \\u0430\\u043d\\u0438\\u0441\\u0438\\u043c\\u043e\\u0432\\u0430\", \"\\u041c \\u041e \\u0447\\u0443\\u0434\\u0430\\u043a\\u043e\\u0432\", \"\\u041b \\u0414 \\u0442\\u0440\\u043e\\u0446\\u043a\\u0438\\u0439\", \"\\u044e\\u0440\\u0438\\u0439 \\u043f\\u0435\\u0442\\u0440\\u043e\\u0432\\u0438\\u0447 \\u043b\\u044e\\u0431\\u0438\\u043c\\u043e\\u0432\", \"\\u041c \\u042e \\u043b\\u0435\\u0440\\u043c\\u043e\\u043d\\u0442\\u043e\\u0432\", \"\\u0418 \\u0415 \\u043c\\u0430\\u043d\\u0434\\u0435\\u043b\\u044c\\u0448\\u0442\\u0430\\u043c\", \"\\u0410 \\u0421 \\u0442\\u0430\\u043d\\u0435\\u0435\\u0432\\u0430\", \"\\u041c \\u0413 \\u043f\\u0435\\u0440\\u0432\\u0443\\u0445\\u0438\\u043d\", \"\\u0418 \\u0410 \\u0431\\u0430\\u0440\\u0430\\u043d\\u043e\\u0432\", \"\\u0430\\u043b\\u0435\\u043a\\u0441\\u0435\\u0439 \\u043a\\u043e\\u043d\\u0441\\u0442\\u0430\\u043d\\u0442\\u0438\\u043d\\u043e\\u0432\\u0438\\u0447 \\u0442\\u043e\\u043b\\u0441\\u0442\\u043e\\u0439\", \"\\u041f \\u0414 \\u0431\\u0430\\u0440\\u0430\\u043d\\u043e\\u0432\\u0441\\u043a\\u0438\\u0439\", \"\\u0430\\u043b\\u0435\\u043a\\u0441\\u0430\\u043d\\u0434\\u0440 \\u0441\\u0435\\u0440\\u0433\\u0435\\u0435\\u0432\\u0438\\u0447 \\u043f\\u0443\\u0448\\u043a\\u0438\\u043d\", \"\\u0412 \\u0413 \\u0440\\u0430\\u0441\\u043f\\u0443\\u0442\\u0438\\u043d\", \"\\u0412 \\u042f \\u0438\\u0441\\u0430\\u0435\\u0432\", \"\\u0421 \\u0410 \\u043a\\u0430\\u0437\\u0430\\u0440\\u043e\\u0432\", \"\\u0411 \\u041c \\u043b\\u044f\\u043f\\u0443\\u043d\\u043e\\u0432\", \"\\u0418 \\u0412 \\u0441\\u0438\\u0434\\u043e\\u0440\\u043e\\u0432\", \"\\u0441\\u0435\\u0440\\u0433\\u0435\\u0439 \\u043f\\u0430\\u0432\\u043b\\u043e\\u0432\\u0438\\u0447 \\u043a\\u043e\\u0440\\u043e\\u043b\\u0451\\u0432\", \"\\u0418 \\u041c \\u0442\\u0430\\u0440\\u0430\\u0431\\u0440\\u0438\\u043d\", \"\\u0412 \\u0412 \\u043b\\u0430\\u0442\\u044b\\u0448\\u0435\\u0432\", \"\\u041c \\u0412 \\u0431\\u0443\\u0434\\u044b\\u043b\\u0438\\u043d\\u0430\", \"\\u0412 \\u041f \\u0432\\u043e\\u043b\\u0433\\u0438\\u043d\", \"\\u0418 \\u0410 \\u043d\\u043e\\u0432\\u0438\\u043a\\u043e\\u0432\", \"\\u043d\\u0438\\u043a\\u0438\\u0442\\u0430 \\u0441\\u0435\\u0440\\u0433\\u0435\\u0435\\u0432\\u0438\\u0447 \\u0445\\u0440\\u0443\\u0449\\u0435\\u0432\", \"\\u0418 \\u0415 \\u0437\\u0430\\u0431\\u0435\\u043b\\u0438\\u043d\\u0430\", \"\\u041e \\u041a \\u0442\\u043e\\u043b\\u0441\\u0442\\u043e\\u0439\", \"\\u0412 \\u0418 \\u0432\\u043e\\u0440\\u043e\\u0442\\u043d\\u0438\\u043a\\u043e\\u0432\", \"\\u041b \\u041f \\u0431\\u0435\\u0440\\u0438\\u044f\", \"\\u041d \\u0410 \\u0433\\u0440\\u0438\\u043d\\u0432\\u0430\\u043b\\u044c\\u0434\", \"\\u043a\\u0441\\u0435\\u043d\\u0438\\u044f \\u0444\\u0435\\u043e\\u0434\\u043e\\u0440\\u043e\\u0432\\u043d\\u0430 \\u043a\\u043e\\u043b\\u0435\\u0441\\u043d\\u0438\\u043a\\u043e\\u0432\\u0430\", \"\\u0418 \\u0410 \\u0441\\u0430\\u0446\", \"\\u0441\\u043e\\u0444\\u044c\\u044f \\u0430\\u043d\\u0434\\u0440\\u0435\\u0435\\u0432\\u043d\\u0430 \\u0442\\u043e\\u043b\\u0441\\u0442\\u0430\\u044f\", \"\\u041b \\u041d \\u0433\\u043e\\u0440\\u0435\\u043b\\u043e\\u0432\", \"\\u0422 \\u0424 \\u043a\\u0443\\u0437\\u044c\\u043c\\u0438\\u043d\", \"\\u041a \\u0412 \\u0432\\u0430\\u0441\\u0438\\u043b\\u044c\\u0435\\u0432\", \"\\u0435\\u043b\\u0435\\u043d\\u0430 \\u0441\\u0435\\u0440\\u0433\\u0435\\u0435\\u0432\\u043d\\u0430 \\u0431\\u0443\\u043b\\u0433\\u0430\\u043a\\u043e\\u0432\\u0430\", \"\\u0424 \\u0410 \\u0433\\u043e\\u043b\\u043e\\u0432\\u0438\\u043d\", \"\\u041c \\u0412 \\u0432\\u0430\\u0442\\u0441\\u043e\\u043d\", \"\\u043c\\u0438\\u0445\\u0430\\u0438\\u043b \\u0430\\u0444\\u0430\\u043d\\u0430\\u0441\\u0438\\u0435\\u0432\\u0438\\u0447 \\u0431\\u0443\\u043b\\u0433\\u0430\\u043a\\u043e\\u0432\", \"\\u0418 \\u042f \\u0430\\u043d\\u0442\\u0443\\u0444\\u044c\\u0435\\u0432\", \"\\u0412 \\u041f \\u0433\\u043b\\u0443\\u0448\\u043a\\u043e\", \"\\u041a \\u0414 \\u0431\\u0443\\u0448\\u0443\\u0435\\u0432\", \"\\u0412 \\u0412 \\u0431\\u043e\\u0433\\u0434\\u0430\\u043d\\u043e\\u0432\", \"\\u0444\\u0451\\u0434\\u043e\\u0440 \\u043c\\u0438\\u0445\\u0430\\u0439\\u043b\\u043e\\u0432\\u0438\\u0447 \\u0434\\u043e\\u0441\\u0442\\u043e\\u0435\\u0432\\u0441\\u043a\\u0438\\u0439\", \"\\u0418 \\u0421 \\u043b\\u044e\\u0431\\u0430\\u0435\\u0432\", \"\\u0410 \\u041f \\u0441\\u0435\\u0440\\u0433\\u0435\\u0435\\u043d\\u043a\\u043e\", \"\\u0412 \\u041f \\u043c\\u0436\\u0430\\u0432\\u0430\\u043d\\u0430\\u0434\\u0437\\u0435\", \"\\u043f\\u043b\\u0430\\u0442\\u043e\\u043d \\u0438\\u0432\\u0430\\u043d\\u043e\\u0432\\u0438\\u0447 \\u043c\\u0438\\u0442\\u044c\\u043a\\u043e\\u0432\", \"\\u0424 \\u0412 \\u0441\\u0430\\u043f\\u043e\\u0436\\u043d\\u0438\\u043a\\u043e\\u0432\", \"\\u041f \\u0410 \\u0441\\u0435\\u0440\\u0433\\u0435\\u0435\\u043d\\u043a\\u043e\", \"\\u042e \\u0414 \\u043b\\u0435\\u0432\\u0438\\u043d\", \"\\u0418 \\u0421 \\u0431\\u0430\\u0445\", \"\\u0410 \\u0418 \\u043d\\u0435\\u043a\\u0440\\u0430\\u0441\\u043e\\u0432\", \"\\u0410 \\u041f \\u0431\\u043e\\u0442\\u043a\\u0438\\u043d\\u0430\", \"\\u0433\\u0435\\u043d\\u043d\\u0430\\u0434\\u0438\\u0439 \\u0430\\u043b\\u0435\\u043a\\u0441\\u0430\\u043d\\u0434\\u0440\\u043e\\u0432\\u0438\\u0447 \\u043a\\u0430\\u0437\\u0430\\u043a\\u043e\\u0432\", \"\\u042e \\u0418 \\u043c\\u0438\\u043d\\u0435\\u0440\\u0430\\u043b\\u043e\\u0432\", \"\\u042e \\u041c \\u043b\\u0443\\u0436\\u043a\\u043e\\u0432\", \"\\u041c \\u0412 \\u0438\\u0432\\u0430\\u043d\\u043e\\u0432\", \"\\u044e\\u0440\\u0438\\u0439 \\u0430\\u043b\\u0435\\u043a\\u0441\\u0435\\u0435\\u0432\\u0438\\u0447 \\u0433\\u0430\\u0433\\u0430\\u0440\\u0438\\u043d\", \"\\u041b \\u041c \\u0441\\u043f\\u0438\\u0440\\u0438\\u043d\", \"\\u041c \\u041c \\u0438\\u0432\\u0430\\u043d\\u043e\\u0432\", \"\\u0412 \\u041a \\u043c\\u0430\\u043a\\u0430\\u0440\\u043e\\u0432\", \"\\u041c \\u0421 \\u0441\\u0443\\u0445\\u043e\\u0442\\u0438\\u043d\\u0430\", \"\\u041d \\u0412 \\u043c\\u0430\\u043b\\u0430\\u0445\\u043e\\u0432\", \"\\u0410 \\u041a \\u0432\\u0438\\u043d\\u043e\\u0433\\u0440\\u0430\\u0434\\u043e\\u0432\", \"\\u0442\\u0430\\u0442\\u044c\\u044f\\u043d\\u0430 \\u043c\\u0430\\u0440\\u043a\\u043e\\u0432\\u043d\\u0430 \\u0430\\u043b\\u0434\\u0430\\u043d\\u043e\\u0432\\u0430\", \"\\u0421 \\u0418 \\u043c\\u0438\\u0446\\u043a\\u0435\\u0432\\u0438\\u0447\", \"\\u0410 \\u0410 \\u0442\\u0438\\u0445\\u043e\\u043c\\u0438\\u0440\\u043e\\u0432\", \"\\u0438\\u0432\\u0430\\u043d \\u0441\\u0435\\u0440\\u0433\\u0435\\u0435\\u0432\\u0438\\u0447 \\u0442\\u0443\\u0440\\u0433\\u0435\\u043d\\u0435\\u0432\", \"\\u0410 \\u0418 \\u0434\\u043c\\u0438\\u0442\\u0440\\u0438\\u0435\\u0432\", \"\\u0410 \\u0410 \\u0431\\u043e\\u0431\\u0440\\u0438\\u043d\\u0441\\u043a\\u0438\\u0439\", \"\\u043e\\u0442\\u0442\\u043e \\u044e\\u043b\\u0438\\u0435\\u0432\\u0438\\u0447 \\u0448\\u043c\\u0438\\u0434\\u0442\", \"\\u041c \\u041b \\u043b\\u043e\\u0437\\u0438\\u043d\\u0441\\u043a\\u0438\\u0439\", \"\\u0421 \\u0413 \\u0441\\u0442\\u0440\\u043e\\u0433\\u0430\\u043d\\u043e\\u0432\", \"\\u0418 \\u0410 \\u0438\\u043b\\u044c\\u0438\\u043d\", \"\\u041f \\u041f \\u0435\\u0444\\u0438\\u043c\\u0435\\u043d\\u043a\\u043e\", \"\\u0410 \\u041d \\u0434\\u043e\\u0431\\u0440\\u043e\\u043b\\u044e\\u0431\\u043e\\u0432\", \"\\u0410 \\u041d \\u0441\\u0432\\u0438\\u0440\\u0438\\u043d\", \"\\u042f \\u041f \\u043f\\u043e\\u043b\\u043e\\u043d\\u0441\\u043a\\u0438\\u0439\", \"\\u0412 \\u0421 \\u043b\\u0435\\u0431\\u0435\\u0434\\u0435\\u0432\\u0430\", \"\\u0418 \\u0422 \\u0448\\u0430\\u043c\\u0435\\u0434\\u044c\\u043a\\u043e\", \"\\u043f\\u0430\\u0432\\u0435\\u043b \\u0432\\u0430\\u0441\\u0438\\u043b\\u0438\\u0435\\u0432\\u0438\\u0447 \\u0449\\u0435\\u0442\\u0438\\u043d\\u043a\\u0438\\u043d\", \"\\u044e\\u0440\\u0438\\u0439 \\u0438\\u0432\\u0430\\u043d\\u043e\\u0432\\u0438\\u0447 \\u0431\\u0443\\u043d\\u0434\\u0438\\u043d\", \"\\u0410 \\u0421 \\u0442\\u0430\\u043d\\u0435\\u0435\\u0432\", \"\\u0410 \\u0418 \\u043a\\u043e\\u043d\\u043e\\u0432\\u0430\\u043b\\u043e\\u0432\", \"\\u0412 \\u042f \\u0434\\u044c\\u044f\\u0447\\u0435\\u043d\\u043a\\u043e\", \"\\u0413 \\u042f \\u0431\\u0430\\u043a\\u043b\\u0430\\u043d\\u043e\\u0432\", \"\\u041d \\u041f \\u0441\\u043c\\u0438\\u0440\\u043d\\u043e\\u0432\\u0430\", \"\\u0410 \\u041d \\u0444\\u0438\\u043b\\u0438\\u043f\\u043f\\u043e\\u0432\\u0430\", \"\\u0410 \\u0412 \\u0433\\u043b\\u0430\\u0434\\u043a\\u043e\\u0432\", \"\\u041c \\u041c \\u043b\\u0438\\u0442\\u0432\\u0438\\u043d\\u043e\\u0432\", \"\\u041d \\u0418 \\u0438\\u0432\\u0430\\u043d\\u043e\\u0432\", \"\\u0421 \\u0421 \\u043f\\u0440\\u043e\\u043a\\u043e\\u0444\\u044c\\u0435\\u0432\\u0430\", \"\\u041b \\u041c \\u043b\\u0435\\u043e\\u043d\\u043e\\u0432\", \"\\u041d \\u0418 \\u043f\\u0435\\u0442\\u0440\\u043e\\u0432\", \"\\u0413 \\u041c \\u0431\\u0435\\u043b\\u044f\\u0432\\u0441\\u043a\\u0438\\u0439\", \"\\u0422 \\u0421 \\u0441\\u043e\\u0431\\u043e\\u043b\\u0435\\u0432\\u0430\", \"\\u041d \\u041c \\u0435\\u043c\\u0435\\u043b\\u044c\\u044f\\u043d\\u043e\\u0432\", \"\\u0431\\u043e\\u0440\\u0438\\u0441 \\u043c\\u0438\\u0445\\u0430\\u0439\\u043b\\u043e\\u0432\\u0438\\u0447 \\u0433\\u043b\\u0438\\u043d\\u0441\\u043a\\u0438\\u0439\", \"\\u043c\\u0430\\u0440\\u0438\\u043d\\u0430 \\u043c\\u0438\\u0445\\u0430\\u0439\\u043b\\u043e\\u0432\\u043d\\u0430 \\u043f\\u043e\\u0441\\u0442\\u043d\\u0438\\u043a\\u043e\\u0432\\u0430\", \"\\u041a \\u041d \\u043d\\u0435\\u0437\\u043b\\u043e\\u0431\\u0438\\u043d\\u0430\", \"\\u0418 \\u0421 \\u043e\\u0441\\u0442\\u0440\\u043e\\u0443\\u0445\\u043e\\u0432\\u0430\", \"\\u0430\\u043d\\u0434\\u0440\\u0435\\u0439 \\u043d\\u0438\\u043a\\u043e\\u043b\\u0430\\u0435\\u0432\\u0438\\u0447 \\u043c\\u0443\\u0440\\u0430\\u0432\\u044c\\u0435\\u0432\", \"\\u0412 \\u0414 \\u0443\\u043b\\u0435\\u0437\\u044c\\u043a\\u043e\", \"\\u041d \\u0418 \\u0448\\u0438\\u0448\\u043a\\u0438\\u043d\", \"\\u0433\\u043b\\u0435\\u0431 \\u043c\\u0438\\u0445\\u0430\\u0439\\u043b\\u043e\\u0432\\u0438\\u0447 \\u0432\\u0430\\u043d\\u043d\\u043e\\u0432\\u0441\\u043a\\u0438\\u0439\", \"\\u0433\\u0435\\u043d\\u043d\\u0430\\u0434\\u0438\\u0439 \\u0438\\u0432\\u0430\\u043d\\u043e\\u0432\\u0438\\u0447 \\u0440\\u0435\\u0448\\u0435\\u0442\\u043d\\u0438\\u043a\\u043e\\u0432\", \"\\u0418 \\u0421 \\u0442\\u0443\\u0440\\u0433\\u0435\\u043d\\u0435\\u0432\", \"\\u041c \\u0412 \\u0430\\u043b\\u0435\\u043a\\u0441\\u0435\\u0435\\u0432\", \"\\u0412 \\u0410 \\u0431\\u043e\\u0431\\u0440\\u0438\\u043d\\u0441\\u043a\\u0438\\u0439\", \"\\u041d \\u0424 \\u0444\\u0451\\u0434\\u043e\\u0440\\u043e\\u0432\", \"\\u0432\\u043b\\u0430\\u0434\\u0438\\u043c\\u0438\\u0440 \\u043a\\u0430\\u0440\\u043b\\u043e\\u0432\\u0438\\u0447 \\u0441\\u0430\\u0431\\u043b\\u0435\\u0440\", \"\\u0412 \\u042d \\u0434\\u044b\\u043c\\u0448\\u0438\\u0446\", \"\\u041d \\u0410 \\u043c\\u0430\\u043b\\u044c\\u0446\\u0435\\u0432\", \"\\u0415 \\u0410 \\u043a\\u0430\\u0440\\u043f\\u043e\\u0432\", \"\\u0411 \\u0410 \\u0440\\u044b\\u0431\\u0430\\u043a\\u043e\\u0432\", \"\\u0412 \\u041c \\u0447\\u0435\\u0440\\u043d\\u043e\\u0432\", \"\\u041a \\u0410 \\u0432\\u0435\\u0440\\u0448\\u0438\\u043d\\u0438\\u043d\", \"\\u041d \\u0424 \\u0430\\u043d\\u043d\\u0435\\u043d\\u0441\\u043a\\u0438\\u0439\", \"\\u041c \\u0421 \\u0441\\u043e\\u043b\\u043e\\u043c\\u0435\\u043d\\u0446\\u0435\\u0432\\u0430\", \"\\u041b \\u041c \\u043b\\u043e\\u043f\\u0430\\u0442\\u0438\\u043d\", \"\\u0410 \\u041d \\u0433\\u0440\\u043e\\u043c\\u043e\\u0432\", \"\\u0410 \\u041d \\u0442\\u0438\\u0445\\u043e\\u043d\\u043e\\u0432\", \"\\u041c \\u0410 \\u0432\\u043e\\u043b\\u043e\\u0448\\u0438\\u043d\", \"\\u0412 \\u0418 \\u0433\\u0443\\u0441\\u0435\\u0432\", \"\\u041c \\u041d \\u043c\\u0443\\u0440\\u0430\\u0432\\u044c\\u0435\\u0432\\u0430\", \"\\u041c \\u041d \\u043a\\u043b\\u0438\\u043c\\u0435\\u043d\\u0442\\u043e\\u0432\\u0430\", \"\\u0410 \\u0410 \\u043e\\u0440\\u043b\\u043e\\u0432\", \"\\u0410 \\u041f \\u043c\\u044e\\u043b\\u043b\\u0435\\u0440\", \"\\u0412 \\u042d \\u043c\\u0435\\u0439\\u0435\\u0440\\u0445\\u043e\\u043b\\u044c\\u0434\", \"\\u0412 \\u0421 \\u0444\\u0451\\u0434\\u043e\\u0440\", \"\\u0432\\u0438\\u043a\\u0442\\u043e\\u0440 \\u0430\\u043b\\u0435\\u043a\\u0441\\u0430\\u043d\\u0434\\u0440\\u043e\\u0432\\u0438\\u0447 \\u043d\\u0438\\u043a\\u043e\\u043b\\u044c\\u0441\\u043a\\u0438\\u0439\", \"\\u0410 \\u0418 \\u043a\\u0443\\u043f\\u0440\\u0438\\u043d\", \"\\u0421 \\u0412 \\u0440\\u0430\\u0445\\u043c\\u0430\\u043d\\u0438\\u043d\\u043e\\u0432\", \"\\u0411 \\u0412 \\u0431\\u0435\\u043a\\u043a\\u0435\\u0440\", \"\\u0421 \\u0418 \\u0448\\u043b\\u0438\\u0444\\u0448\\u0442\\u0435\\u0439\\u043d\", \"\\u0410 \\u041f \\u043e\\u0441\\u0442\\u0440\\u043e\\u0443\\u043c\\u043e\\u0432\\u0430\", \"\\u0415 \\u0418 \\u0441\\u0438\\u043b\\u0438\\u043d\", \"\\u0432\\u044f\\u0447\\u0435\\u0441\\u043b\\u0430\\u0432 \\u043c\\u0438\\u0445\\u0430\\u0439\\u043b\\u043e\\u0432\\u0438\\u0447 \\u043c\\u043e\\u043b\\u043e\\u0442\\u043e\\u0432\", \"\\u043b\\u044e\\u0434\\u043c\\u0438\\u043b\\u0430 \\u0444\\u0438\\u043b\\u0438\\u043f\\u043f\\u043e\\u0432\\u043d\\u0430 \\u0431\\u0430\\u0431\\u0438\\u0446\\u043a\\u0430\\u044f\", \"\\u0438\\u0432\\u0430\\u043d \\u0433\\u0440\\u0438\\u0433\\u043e\\u0440\\u0438\\u0435\\u0432\\u0438\\u0447 \\u0438\\u0437\\u043c\\u0430\\u0439\\u043b\\u043e\\u0432\", \"\\u0432\\u0430\\u0434\\u0438\\u043c \\u043f\\u0430\\u0432\\u043b\\u043e\\u0432\\u0438\\u0447 \\u0433\\u0430\\u0440\\u0430\\u043c\", \"\\u041d \\u041f \\u0438\\u0433\\u043d\\u0430\\u0442\\u044c\\u0435\\u0432\\u0430\", \"\\u0412 \\u0412 \\u0438\\u0432\\u0430\\u043d\\u043e\\u0432\", \"\\u0444\\u0451\\u0434\\u043e\\u0440 \\u0435\\u0444\\u0438\\u043c\\u043e\\u0432\\u0438\\u0447 \\u0434\\u0435\\u043c\\u0438\\u043d\", \"\\u0444\\u0451\\u0434\\u043e\\u0440 \\u0444\\u0451\\u0434\\u043e\\u0440\\u043e\\u0432\\u0438\\u0447 \\u0444\\u0438\\u0434\\u043b\\u0435\\u0440\", \"\\u0410 \\u041d \\u043a\\u0440\\u044b\\u043b\\u043e\\u0432\\u0430\", \"\\u0430\\u043b\\u0435\\u043a\\u0441\\u0430\\u043d\\u0434\\u0440 \\u0438\\u0441\\u0430\\u0435\\u0432\\u0438\\u0447 \\u0441\\u043e\\u043b\\u0436\\u0435\\u043d\\u0438\\u0446\\u044b\\u043d\", \"\\u0422 \\u041c \\u0430\\u043b\\u0434\\u0430\\u043d\\u043e\\u0432\", \"\\u043d\\u0438\\u043a\\u043e\\u043b\\u0430\\u0439 \\u0438\\u0432\\u0430\\u043d\\u043e\\u0432\\u0438\\u0447 \\u0432\\u0430\\u0432\\u0438\\u043b\\u043e\\u0432\", \"\\u041f \\u0418 \\u0431\\u0435\\u043b\\u044f\\u0435\\u0432\", \"\\u0415 \\u0422 \\u0441\\u043a\\u043e\\u0440\\u0438\\u043a\", \"\\u041d \\u041f \\u0441\\u043c\\u0438\\u0440\\u043d\\u043e\\u0432\", \"\\u0418 \\u041c \\u0441\\u0442\\u0435\\u043f\\u0430\\u043d\\u043e\\u0432\", \"\\u041a \\u0410 \\u043a\\u0435\\u0440\\u0438\\u043c\\u043e\\u0432\", \"\\u043b\\u0435\\u0432 \\u0430\\u043b\\u0435\\u043a\\u0441\\u0430\\u043d\\u0434\\u0440\\u043e\\u0432\\u0438\\u0447 \\u0442\\u0438\\u0445\\u043e\\u043c\\u0438\\u0440\\u043e\\u0432\", \"\\u0410 \\u042f \\u0432\\u044b\\u0448\\u0438\\u043d\\u0441\\u043a\\u0438\\u0439\", \"\\u0434\\u043c\\u0438\\u0442\\u0440\\u0438\\u0439 \\u043c\\u0430\\u0442\\u0432\\u0435\\u0435\\u0432\\u0438\\u0447 \\u043f\\u043e\\u0437\\u0434\\u043d\\u0435\\u0435\\u0432\", \"\\u0421 \\u041b \\u0441\\u043e\\u043a\\u043e\\u043b\\u043e\\u0432\", \"\\u0412 \\u0424 \\u0441\\u0438\\u043c\\u0438\\u0440\\u0435\\u043d\\u043a\\u043e\", \"\\u0441\\u0442\\u0435\\u043f\\u0430\\u043d \\u043e\\u0441\\u0438\\u043f\\u043e\\u0432\\u0438\\u0447 \\u043c\\u0430\\u043a\\u0430\\u0440\\u043e\\u0432\", \"\\u0432\\u0430\\u043b\\u0435\\u043d\\u0442\\u0438\\u043d\\u0430 \\u0441\\u0435\\u0440\\u0433\\u0435\\u0435\\u0432\\u043d\\u0430 \\u0442\\u0440\\u0435\\u0433\\u0443\\u0431\\u043e\\u0432\\u0430\", \"\\u043d\\u0438\\u043a\\u043e\\u043b\\u0430\\u0439 \\u043c\\u0430\\u043a\\u0441\\u0438\\u043c\\u0438\\u043b\\u0438\\u0430\\u043d\\u043e\\u0432\\u0438\\u0447 \\u043b\\u0435\\u0439\\u0445\\u0442\\u0435\\u043d\\u0431\\u0435\\u0440\\u0433\\u0441\\u043a\\u0438\\u0439\", \"\\u041b \\u0410 \\u043c\\u0435\\u043b\\u0435\\u043d\\u0442\\u044c\\u0435\\u0432\", \"\\u041f \\u0418 \\u0441\\u0442\\u0435\\u043f\\u0430\\u043d\\u043e\\u0432\", \"\\u041f \\u041b \\u043a\\u0430\\u043f\\u0438\\u0446\\u0430\", \"\\u0412 \\u041d \\u0433\\u0430\\u043d\\u0438\\u0447\\u0435\\u0432\\u0430\", \"\\u0412 \\u0410 \\u043a\\u0430\\u0432\\u0435\\u0440\\u0438\\u043d\", \"\\u0410 \\u041c \\u0442\\u043e\\u043a\\u0430\\u0440\\u0435\\u0432\", \"\\u0421 \\u0418 \\u0445\\u0443\\u0434\\u044f\\u043a\\u043e\\u0432\", \"\\u0410 \\u041b \\u0442\\u043e\\u043b\\u0441\\u0442\\u0430\\u044f\", \"\\u041d \\u041d \\u043f\\u0443\\u043d\\u0438\\u043d\\u0430\", \"\\u044d\\u0434\\u0443\\u0430\\u0440\\u0434 \\u0430\\u043b\\u0435\\u043a\\u0441\\u0430\\u043d\\u0434\\u0440\\u043e\\u0432\\u0438\\u0447 \\u043a\\u043e\\u0432\\u0430\\u043b\\u0435\\u0432\\u0441\\u043a\\u0438\\u0439\", \"\\u042e \\u0415 \\u0448\\u0430\\u043c\\u0430\\u0440\\u0438\\u043d\", \"\\u0418 \\u0421 \\u0437\\u0438\\u043b\\u044c\\u0431\\u0435\\u0440\\u0448\\u0442\\u0435\\u0439\\u043d\", \"\\u043a\\u0430\\u043f\\u0438\\u0442\\u043e\\u043b\\u0438\\u043d\\u0430 \\u0438\\u0432\\u0430\\u043d\\u043e\\u0432\\u043d\\u0430 \\u043c\\u0430\\u0434\\u0440\\u043e\\u0431\\u0443\\u0440\\u0441\\u043a\\u0430\\u044f\", \"\\u0410 \\u0418 \\u0433\\u0443\\u043c\\u0438\\u043b\\u0435\\u0432\\u0430\", \"\\u0410 \\u041a \\u0433\\u043b\\u0430\\u0437\\u0443\\u043d\\u043e\\u0432\", \"\\u0412 \\u041d \\u043d\\u043e\\u0432\\u0438\\u043a\\u043e\\u0432\\u0430\", \"\\u041a \\u0415 \\u0432\\u043e\\u0440\\u043e\\u0448\\u0438\\u043b\\u043e\\u0432\\u0430\", \"\\u0410 \\u041e \\u0447\\u0443\\u0431\\u0430\\u0440\\u044c\\u044f\\u043d\", \"\\u0418 \\u0418 \\u0431\\u0440\\u043e\\u0434\\u0441\\u043a\\u0438\\u0439\", \"\\u0415 \\u0418 \\u0442\\u043e\\u043b\\u0441\\u0442\\u0438\\u043a\\u043e\\u0432\", \"\\u0410 \\u0410 \\u0444\\u043e\\u043c\\u0438\\u043d\", \"\\u041c \\u0412 \\u044e\\u0434\\u0438\\u043d\", \"\\u0410 \\u0412 \\u043a\\u0430\\u0440\\u0442\\u0430\\u0448\\u0435\\u0432\", \"\\u0426 \\u0413 \\u0431\\u0430\\u0434\\u043c\\u0430\\u0436\\u0430\\u043f\\u043e\\u0432\", \"\\u041f \\u0421 \\u0440\\u043e\\u0436\\u0438\\u0446\\u043a\\u0438\\u043c\", \"\\u0418 \\u0415 \\u0431\\u043e\\u043d\\u0434\\u0430\\u0440\\u0435\\u043d\\u043a\\u043e\", \"\\u0412 \\u041d \\u043f\\u043e\\u043b\\u044f\\u043a\", \"\\u041d \\u041c \\u0438\\u0432\\u0430\\u043d\\u0446\\u043e\\u0432\", \"\\u041d \\u042f \\u044d\\u0439\\u0434\\u0435\\u043b\\u044c\\u043c\\u0430\\u043d\", \"\\u0410 \\u041c \\u043a\\u043e\\u043d\\u043e\\u043f\\u043b\\u044f\\u043d\\u0446\\u0435\\u0432\", \"\\u043b\\u0438\\u0434\\u0438\\u044f \\u044f\\u043a\\u043e\\u0432\\u043b\\u0435\\u0432\\u043d\\u0430 \\u0433\\u0438\\u043d\\u0437\\u0431\\u0443\\u0440\\u0433\", \"\\u0412 \\u041d \\u044f\\u043a\\u043e\\u0432\\u043b\\u0435\\u0432\\u0430\", \"\\u041b \\u041c \\u0438\\u0432\\u0430\\u043d\\u043e\\u0432\", \"\\u0430\\u043d\\u043d\\u0430 \\u043f\\u0435\\u0442\\u0440\\u043e\\u0432\\u043d\\u0430 \\u043e\\u0441\\u0442\\u0440\\u043e\\u0443\\u043c\\u043e\\u0432\\u0430\", \"\\u0424 \\u0420 \\u043a\\u043e\\u0437\\u043b\\u043e\\u0432\", \"\\u0410 \\u0413 \\u0441\\u0435\\u0440\\u0433\\u0435\\u0435\\u0432\", \"\\u0410 \\u041c \\u0433\\u0435\\u0440\\u0430\\u0441\\u0438\\u043c\\u043e\\u0432\", \"\\u0412 \\u042f \\u0448\\u0435\\u0431\\u0430\\u043b\\u0438\\u043d\", \"\\u041d \\u0410 \\u043d\\u0430\\u0437\\u0430\\u0440\\u0431\\u0430\\u0435\\u0432\", \"\\u0410 \\u0412 \\u043a\\u0440\\u0438\\u0432\\u043e\\u0448\\u0435\\u0438\\u043d\", \"\\u043e\\u043b\\u044c\\u0433\\u0430 \\u0444\\u0440\\u0430\\u043d\\u0446\\u0435\\u0432\\u043d\\u0430 \\u0433\\u0430\\u0434\\u0437\\u0435\\u0446\\u043a\\u0430\\u044f\", \"\\u0411 \\u041c \\u0433\\u043b\\u0438\\u043d\\u0441\\u043a\\u0438\\u0439\", \"\\u0410 \\u041d \\u043e\\u0441\\u0442\\u0440\\u043e\\u0432\\u0441\\u043a\\u0438\\u0439\", \"\\u0415 \\u041d \\u043a\\u0430\\u0440\\u043f\\u043e\\u0432\\u0430\", \"\\u0410 \\u0410 \\u0438\\u0433\\u043d\\u0430\\u0442\\u044c\\u0435\\u0432\", \"\\u0412 \\u041f \\u043e\\u043b\\u0435\\u0439\\u043d\\u0438\\u043a\", \"\\u0418 \\u0421 \\u0430\\u043a\\u0441\\u0430\\u043a\\u043e\\u0432\", \"\\u042f \\u0418 \\u0444\\u0438\\u043d\\u043e\\u0433\\u0435\\u043d\\u043e\\u0432\", \"\\u043f\\u0451\\u0442\\u0440 \\u0430\\u043b\\u0435\\u043a\\u0441\\u0430\\u043d\\u0434\\u0440\\u043e\\u0432\\u0438\\u0447 \\u043e\\u043b\\u044c\\u0434\\u0435\\u043d\\u0431\\u0443\\u0440\\u0433\\u0441\\u043a\\u0438\\u0439\", \"\\u041c \\u041c \\u0444\\u0451\\u0434\\u043e\\u0440\\u043e\\u0432\", \"\\u0441\\u0435\\u0440\\u0433\\u0435\\u0439 \\u043d\\u0438\\u043a\\u043e\\u043b\\u0430\\u0435\\u0432\\u0438\\u0447 \\u0435\\u0441\\u0438\\u043d\", \"\\u041a \\u041a \\u0440\\u043e\\u043a\\u043e\\u0441\\u0441\\u043e\\u0432\\u0441\\u043a\\u0438\\u0439\", \"\\u0412 \\u041c \\u043f\\u0440\\u043e\\u043b\\u0435\\u0439\\u043a\\u043e\", \"\\u041f \\u041e \\u043c\\u043e\\u0440\\u043e\\u0437\\u043e\\u0432\", \"\\u041c \\u042f \\u0448\\u043d\\u0435\\u0439\\u0434\\u0435\\u0440\", \"\\u0410 \\u041b \\u043a\\u043e\\u0433\\u0430\\u043d\"], \"xaxis\": \"x\", \"y\": [437, 295, 252, 244, 225, 222, 215, 200, 178, 166, 162, 150, 130, 129, 127, 118, 118, 108, 105, 99, 97, 95, 93, 88, 83, 82, 75, 72, 70, 70, 67, 66, 62, 62, 61, 59, 59, 59, 59, 58, 58, 58, 57, 57, 56, 55, 55, 54, 54, 53, 52, 50, 50, 49, 49, 49, 48, 48, 48, 48, 47, 47, 47, 44, 44, 43, 43, 43, 43, 43, 43, 42, 42, 42, 42, 42, 42, 41, 41, 41, 41, 40, 40, 39, 39, 39, 39, 38, 38, 38, 38, 37, 37, 37, 37, 36, 36, 36, 35, 35, 35, 35, 35, 35, 35, 34, 34, 34, 34, 34, 33, 33, 33, 33, 33, 33, 33, 33, 33, 32, 32, 32, 32, 32, 32, 31, 31, 31, 31, 31, 31, 31, 31, 31, 31, 30, 30, 30, 30, 30, 30, 30, 30, 29, 29, 29, 29, 29, 29, 29, 29, 29, 28, 28, 28, 28, 28, 28, 28, 27, 27, 27, 27, 27, 26, 26, 26, 26, 26, 26, 26, 26, 26, 26, 26, 25, 25, 25, 25, 25, 25, 25, 25, 25, 25, 25, 24, 24, 24, 24, 24, 24, 24, 24, 24, 24, 24, 24, 24, 23, 23, 23, 23, 23, 23, 23, 23, 23, 23, 23, 23, 23, 23, 23, 22, 22, 22, 22, 22, 22, 22, 22, 22, 22, 22, 22, 22, 22, 21, 21, 21, 21, 21, 21, 21, 21, 21, 21, 21, 21, 21, 21, 21, 21, 21, 21, 21, 20, 20, 20, 20, 20, 20, 20, 20, 20, 20, 20, 20, 20, 20, 20, 20, 20, 20, 20, 20, 19, 19, 19, 19, 19, 19, 19, 19, 19, 19, 19, 19, 19, 19, 19, 19, 19, 19, 19, 19, 19, 19, 19, 19, 19, 19, 18, 18, 18, 18, 18, 18, 18, 18, 18, 18, 18, 18, 18, 18, 18, 18, 18, 18, 18, 18, 18, 17, 17, 17, 17, 17, 17, 17, 17, 17, 17, 17, 17, 17, 17, 17, 17, 17, 17, 17, 17, 17, 17, 17, 17, 17, 17, 17, 17, 16, 16, 16, 16, 16, 16, 16, 16, 16, 16, 16, 16, 16, 16, 16, 16, 16, 16, 16, 16, 16, 16, 16, 16, 16, 16, 16, 16, 16, 16, 16, 15, 15, 15, 15, 15, 15, 15, 15, 15, 15, 15, 15, 15, 15, 15, 15, 15, 15, 15, 15, 15, 15, 15, 15, 15, 15, 15, 15, 15, 15, 15, 15, 15, 15, 15, 15, 14, 14, 14, 14, 14, 14, 14, 14, 14, 14, 14, 14, 14, 14, 14, 14, 14, 14, 14, 14, 14, 14, 14, 14, 14, 14, 14, 14, 14, 14, 14, 14, 14, 14, 14, 14, 14, 14, 13, 13, 13, 13, 13, 13, 13, 13, 13, 13, 13, 13, 13, 13, 13, 13, 13, 13, 13, 13, 13, 13, 13, 13, 13, 13, 13, 13, 13, 13, 13, 13, 13, 13, 13, 13, 13, 13, 13, 13, 13, 13, 13, 13, 13, 13, 13, 13, 13, 13, 13, 13, 13, 13, 13, 13, 13, 13, 13, 13, 13, 13, 13, 13, 13, 13, 13, 13, 13, 13, 12, 12, 12, 12, 12, 12, 12, 12, 12, 12, 12, 12, 12, 12, 12, 12, 12, 12, 12, 12, 12, 12, 12, 12, 12, 12, 12, 12, 12, 12, 12, 12, 12, 12, 12, 12, 12, 12, 12, 12, 12, 12, 12, 12, 12, 12, 12, 12, 12, 12, 12, 12, 12, 12, 12, 11, 11, 11, 11, 11, 11, 11, 11, 11, 11, 11, 11, 11, 11, 11, 11, 11, 11, 11, 11, 11, 11, 11, 11, 11, 11, 11, 11, 11, 11, 11, 11, 11, 11, 11, 11, 11, 11, 11, 11, 11, 11, 11, 11, 11, 11, 11, 11, 11, 11, 11, 11, 11, 11, 11, 11, 11, 11, 11, 11], \"yaxis\": \"y\"}],\n",
       "                        {\"height\": 600, \"legend\": {\"tracegroupgap\": 0}, \"margin\": {\"t\": 60}, \"template\": {\"data\": {\"bar\": [{\"error_x\": {\"color\": \"#2a3f5f\"}, \"error_y\": {\"color\": \"#2a3f5f\"}, \"marker\": {\"line\": {\"color\": \"#E5ECF6\", \"width\": 0.5}}, \"type\": \"bar\"}], \"barpolar\": [{\"marker\": {\"line\": {\"color\": \"#E5ECF6\", \"width\": 0.5}}, \"type\": \"barpolar\"}], \"carpet\": [{\"aaxis\": {\"endlinecolor\": \"#2a3f5f\", \"gridcolor\": \"white\", \"linecolor\": \"white\", \"minorgridcolor\": \"white\", \"startlinecolor\": \"#2a3f5f\"}, \"baxis\": {\"endlinecolor\": \"#2a3f5f\", \"gridcolor\": \"white\", \"linecolor\": \"white\", \"minorgridcolor\": \"white\", \"startlinecolor\": \"#2a3f5f\"}, \"type\": \"carpet\"}], \"choropleth\": [{\"colorbar\": {\"outlinewidth\": 0, \"ticks\": \"\"}, \"type\": \"choropleth\"}], \"contour\": [{\"colorbar\": {\"outlinewidth\": 0, \"ticks\": \"\"}, \"colorscale\": [[0.0, \"#0d0887\"], [0.1111111111111111, \"#46039f\"], [0.2222222222222222, \"#7201a8\"], [0.3333333333333333, \"#9c179e\"], [0.4444444444444444, \"#bd3786\"], [0.5555555555555556, \"#d8576b\"], [0.6666666666666666, \"#ed7953\"], [0.7777777777777778, \"#fb9f3a\"], [0.8888888888888888, \"#fdca26\"], [1.0, \"#f0f921\"]], \"type\": \"contour\"}], \"contourcarpet\": [{\"colorbar\": {\"outlinewidth\": 0, \"ticks\": \"\"}, \"type\": \"contourcarpet\"}], \"heatmap\": [{\"colorbar\": {\"outlinewidth\": 0, \"ticks\": \"\"}, \"colorscale\": [[0.0, \"#0d0887\"], [0.1111111111111111, \"#46039f\"], [0.2222222222222222, \"#7201a8\"], [0.3333333333333333, \"#9c179e\"], [0.4444444444444444, \"#bd3786\"], [0.5555555555555556, \"#d8576b\"], [0.6666666666666666, \"#ed7953\"], [0.7777777777777778, \"#fb9f3a\"], [0.8888888888888888, \"#fdca26\"], [1.0, \"#f0f921\"]], \"type\": \"heatmap\"}], \"heatmapgl\": [{\"colorbar\": {\"outlinewidth\": 0, \"ticks\": \"\"}, \"colorscale\": [[0.0, \"#0d0887\"], [0.1111111111111111, \"#46039f\"], [0.2222222222222222, \"#7201a8\"], [0.3333333333333333, \"#9c179e\"], [0.4444444444444444, \"#bd3786\"], [0.5555555555555556, \"#d8576b\"], [0.6666666666666666, \"#ed7953\"], [0.7777777777777778, \"#fb9f3a\"], [0.8888888888888888, \"#fdca26\"], [1.0, \"#f0f921\"]], \"type\": \"heatmapgl\"}], \"histogram\": [{\"marker\": {\"colorbar\": {\"outlinewidth\": 0, \"ticks\": \"\"}}, \"type\": \"histogram\"}], \"histogram2d\": [{\"colorbar\": {\"outlinewidth\": 0, \"ticks\": \"\"}, \"colorscale\": [[0.0, \"#0d0887\"], [0.1111111111111111, \"#46039f\"], [0.2222222222222222, \"#7201a8\"], [0.3333333333333333, \"#9c179e\"], [0.4444444444444444, \"#bd3786\"], [0.5555555555555556, \"#d8576b\"], [0.6666666666666666, \"#ed7953\"], [0.7777777777777778, \"#fb9f3a\"], [0.8888888888888888, \"#fdca26\"], [1.0, \"#f0f921\"]], \"type\": \"histogram2d\"}], \"histogram2dcontour\": [{\"colorbar\": {\"outlinewidth\": 0, \"ticks\": \"\"}, \"colorscale\": [[0.0, \"#0d0887\"], [0.1111111111111111, \"#46039f\"], [0.2222222222222222, \"#7201a8\"], [0.3333333333333333, \"#9c179e\"], [0.4444444444444444, \"#bd3786\"], [0.5555555555555556, \"#d8576b\"], [0.6666666666666666, \"#ed7953\"], [0.7777777777777778, \"#fb9f3a\"], [0.8888888888888888, \"#fdca26\"], [1.0, \"#f0f921\"]], \"type\": \"histogram2dcontour\"}], \"mesh3d\": [{\"colorbar\": {\"outlinewidth\": 0, \"ticks\": \"\"}, \"type\": \"mesh3d\"}], \"parcoords\": [{\"line\": {\"colorbar\": {\"outlinewidth\": 0, \"ticks\": \"\"}}, \"type\": \"parcoords\"}], \"scatter\": [{\"marker\": {\"colorbar\": {\"outlinewidth\": 0, \"ticks\": \"\"}}, \"type\": \"scatter\"}], \"scatter3d\": [{\"line\": {\"colorbar\": {\"outlinewidth\": 0, \"ticks\": \"\"}}, \"marker\": {\"colorbar\": {\"outlinewidth\": 0, \"ticks\": \"\"}}, \"type\": \"scatter3d\"}], \"scattercarpet\": [{\"marker\": {\"colorbar\": {\"outlinewidth\": 0, \"ticks\": \"\"}}, \"type\": \"scattercarpet\"}], \"scattergeo\": [{\"marker\": {\"colorbar\": {\"outlinewidth\": 0, \"ticks\": \"\"}}, \"type\": \"scattergeo\"}], \"scattergl\": [{\"marker\": {\"colorbar\": {\"outlinewidth\": 0, \"ticks\": \"\"}}, \"type\": \"scattergl\"}], \"scattermapbox\": [{\"marker\": {\"colorbar\": {\"outlinewidth\": 0, \"ticks\": \"\"}}, \"type\": \"scattermapbox\"}], \"scatterpolar\": [{\"marker\": {\"colorbar\": {\"outlinewidth\": 0, \"ticks\": \"\"}}, \"type\": \"scatterpolar\"}], \"scatterpolargl\": [{\"marker\": {\"colorbar\": {\"outlinewidth\": 0, \"ticks\": \"\"}}, \"type\": \"scatterpolargl\"}], \"scatterternary\": [{\"marker\": {\"colorbar\": {\"outlinewidth\": 0, \"ticks\": \"\"}}, \"type\": \"scatterternary\"}], \"surface\": [{\"colorbar\": {\"outlinewidth\": 0, \"ticks\": \"\"}, \"colorscale\": [[0.0, \"#0d0887\"], [0.1111111111111111, \"#46039f\"], [0.2222222222222222, \"#7201a8\"], [0.3333333333333333, \"#9c179e\"], [0.4444444444444444, \"#bd3786\"], [0.5555555555555556, \"#d8576b\"], [0.6666666666666666, \"#ed7953\"], [0.7777777777777778, \"#fb9f3a\"], [0.8888888888888888, \"#fdca26\"], [1.0, \"#f0f921\"]], \"type\": \"surface\"}], \"table\": [{\"cells\": {\"fill\": {\"color\": \"#EBF0F8\"}, \"line\": {\"color\": \"white\"}}, \"header\": {\"fill\": {\"color\": \"#C8D4E3\"}, \"line\": {\"color\": \"white\"}}, \"type\": \"table\"}]}, \"layout\": {\"annotationdefaults\": {\"arrowcolor\": \"#2a3f5f\", \"arrowhead\": 0, \"arrowwidth\": 1}, \"colorscale\": {\"diverging\": [[0, \"#8e0152\"], [0.1, \"#c51b7d\"], [0.2, \"#de77ae\"], [0.3, \"#f1b6da\"], [0.4, \"#fde0ef\"], [0.5, \"#f7f7f7\"], [0.6, \"#e6f5d0\"], [0.7, \"#b8e186\"], [0.8, \"#7fbc41\"], [0.9, \"#4d9221\"], [1, \"#276419\"]], \"sequential\": [[0.0, \"#0d0887\"], [0.1111111111111111, \"#46039f\"], [0.2222222222222222, \"#7201a8\"], [0.3333333333333333, \"#9c179e\"], [0.4444444444444444, \"#bd3786\"], [0.5555555555555556, \"#d8576b\"], [0.6666666666666666, \"#ed7953\"], [0.7777777777777778, \"#fb9f3a\"], [0.8888888888888888, \"#fdca26\"], [1.0, \"#f0f921\"]], \"sequentialminus\": [[0.0, \"#0d0887\"], [0.1111111111111111, \"#46039f\"], [0.2222222222222222, \"#7201a8\"], [0.3333333333333333, \"#9c179e\"], [0.4444444444444444, \"#bd3786\"], [0.5555555555555556, \"#d8576b\"], [0.6666666666666666, \"#ed7953\"], [0.7777777777777778, \"#fb9f3a\"], [0.8888888888888888, \"#fdca26\"], [1.0, \"#f0f921\"]]}, \"colorway\": [\"#636efa\", \"#EF553B\", \"#00cc96\", \"#ab63fa\", \"#FFA15A\", \"#19d3f3\", \"#FF6692\", \"#B6E880\", \"#FF97FF\", \"#FECB52\"], \"font\": {\"color\": \"#2a3f5f\"}, \"geo\": {\"bgcolor\": \"white\", \"lakecolor\": \"white\", \"landcolor\": \"#E5ECF6\", \"showlakes\": true, \"showland\": true, \"subunitcolor\": \"white\"}, \"hoverlabel\": {\"align\": \"left\"}, \"hovermode\": \"closest\", \"mapbox\": {\"style\": \"light\"}, \"paper_bgcolor\": \"white\", \"plot_bgcolor\": \"#E5ECF6\", \"polar\": {\"angularaxis\": {\"gridcolor\": \"white\", \"linecolor\": \"white\", \"ticks\": \"\"}, \"bgcolor\": \"#E5ECF6\", \"radialaxis\": {\"gridcolor\": \"white\", \"linecolor\": \"white\", \"ticks\": \"\"}}, \"scene\": {\"xaxis\": {\"backgroundcolor\": \"#E5ECF6\", \"gridcolor\": \"white\", \"gridwidth\": 2, \"linecolor\": \"white\", \"showbackground\": true, \"ticks\": \"\", \"zerolinecolor\": \"white\"}, \"yaxis\": {\"backgroundcolor\": \"#E5ECF6\", \"gridcolor\": \"white\", \"gridwidth\": 2, \"linecolor\": \"white\", \"showbackground\": true, \"ticks\": \"\", \"zerolinecolor\": \"white\"}, \"zaxis\": {\"backgroundcolor\": \"#E5ECF6\", \"gridcolor\": \"white\", \"gridwidth\": 2, \"linecolor\": \"white\", \"showbackground\": true, \"ticks\": \"\", \"zerolinecolor\": \"white\"}}, \"shapedefaults\": {\"line\": {\"color\": \"#2a3f5f\"}}, \"ternary\": {\"aaxis\": {\"gridcolor\": \"white\", \"linecolor\": \"white\", \"ticks\": \"\"}, \"baxis\": {\"gridcolor\": \"white\", \"linecolor\": \"white\", \"ticks\": \"\"}, \"bgcolor\": \"#E5ECF6\", \"caxis\": {\"gridcolor\": \"white\", \"linecolor\": \"white\", \"ticks\": \"\"}}, \"title\": {\"x\": 0.05}, \"xaxis\": {\"automargin\": true, \"gridcolor\": \"white\", \"linecolor\": \"white\", \"ticks\": \"\", \"zerolinecolor\": \"white\", \"zerolinewidth\": 2}, \"yaxis\": {\"automargin\": true, \"gridcolor\": \"white\", \"linecolor\": \"white\", \"ticks\": \"\", \"zerolinecolor\": \"white\", \"zerolinewidth\": 2}}}, \"xaxis\": {\"anchor\": \"y\", \"domain\": [0.0, 0.98], \"title\": {\"text\": \"person\"}}, \"yaxis\": {\"anchor\": \"x\", \"domain\": [0.0, 1.0], \"title\": {\"text\": \"count\"}}},\n",
       "                        {\"responsive\": true}\n",
       "                    ).then(function(){\n",
       "                            \n",
       "var gd = document.getElementById('b1fdf283-4061-4ac8-acee-baecfd86c668');\n",
       "var x = new MutationObserver(function (mutations, observer) {{\n",
       "        var display = window.getComputedStyle(gd).display;\n",
       "        if (!display || display === 'none') {{\n",
       "            console.log([gd, 'removed!']);\n",
       "            Plotly.purge(gd);\n",
       "            observer.disconnect();\n",
       "        }}\n",
       "}});\n",
       "\n",
       "// Listen for the removal of the full notebook cells\n",
       "var notebookContainer = gd.closest('#notebook-container');\n",
       "if (notebookContainer) {{\n",
       "    x.observe(notebookContainer, {childList: true});\n",
       "}}\n",
       "\n",
       "// Listen for the clearing of the current output cell\n",
       "var outputEl = gd.closest('.output');\n",
       "if (outputEl) {{\n",
       "    x.observe(outputEl, {childList: true});\n",
       "}}\n",
       "\n",
       "                        })\n",
       "                };\n",
       "                });\n",
       "            </script>\n",
       "        </div>"
      ]
     },
     "metadata": {},
     "output_type": "display_data"
    }
   ],
   "source": [
    "import plotly.express as px\n",
    "import pandas as pd\n",
    "df = pd.DataFrame.from_dict(c, orient='index').reset_index()\n",
    "df = df.rename(columns={'index':'person', 0:'count'})\n",
    "df = df[df['count'] > 10] # Remove people with only ten occurences\n",
    "df = df.sort_values('count', ascending=False)\n",
    "\n",
    "fig = px.scatter(df, x=\"person\", y='count')\n",
    "fig.show()"
   ]
  },
  {
   "cell_type": "code",
   "execution_count": null,
   "metadata": {},
   "outputs": [],
   "source": []
  }
 ],
 "metadata": {
  "kernelspec": {
   "display_name": "Django Shell-Plus",
   "language": "python",
   "name": "django_extensions"
  },
  "language_info": {
   "codemirror_mode": {
    "name": "ipython",
    "version": 3
   },
   "file_extension": ".py",
   "mimetype": "text/x-python",
   "name": "python",
   "nbconvert_exporter": "python",
   "pygments_lexer": "ipython3",
   "version": "3.7.3"
  }
 },
 "nbformat": 4,
 "nbformat_minor": 2
}
